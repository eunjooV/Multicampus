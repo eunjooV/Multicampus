{
 "cells": [
  {
   "cell_type": "code",
   "execution_count": 1,
   "metadata": {},
   "outputs": [
    {
     "data": {
      "text/plain": [
       "array([[ 1.13597027,  0.08842168,  0.99615451,  1.01752612],\n",
       "       [-1.01457897,  0.85326268, -1.30498732, -1.25489349],\n",
       "       [-0.05021989, -0.88337647,  0.34773781,  0.2815273 ]])"
      ]
     },
     "execution_count": 1,
     "metadata": {},
     "output_type": "execute_result"
    }
   ],
   "source": [
    "from sklearn import datasets\n",
    "from sklearn.preprocessing import StandardScaler\n",
    "from sklearn.cluster import KMeans\n",
    "iris = datasets.load_iris() # 데이터 로드\n",
    "features = iris.data\n",
    "scaler = StandardScaler() # 특성 표준화\n",
    "features_std = scaler.fit_transform(features)\n",
    "cluster = KMeans(n_clusters=3, random_state=0, n_jobs=-1) # k-평균 객체 생성\n",
    "model = cluster.fit(features_std) # 모델 훈련\n",
    "model.labels_ # 예측 클래스 확인\n",
    "iris.target # 진짜 클래스 확인\n",
    "new_observation = [[0.8, 0.8, 0.8, 0.8]] #New Sample Data\n",
    "model.predict(new_observation) # 샘플의 클러스터를 예측\n",
    "model.cluster_centers_"
   ]
  },
  {
   "cell_type": "code",
   "execution_count": 3,
   "metadata": {},
   "outputs": [
    {
     "ename": "IndentationError",
     "evalue": "expected an indented block (<ipython-input-3-427c0ae62109>, line 6)",
     "output_type": "error",
     "traceback": [
      "\u001b[1;36m  File \u001b[1;32m\"<ipython-input-3-427c0ae62109>\"\u001b[1;36m, line \u001b[1;32m6\u001b[0m\n\u001b[1;33m    kmeans = KMeans(n_clusters=n, random_state=0, n_jobs=-1)\u001b[0m\n\u001b[1;37m         ^\u001b[0m\n\u001b[1;31mIndentationError\u001b[0m\u001b[1;31m:\u001b[0m expected an indented block\n"
     ]
    }
   ],
   "source": [
    "model.inertia_\n",
    "model.score(features_std) #score가 inertia에 해당하는 값\n",
    "model.transform(new_observation)\n",
    "inertia = []\n",
    "for n in range(1, 10):\n",
    "kmeans = KMeans(n_clusters=n, random_state=0, n_jobs=-1)\n",
    "inertia.append(kmeans.fit(features_std).inertia_)\n",
    "import matplotlib.pyplot as plt\n",
    "plt.plot(range(1, 10), inertia)\n",
    "plt.show()"
   ]
  },
  {
   "cell_type": "code",
   "execution_count": 4,
   "metadata": {},
   "outputs": [
    {
     "ename": "IndentationError",
     "evalue": "expected an indented block (<ipython-input-4-93c5175d3d8e>, line 12)",
     "output_type": "error",
     "traceback": [
      "\u001b[1;36m  File \u001b[1;32m\"<ipython-input-4-93c5175d3d8e>\"\u001b[1;36m, line \u001b[1;32m12\u001b[0m\n\u001b[1;33m    mb_kmeans.partial_fit(features_std[i*50:(i+1)*50])\u001b[0m\n\u001b[1;37m            ^\u001b[0m\n\u001b[1;31mIndentationError\u001b[0m\u001b[1;31m:\u001b[0m expected an indented block\n"
     ]
    }
   ],
   "source": [
    "from sklearn import datasets\n",
    "from sklearn.preprocessing import StandardScaler\n",
    "from sklearn.cluster import MiniBatchKMeans\n",
    "iris = datasets.load_iris() # 데이터 로드\n",
    "features = iris.data\n",
    "scaler = StandardScaler() # 특성을 표준화\n",
    "features_std = scaler.fit_transform(features)\n",
    "cluster = MiniBatchKMeans(n_clusters=3, random_state=0, batch_size=100)\n",
    "model = cluster.fit(features_std) # 모델 훈련\n",
    "mb_kmeans = MiniBatchKMeans()\n",
    "for i in range(3):\n",
    "mb_kmeans.partial_fit(features_std[i*50:(i+1)*50]) "
   ]
  },
  {
   "cell_type": "code",
   "execution_count": null,
   "metadata": {},
   "outputs": [],
   "source": []
  }
 ],
 "metadata": {
  "kernelspec": {
   "display_name": "Python 3",
   "language": "python",
   "name": "python3"
  },
  "language_info": {
   "codemirror_mode": {
    "name": "ipython",
    "version": 3
   },
   "file_extension": ".py",
   "mimetype": "text/x-python",
   "name": "python",
   "nbconvert_exporter": "python",
   "pygments_lexer": "ipython3",
   "version": "3.7.3"
  }
 },
 "nbformat": 4,
 "nbformat_minor": 2
}
