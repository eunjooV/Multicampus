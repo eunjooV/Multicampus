{
 "cells": [
  {
   "cell_type": "code",
   "execution_count": 2,
   "metadata": {},
   "outputs": [],
   "source": [
    "from bs4 import BeautifulSoup\n",
    "import requests\n",
    "import re\n",
    "import pandas as pd"
   ]
  },
  {
   "cell_type": "code",
   "execution_count": 3,
   "metadata": {},
   "outputs": [],
   "source": [
    "from bs4 import BeautifulSoup\n",
    "import requests\n",
    "import re\n",
    "import pandas as pd\n",
    "\n",
    "try_to_text = lambda x : x.text if x else None\n",
    "url = 'https://www.imdb.com/search/title/?count=100&release_date=2019,2019&title_type=feature'\n",
    "res = requests.get(url)\n",
    "soup = BeautifulSoup(res.text, 'html.parser')\n",
    "df = pd.DataFrame()\n",
    "\n",
    "for ele in soup.select('.lister-item-content'):\n",
    "    # 100개의 (각 영화의 정보를 가지고 있는)엘리먼트에 대한 loop\n",
    "    # 딕셔너리에 엘리먼트로부터 수집한 영화 정보를 할당하고 dataframe에\n",
    "    # 딕셔너리를 행으로 추가\n",
    "\n",
    "    # 처리가 간단한 정보는 딕셔너리에 바로 할당\n",
    "    row = {\n",
    "        'rank': ele.select_one('.lister-item-index').text.replace('.', ''),\n",
    "        'title': ele.select_one('.lister-item-header > a').text,\n",
    "        'description': ele.select('p.text-muted')[1].text.replace('\\n', ' '),\n",
    "        'runtime': ele.select_one('.runtime').text[:-4],\n",
    "        'genre': ele.select_one('.genre').text,\n",
    "        'rating': ele.select_one('.ratings-imdb-rating > strong').text,\n",
    "        'metascore': try_to_text(ele.select_one('.metascore')),\n",
    "        'votes': None,\n",
    "        'gross': None,\n",
    "    }\n",
    "\n",
    "    # 처리가 복잡한 정보는 파싱하여 딕셔너리에 할당\n",
    "    votes_n_gross = ele.select_one('.sort-num_votes-visible').get_text()\n",
    "    director_n_star = ele.select_one('p:nth-of-type(3)').get_text()\n",
    "    pattern = re.compile(r'[\\s\\n$M]')\n",
    "    for data in votes_n_gross.split('|'):\n",
    "        key, val = re.sub(pattern, '', data).split(':')\n",
    "        row[key.lower()] = float(val.replace(',', ''))\n",
    "    for data in director_n_star.split('|'):\n",
    "        key, val = data.replace('\\n', '').split(':')\n",
    "        if 'Directors' in key:\n",
    "            key = 'director'\n",
    "        row[key.lower().strip()] = val.strip()\n",
    "\n",
    "    # 딕셔너리를 dataframe의 행으로 추가\n",
    "    df = df.append(row, ignore_index=True)"
   ]
  },
  {
   "cell_type": "code",
   "execution_count": 3,
   "metadata": {},
   "outputs": [],
   "source": [
    "try_to_text = lambda x: x.test if x else None\n",
    "url = 'https://www.imdb.com/search/title/?count=100&relase_date=2020,2020&title_type=feature'\n",
    "res = requests.get(url)\n",
    "soup = BeautifulSoup(res.text, 'html.parser')\n",
    "\n",
    "df = pd.DataFrame()"
   ]
  },
  {
   "cell_type": "code",
   "execution_count": 10,
   "metadata": {},
   "outputs": [
    {
     "name": "stdout",
     "output_type": "stream",
     "text": [
      "[]\n"
     ]
    }
   ],
   "source": [
    "data = soup.find_all('item')\n",
    "print(data)"
   ]
  },
  {
   "cell_type": "code",
   "execution_count": 4,
   "metadata": {},
   "outputs": [
    {
     "ename": "NameError",
     "evalue": "name 'lower' is not defined",
     "output_type": "error",
     "traceback": [
      "\u001b[1;31m---------------------------------------------------------------------------\u001b[0m",
      "\u001b[1;31mNameError\u001b[0m                                 Traceback (most recent call last)",
      "\u001b[1;32m<ipython-input-4-7df9998f3e17>\u001b[0m in \u001b[0;36m<module>\u001b[1;34m\u001b[0m\n\u001b[0;32m     17\u001b[0m     \u001b[1;32mfor\u001b[0m \u001b[0mdata\u001b[0m \u001b[1;32min\u001b[0m \u001b[0mvotes_n_gross\u001b[0m\u001b[1;33m.\u001b[0m\u001b[0msplit\u001b[0m\u001b[1;33m(\u001b[0m\u001b[1;34m'|'\u001b[0m\u001b[1;33m)\u001b[0m\u001b[1;33m:\u001b[0m\u001b[1;33m\u001b[0m\u001b[1;33m\u001b[0m\u001b[0m\n\u001b[0;32m     18\u001b[0m         \u001b[0mkey\u001b[0m\u001b[1;33m,\u001b[0m \u001b[0mval\u001b[0m \u001b[1;33m=\u001b[0m \u001b[0mre\u001b[0m\u001b[1;33m.\u001b[0m\u001b[0msub\u001b[0m\u001b[1;33m(\u001b[0m\u001b[0mpattern\u001b[0m\u001b[1;33m,\u001b[0m\u001b[1;34m''\u001b[0m\u001b[1;33m,\u001b[0m\u001b[0mdata\u001b[0m\u001b[1;33m)\u001b[0m\u001b[1;33m.\u001b[0m\u001b[0msplit\u001b[0m\u001b[1;33m(\u001b[0m\u001b[1;34m':'\u001b[0m\u001b[1;33m)\u001b[0m\u001b[1;33m\u001b[0m\u001b[1;33m\u001b[0m\u001b[0m\n\u001b[1;32m---> 19\u001b[1;33m         \u001b[0mrow\u001b[0m\u001b[1;33m[\u001b[0m\u001b[0mkey\u001b[0m\u001b[1;33m,\u001b[0m\u001b[0mlower\u001b[0m\u001b[1;33m(\u001b[0m\u001b[1;33m)\u001b[0m\u001b[1;33m]\u001b[0m \u001b[1;33m=\u001b[0m \u001b[0mfloat\u001b[0m\u001b[1;33m(\u001b[0m\u001b[0mval\u001b[0m\u001b[1;33m.\u001b[0m\u001b[0mreplace\u001b[0m\u001b[1;33m(\u001b[0m\u001b[1;34m','\u001b[0m\u001b[1;33m,\u001b[0m\u001b[1;34m''\u001b[0m\u001b[1;33m)\u001b[0m\u001b[1;33m)\u001b[0m\u001b[1;33m\u001b[0m\u001b[1;33m\u001b[0m\u001b[0m\n\u001b[0m\u001b[0;32m     20\u001b[0m     \u001b[1;32mfor\u001b[0m \u001b[0mdata\u001b[0m \u001b[1;32min\u001b[0m \u001b[0mdirector_n_star\u001b[0m\u001b[1;33m.\u001b[0m\u001b[0msplit\u001b[0m\u001b[1;33m(\u001b[0m\u001b[1;34m'|'\u001b[0m\u001b[1;33m)\u001b[0m\u001b[1;33m:\u001b[0m\u001b[1;33m\u001b[0m\u001b[1;33m\u001b[0m\u001b[0m\n\u001b[0;32m     21\u001b[0m         \u001b[0mkey\u001b[0m\u001b[1;33m,\u001b[0m\u001b[0mval\u001b[0m \u001b[1;33m=\u001b[0m \u001b[0mdata\u001b[0m\u001b[1;33m.\u001b[0m\u001b[0mreplace\u001b[0m\u001b[1;33m(\u001b[0m\u001b[1;34m'\\n'\u001b[0m\u001b[1;33m,\u001b[0m\u001b[1;34m''\u001b[0m\u001b[1;33m)\u001b[0m\u001b[1;33m.\u001b[0m\u001b[0msplit\u001b[0m\u001b[1;33m(\u001b[0m\u001b[1;34m':'\u001b[0m\u001b[1;33m)\u001b[0m\u001b[1;33m\u001b[0m\u001b[1;33m\u001b[0m\u001b[0m\n",
      "\u001b[1;31mNameError\u001b[0m: name 'lower' is not defined"
     ]
    }
   ],
   "source": [
    "for ele in soup.select('.lister-item-content'):\n",
    "    row = {\n",
    "        'rank': ele.select_one('.lister-item-index').text.replace('.',''),\n",
    "        'title':ele.select_one('.lister-item-header > a').text,\n",
    "        'description': ele.select('p.text-muted')[1].text.replace('\\n',''),\n",
    "        'runtime':ele.select_one('.runtime').text[:-4],\n",
    "        'genre': ele.select_one('.genre').text,\n",
    "        'rating':ele.select_one('.ratings-imdb-rating > strong').text,\n",
    "        'metascore': try_to_text(ele.select_one('.metascore')),\n",
    "        'votes':None,\n",
    "        'gross':None\n",
    "    }\n",
    "    \n",
    "    #votes_n_gross = ele.select_one('.sort-num-votes-visible').get_text()\n",
    "    director_n_star = ele.select_one('p:nth-of-type(3)').get_text()\n",
    "    pattern = re.compile(r'[\\s\\n$M]')\n",
    "    for data in votes_n_gross.split('|'):\n",
    "        key, val = re.sub(pattern,'',data).split(':')\n",
    "        row[key,lower()] = float(val.replace(',',''))\n",
    "    for data in director_n_star.split('|'):\n",
    "        key,val = data.replace('\\n','').split(':')\n",
    "        if 'Directors' in key:\n",
    "            key = 'director'\n",
    "        row[key.lower().strip()] = val.strip()\n",
    "        \n",
    "    df = df.append(row, ignore_index = True)\n",
    "    \n",
    "df.to_csv('C:/Users/손은주/Multicampus/part2/movie2020_info.csv')"
   ]
  },
  {
   "cell_type": "code",
   "execution_count": 11,
   "metadata": {},
   "outputs": [],
   "source": [
    "import pandas as pd\n",
    "import numpy as np\n",
    "from bs4 import BeautifulSoup\n",
    "import requests\n",
    "import re\n",
    " \n",
    "\n",
    "#request 모듈 사용\n",
    "url = 'http://www.imdb.com/search/title?count=100&release_date=2020,2020&title_type=feature'\n",
    "req = requests.get(url)\n",
    "html = req.text\n",
    "soup = BeautifulSoup(html, 'html.parser')"
   ]
  },
  {
   "cell_type": "code",
   "execution_count": 12,
   "metadata": {},
   "outputs": [
    {
     "name": "stdout",
     "output_type": "stream",
     "text": [
      "100\n",
      "[1, 2, 3, 4, 5, 6, 7, 8, 9, 10, 11, 12, 13, 14, 15, 16, 17, 18, 19, 20, 21, 22, 23, 24, 25, 26, 27, 28, 29, 30, 31, 32, 33, 34, 35, 36, 37, 38, 39, 40, 41, 42, 43, 44, 45, 46, 47, 48, 49, 50, 51, 52, 53, 54, 55, 56, 57, 58, 59, 60, 61, 62, 63, 64, 65, 66, 67, 68, 69, 70, 71, 72, 73, 74, 75, 76, 77, 78, 79, 80, 81, 82, 83, 84, 85, 86, 87, 88, 89, 90, 91, 92, 93, 94, 95, 96, 97, 98, 99, 100]\n"
     ]
    }
   ],
   "source": [
    "#각 컬럼 별 리스트로 저장\n",
    "box = soup.select('.lister-item-content')  \n",
    "\n",
    "#rank\n",
    "rank_list = []\n",
    "for i in box:\n",
    "    textline = i.select_one('h3 > .lister-item-index.unbold.text-primary')\n",
    "    textline = textline.text\n",
    "    textline = re.sub('[\\n.]','',textline)\n",
    "    rank_list.append(int(textline))\n",
    "print(len(rank_list))\n",
    "print(rank_list)"
   ]
  },
  {
   "cell_type": "code",
   "execution_count": 16,
   "metadata": {},
   "outputs": [
    {
     "name": "stdout",
     "output_type": "stream",
     "text": [
      "100\n",
      "['Dil Bechara', 'The Kissing Booth 2', 'The Old Guard', 'After We Collided', '365 dni', 'Greyhound', 'Palm Springs', 'The Rental', 'Hamilton', 'Eurovision Song Contest: The Story of Fire Saga', 'Bill & Ted Face the Music', 'Deep Blue Sea 3', 'Tenet', 'Double World', 'The Outpost', 'Dune', 'Kajillionaire', 'Target Number One', 'The Silencing', 'Raat Akeli Hai', 'Train to Busan 2', 'Unhinged', 'Black Is King', 'The New Mutants', 'Ofrenda a la tormenta', 'Wonder Woman 1984', 'The Invisible Man', 'The F**k-It List', 'Relic', 'Extraction', 'The Hunt', 'Scoob!', 'Shakuntala Devi', 'Amulet', 'Trolls World Tour', 'The King of Staten Island', 'The Big Ugly', 'No Time to Die', 'Birds of Prey: And the Fantabulous Emancipation of One Harley Quinn', 'Mulan', 'Bad Boys for Life', 'Sala samobójców. Hejter', 'Archive', 'Money Plane', 'The Secret: Dare to Dream', 'Desperados', 'You Should Have Left', 'Fatal Affair', 'Becky', 'Project Power', 'Black Widow', 'The Wrong Missy', 'Summerland', 'Lootcase', 'My Spy', 'Emma.', 'Rogue', 'Onward', 'Fantasy Island', 'Feel the Beat', 'Ghosts of War', 'Sonic the Hedgehog', 'Bloodshot', 'Artemis Fowl', 'An American Pickle', 'Da 5 Bloods', 'Legacy of Lies', 'Chemical Hearts', 'Ava', 'Yaara', 'The Very Excellent Mr. Dundee', 'Capone', 'Dolittle', 'Spenser Confidential', \"The King's Man\", 'Underwater', 'Honest Thief', 'A Quiet Place Part II', 'She Dies Tomorrow', 'Coming 2 America', 'Free Guy', 'Unbelievable!!!!!', 'Greenland', 'Irresistible', 'The Call of the Wild', 'Force of Nature', 'The Way Back', '2 Hearts', 'Gretel & Hansel', 'West Side Story', 'Arkansas', 'Black Water: Abyss', 'Survive the Night', 'Escape from Pretoria', 'The Tax Collector', 'Spider-Man 4: Fan Film', 'The Last Days of American Crime', 'A Nice Girl Like You', 'Vtorzhenie', 'The Grudge']\n"
     ]
    }
   ],
   "source": [
    "#title\n",
    "title_list = []\n",
    "for i in box:\n",
    "    textline = i.select_one('h3 > a')\n",
    "    textline = textline.text\n",
    "    title_list.append(textline)\n",
    "print(len(title_list))\n",
    "print(title_list)"
   ]
  },
  {
   "cell_type": "code",
   "execution_count": 14,
   "metadata": {},
   "outputs": [
    {
     "ename": "AttributeError",
     "evalue": "'NoneType' object has no attribute 'text'",
     "output_type": "error",
     "traceback": [
      "\u001b[1;31m---------------------------------------------------------------------------\u001b[0m",
      "\u001b[1;31mAttributeError\u001b[0m                            Traceback (most recent call last)",
      "\u001b[1;32m<ipython-input-14-f5fac4154a38>\u001b[0m in \u001b[0;36m<module>\u001b[1;34m\u001b[0m\n\u001b[0;32m      3\u001b[0m \u001b[1;32mfor\u001b[0m \u001b[0mi\u001b[0m \u001b[1;32min\u001b[0m \u001b[0mbox\u001b[0m\u001b[1;33m:\u001b[0m\u001b[1;33m\u001b[0m\u001b[1;33m\u001b[0m\u001b[0m\n\u001b[0;32m      4\u001b[0m     \u001b[0mtextline\u001b[0m \u001b[1;33m=\u001b[0m \u001b[0mi\u001b[0m\u001b[1;33m.\u001b[0m\u001b[0mselect_one\u001b[0m\u001b[1;33m(\u001b[0m\u001b[1;34m'p.text-muted:nth-of-type(2)'\u001b[0m\u001b[1;33m)\u001b[0m\u001b[1;33m\u001b[0m\u001b[1;33m\u001b[0m\u001b[0m\n\u001b[1;32m----> 5\u001b[1;33m     \u001b[0mtextline\u001b[0m \u001b[1;33m=\u001b[0m \u001b[0mtextline\u001b[0m\u001b[1;33m.\u001b[0m\u001b[0mtext\u001b[0m\u001b[1;33m\u001b[0m\u001b[1;33m\u001b[0m\u001b[0m\n\u001b[0m\u001b[0;32m      6\u001b[0m     \u001b[0mtextline\u001b[0m \u001b[1;33m=\u001b[0m \u001b[0mre\u001b[0m\u001b[1;33m.\u001b[0m\u001b[0msub\u001b[0m\u001b[1;33m(\u001b[0m\u001b[1;34m'[\\n]'\u001b[0m\u001b[1;33m,\u001b[0m\u001b[1;34m''\u001b[0m\u001b[1;33m,\u001b[0m\u001b[0mtextline\u001b[0m\u001b[1;33m)\u001b[0m\u001b[1;33m\u001b[0m\u001b[1;33m\u001b[0m\u001b[0m\n\u001b[0;32m      7\u001b[0m     \u001b[0mdescription_list\u001b[0m\u001b[1;33m.\u001b[0m\u001b[0mappend\u001b[0m\u001b[1;33m(\u001b[0m\u001b[0mtextline\u001b[0m\u001b[1;33m)\u001b[0m\u001b[1;33m\u001b[0m\u001b[1;33m\u001b[0m\u001b[0m\n",
      "\u001b[1;31mAttributeError\u001b[0m: 'NoneType' object has no attribute 'text'"
     ]
    }
   ],
   "source": [
    "#description\n",
    "description_list = []\n",
    "for i in box:\n",
    "    textline = i.select_one('p.text-muted:nth-of-type(2)')\n",
    "    textline = textline.text\n",
    "    textline = re.sub('[\\n]','',textline)\n",
    "    description_list.append(textline)\n",
    "print(len(description_list))\n",
    "print(description_list)"
   ]
  },
  {
   "cell_type": "code",
   "execution_count": 15,
   "metadata": {},
   "outputs": [
    {
     "ename": "AttributeError",
     "evalue": "'NoneType' object has no attribute 'text'",
     "output_type": "error",
     "traceback": [
      "\u001b[1;31m---------------------------------------------------------------------------\u001b[0m",
      "\u001b[1;31mAttributeError\u001b[0m                            Traceback (most recent call last)",
      "\u001b[1;32m<ipython-input-15-2c209c7f9836>\u001b[0m in \u001b[0;36m<module>\u001b[1;34m\u001b[0m\n\u001b[0;32m      3\u001b[0m \u001b[1;32mfor\u001b[0m \u001b[0mi\u001b[0m \u001b[1;32min\u001b[0m \u001b[0mbox\u001b[0m\u001b[1;33m:\u001b[0m\u001b[1;33m\u001b[0m\u001b[1;33m\u001b[0m\u001b[0m\n\u001b[0;32m      4\u001b[0m     \u001b[0mtextline\u001b[0m \u001b[1;33m=\u001b[0m \u001b[0mi\u001b[0m\u001b[1;33m.\u001b[0m\u001b[0mselect_one\u001b[0m\u001b[1;33m(\u001b[0m\u001b[1;34m'p > .runtime'\u001b[0m\u001b[1;33m)\u001b[0m\u001b[1;33m\u001b[0m\u001b[1;33m\u001b[0m\u001b[0m\n\u001b[1;32m----> 5\u001b[1;33m     \u001b[0mtextline\u001b[0m \u001b[1;33m=\u001b[0m \u001b[0mtextline\u001b[0m\u001b[1;33m.\u001b[0m\u001b[0mtext\u001b[0m\u001b[1;33m\u001b[0m\u001b[1;33m\u001b[0m\u001b[0m\n\u001b[0m\u001b[0;32m      6\u001b[0m     \u001b[0mtextline\u001b[0m \u001b[1;33m=\u001b[0m \u001b[0mre\u001b[0m\u001b[1;33m.\u001b[0m\u001b[0msub\u001b[0m\u001b[1;33m(\u001b[0m\u001b[1;34m'[min]'\u001b[0m\u001b[1;33m,\u001b[0m \u001b[1;34m''\u001b[0m\u001b[1;33m,\u001b[0m\u001b[0mtextline\u001b[0m\u001b[1;33m)\u001b[0m\u001b[1;33m\u001b[0m\u001b[1;33m\u001b[0m\u001b[0m\n\u001b[0;32m      7\u001b[0m     \u001b[0mruntime_list\u001b[0m\u001b[1;33m.\u001b[0m\u001b[0mappend\u001b[0m\u001b[1;33m(\u001b[0m\u001b[0mint\u001b[0m\u001b[1;33m(\u001b[0m\u001b[0mtextline\u001b[0m\u001b[1;33m)\u001b[0m\u001b[1;33m)\u001b[0m\u001b[1;33m\u001b[0m\u001b[1;33m\u001b[0m\u001b[0m\n",
      "\u001b[1;31mAttributeError\u001b[0m: 'NoneType' object has no attribute 'text'"
     ]
    }
   ],
   "source": [
    "#runtime\n",
    "runtime_list = []\n",
    "for i in box:\n",
    "    textline = i.select_one('p > .runtime')\n",
    "    textline = textline.text\n",
    "    textline = re.sub('[min]', '',textline)\n",
    "    runtime_list.append(int(textline))\n",
    "print(len(runtime_list))\n",
    "print(runtime_list)"
   ]
  },
  {
   "cell_type": "code",
   "execution_count": 19,
   "metadata": {},
   "outputs": [
    {
     "name": "stdout",
     "output_type": "stream",
     "text": [
      "100\n",
      "['Comedy,Drama,Romance', 'Comedy,Romance', 'Action,Adventure,Fantasy', 'Drama,Romance', 'Drama,Romance', 'Action,Drama,History', 'Comedy,Fantasy,Mystery', 'Horror,Thriller', 'Biography,Drama,History', 'Comedy,Music', 'Comedy,Music,Sci-Fi', 'Action,Horror,Sci-Fi', 'Action,Sci-Fi,Thriller', 'Action,Adventure,Fantasy', 'Drama,History,War', 'Adventure,Drama,Sci-Fi', 'Crime,Drama', 'Biography,Crime,Thriller', 'Action,Crime,Thriller', 'Crime,Drama,Mystery', 'Action,Horror,Thriller', 'Thriller', 'Adventure,Drama,Fantasy', 'Action,Horror,Sci-Fi', 'Crime,Thriller', 'Action,Adventure,Fantasy', 'Horror,Mystery,Sci-Fi', 'Comedy', 'Drama,Horror', 'Action,Thriller', 'Action,Horror,Thriller', 'Animation,Adventure,Comedy', 'Drama', 'Horror', 'Animation,Adventure,Comedy', 'Comedy,Drama', 'Drama', 'Action,Adventure,Thriller', 'Action,Adventure,Crime', 'Action,Adventure,Drama', 'Action,Comedy,Crime', 'Drama,Thriller', 'Sci-Fi', 'Action', 'Drama,Romance', 'Comedy,Romance', 'Drama,Horror,Mystery', 'Drama,Thriller', 'Action,Drama,Horror', 'Action,Crime,Sci-Fi', 'Action,Adventure,Sci-Fi', 'Comedy,Romance', 'Drama,War', 'Comedy', 'Action,Comedy,Family', 'Comedy,Drama', 'Action', 'Animation,Adventure,Comedy', 'Adventure,Fantasy,Horror', 'Comedy,Drama,Family', 'Horror,Thriller,War', 'Action,Adventure,Comedy', 'Action,Drama,Sci-Fi', 'Adventure,Family,Fantasy', 'Comedy', 'Adventure,Drama,War', 'Action,Thriller', 'Drama,Romance', 'Action,Crime,Drama', 'Action,Crime,Drama', 'Comedy', 'Biography,Crime,Drama', 'Adventure,Comedy,Family', 'Action,Comedy,Crime', 'Action,Adventure,Comedy', 'Action,Horror,Sci-Fi', 'Action,Crime,Drama', 'Drama,Horror,Sci-Fi', 'Comedy,Drama,Thriller', 'Comedy', 'Action,Adventure,Comedy', 'Comedy,Sci-Fi', 'Action,Thriller', 'Comedy,Drama', 'Adventure,Drama,Family', 'Action,Drama', 'Drama,Sport', 'Drama,Romance', 'Fantasy,Horror,Mystery', 'Crime,Drama,Musical', 'Crime,Drama,Thriller', 'Action,Drama,Horror', 'Action,Drama,Thriller', 'Thriller', 'Action,Crime,Drama', 'Action,Adventure,Drama', 'Action,Crime,Thriller', 'Comedy,Romance', 'Action,Sci-Fi', 'Horror,Mystery']\n"
     ]
    }
   ],
   "source": [
    "# genre\n",
    "genre_list = []\n",
    "for i in box:\n",
    "    textline = i.select_one('p > .genre')\n",
    "    #print(textline)\n",
    "    textline = textline.text\n",
    "    textline = re.sub('[\\n ]', '',textline)\n",
    "    genre_list.append(textline)\n",
    "print(len(genre_list))\n",
    "print(genre_list)"
   ]
  },
  {
   "cell_type": "code",
   "execution_count": 20,
   "metadata": {},
   "outputs": [
    {
     "ename": "AttributeError",
     "evalue": "'NoneType' object has no attribute 'attrs'",
     "output_type": "error",
     "traceback": [
      "\u001b[1;31m---------------------------------------------------------------------------\u001b[0m",
      "\u001b[1;31mAttributeError\u001b[0m                            Traceback (most recent call last)",
      "\u001b[1;32m<ipython-input-20-4d6c1cdb2c10>\u001b[0m in \u001b[0;36m<module>\u001b[1;34m\u001b[0m\n\u001b[0;32m      2\u001b[0m \u001b[0mrating_list\u001b[0m \u001b[1;33m=\u001b[0m \u001b[1;33m[\u001b[0m\u001b[1;33m]\u001b[0m\u001b[1;33m\u001b[0m\u001b[1;33m\u001b[0m\u001b[0m\n\u001b[0;32m      3\u001b[0m \u001b[1;32mfor\u001b[0m \u001b[0mi\u001b[0m \u001b[1;32min\u001b[0m \u001b[0mbox\u001b[0m\u001b[1;33m:\u001b[0m\u001b[1;33m\u001b[0m\u001b[1;33m\u001b[0m\u001b[0m\n\u001b[1;32m----> 4\u001b[1;33m     \u001b[0mtextline\u001b[0m \u001b[1;33m=\u001b[0m \u001b[0mi\u001b[0m\u001b[1;33m.\u001b[0m\u001b[0mselect_one\u001b[0m\u001b[1;33m(\u001b[0m\u001b[1;34m'.inline-block.ratings-imdb-rating'\u001b[0m\u001b[1;33m)\u001b[0m\u001b[1;33m.\u001b[0m\u001b[0mattrs\u001b[0m\u001b[1;33m.\u001b[0m\u001b[0mget\u001b[0m\u001b[1;33m(\u001b[0m\u001b[1;34m\"data-value\"\u001b[0m\u001b[1;33m)\u001b[0m\u001b[1;33m\u001b[0m\u001b[1;33m\u001b[0m\u001b[0m\n\u001b[0m\u001b[0;32m      5\u001b[0m     \u001b[0mrating_list\u001b[0m\u001b[1;33m.\u001b[0m\u001b[0mappend\u001b[0m\u001b[1;33m(\u001b[0m\u001b[0mfloat\u001b[0m\u001b[1;33m(\u001b[0m\u001b[0mtextline\u001b[0m\u001b[1;33m)\u001b[0m\u001b[1;33m)\u001b[0m\u001b[1;33m\u001b[0m\u001b[1;33m\u001b[0m\u001b[0m\n\u001b[0;32m      6\u001b[0m \u001b[0mprint\u001b[0m\u001b[1;33m(\u001b[0m\u001b[0mlen\u001b[0m\u001b[1;33m(\u001b[0m\u001b[0mrating_list\u001b[0m\u001b[1;33m)\u001b[0m\u001b[1;33m)\u001b[0m\u001b[1;33m\u001b[0m\u001b[1;33m\u001b[0m\u001b[0m\n",
      "\u001b[1;31mAttributeError\u001b[0m: 'NoneType' object has no attribute 'attrs'"
     ]
    }
   ],
   "source": [
    "#rating\n",
    "rating_list = []\n",
    "for i in box:\n",
    "    textline = i.select_one('.inline-block.ratings-imdb-rating').attrs.get(\"data-value\")\n",
    "    rating_list.append(float(textline))\n",
    "print(len(rating_list))\n",
    "print(rating_list)\n"
   ]
  },
  {
   "cell_type": "code",
   "execution_count": 21,
   "metadata": {},
   "outputs": [
    {
     "name": "stdout",
     "output_type": "stream",
     "text": [
      "100\n",
      "[0, 39, 70, 0, 0, 64, 84, 63, 90, 50, 0, 0, 0, 0, 71, 0, 80, 62, 0, 0, 0, 46, 84, 0, 0, 0, 72, 0, 77, 56, 50, 43, 0, 64, 51, 67, 50, 0, 60, 0, 59, 61, 67, 0, 32, 41, 46, 34, 53, 0, 0, 33, 55, 0, 46, 71, 0, 61, 22, 0, 38, 47, 44, 31, 58, 82, 0, 0, 0, 0, 0, 46, 26, 49, 0, 48, 0, 0, 83, 0, 0, 0, 0, 47, 47, 29, 66, 0, 64, 0, 55, 0, 26, 56, 0, 0, 15, 41, 0, 41]\n"
     ]
    }
   ],
   "source": [
    "#metascore\n",
    "metascore_list = []\n",
    "for i in box:\n",
    "    textline = i.select_one('.metascore')\n",
    "    #print(textline)\n",
    "    if textline == None:\n",
    "        metascore_list.append(0)\n",
    "        continue\n",
    "    textline = textline.text\n",
    "    metascore_list.append(int(textline))\n",
    "print(len(metascore_list))\n",
    "print(metascore_list)"
   ]
  },
  {
   "cell_type": "code",
   "execution_count": 22,
   "metadata": {},
   "outputs": [
    {
     "ename": "NotImplementedError",
     "evalue": "Only the following pseudo-classes are implemented: nth-of-type.",
     "output_type": "error",
     "traceback": [
      "\u001b[1;31m---------------------------------------------------------------------------\u001b[0m",
      "\u001b[1;31mNotImplementedError\u001b[0m                       Traceback (most recent call last)",
      "\u001b[1;32m<ipython-input-22-4b8d97f56212>\u001b[0m in \u001b[0;36m<module>\u001b[1;34m\u001b[0m\n\u001b[0;32m      4\u001b[0m     \u001b[1;31m#textline = i.select_one(\"p.sort-num_votes-visible > span:nth-child(5)\").attrs.get(\"data-value\",0)\u001b[0m\u001b[1;33m\u001b[0m\u001b[1;33m\u001b[0m\u001b[1;33m\u001b[0m\u001b[0m\n\u001b[0;32m      5\u001b[0m     \u001b[1;32mtry\u001b[0m\u001b[1;33m:\u001b[0m\u001b[1;33m\u001b[0m\u001b[1;33m\u001b[0m\u001b[0m\n\u001b[1;32m----> 6\u001b[1;33m         \u001b[0mtextline\u001b[0m \u001b[1;33m=\u001b[0m \u001b[0mi\u001b[0m\u001b[1;33m.\u001b[0m\u001b[0mselect_one\u001b[0m\u001b[1;33m(\u001b[0m\u001b[1;34m'p.sort-num_votes-visible > span:nth-child(2)'\u001b[0m\u001b[1;33m)\u001b[0m\u001b[1;33m.\u001b[0m\u001b[0mattrs\u001b[0m\u001b[1;33m.\u001b[0m\u001b[0mget\u001b[0m\u001b[1;33m(\u001b[0m\u001b[1;34m\"data-value\"\u001b[0m\u001b[1;33m)\u001b[0m\u001b[1;33m\u001b[0m\u001b[1;33m\u001b[0m\u001b[0m\n\u001b[0m\u001b[0;32m      7\u001b[0m     \u001b[1;32mexcept\u001b[0m \u001b[0mAttributeError\u001b[0m\u001b[1;33m:\u001b[0m\u001b[1;33m\u001b[0m\u001b[1;33m\u001b[0m\u001b[0m\n\u001b[0;32m      8\u001b[0m         \u001b[0mvote_list\u001b[0m\u001b[1;33m.\u001b[0m\u001b[0mappend\u001b[0m\u001b[1;33m(\u001b[0m\u001b[1;36m0\u001b[0m\u001b[1;33m)\u001b[0m\u001b[1;33m\u001b[0m\u001b[1;33m\u001b[0m\u001b[0m\n",
      "\u001b[1;32mC:\\Anaconda\\lib\\site-packages\\bs4\\element.py\u001b[0m in \u001b[0;36mselect_one\u001b[1;34m(self, selector)\u001b[0m\n\u001b[0;32m   1338\u001b[0m     \u001b[1;32mdef\u001b[0m \u001b[0mselect_one\u001b[0m\u001b[1;33m(\u001b[0m\u001b[0mself\u001b[0m\u001b[1;33m,\u001b[0m \u001b[0mselector\u001b[0m\u001b[1;33m)\u001b[0m\u001b[1;33m:\u001b[0m\u001b[1;33m\u001b[0m\u001b[1;33m\u001b[0m\u001b[0m\n\u001b[0;32m   1339\u001b[0m         \u001b[1;34m\"\"\"Perform a CSS selection operation on the current element.\"\"\"\u001b[0m\u001b[1;33m\u001b[0m\u001b[1;33m\u001b[0m\u001b[0m\n\u001b[1;32m-> 1340\u001b[1;33m         \u001b[0mvalue\u001b[0m \u001b[1;33m=\u001b[0m \u001b[0mself\u001b[0m\u001b[1;33m.\u001b[0m\u001b[0mselect\u001b[0m\u001b[1;33m(\u001b[0m\u001b[0mselector\u001b[0m\u001b[1;33m,\u001b[0m \u001b[0mlimit\u001b[0m\u001b[1;33m=\u001b[0m\u001b[1;36m1\u001b[0m\u001b[1;33m)\u001b[0m\u001b[1;33m\u001b[0m\u001b[1;33m\u001b[0m\u001b[0m\n\u001b[0m\u001b[0;32m   1341\u001b[0m         \u001b[1;32mif\u001b[0m \u001b[0mvalue\u001b[0m\u001b[1;33m:\u001b[0m\u001b[1;33m\u001b[0m\u001b[1;33m\u001b[0m\u001b[0m\n\u001b[0;32m   1342\u001b[0m             \u001b[1;32mreturn\u001b[0m \u001b[0mvalue\u001b[0m\u001b[1;33m[\u001b[0m\u001b[1;36m0\u001b[0m\u001b[1;33m]\u001b[0m\u001b[1;33m\u001b[0m\u001b[1;33m\u001b[0m\u001b[0m\n",
      "\u001b[1;32mC:\\Anaconda\\lib\\site-packages\\bs4\\element.py\u001b[0m in \u001b[0;36mselect\u001b[1;34m(self, selector, _candidate_generator, limit)\u001b[0m\n\u001b[0;32m   1530\u001b[0m                     print(\"    Running candidate generator on %s %s\" % (\n\u001b[0;32m   1531\u001b[0m                         tag.name, repr(tag.attrs)))\n\u001b[1;32m-> 1532\u001b[1;33m                 \u001b[1;32mfor\u001b[0m \u001b[0mcandidate\u001b[0m \u001b[1;32min\u001b[0m \u001b[0m_use_candidate_generator\u001b[0m\u001b[1;33m(\u001b[0m\u001b[0mtag\u001b[0m\u001b[1;33m)\u001b[0m\u001b[1;33m:\u001b[0m\u001b[1;33m\u001b[0m\u001b[1;33m\u001b[0m\u001b[0m\n\u001b[0m\u001b[0;32m   1533\u001b[0m                     \u001b[1;32mif\u001b[0m \u001b[1;32mnot\u001b[0m \u001b[0misinstance\u001b[0m\u001b[1;33m(\u001b[0m\u001b[0mcandidate\u001b[0m\u001b[1;33m,\u001b[0m \u001b[0mTag\u001b[0m\u001b[1;33m)\u001b[0m\u001b[1;33m:\u001b[0m\u001b[1;33m\u001b[0m\u001b[1;33m\u001b[0m\u001b[0m\n\u001b[0;32m   1534\u001b[0m                         \u001b[1;32mcontinue\u001b[0m\u001b[1;33m\u001b[0m\u001b[1;33m\u001b[0m\u001b[0m\n",
      "\u001b[1;32mC:\\Anaconda\\lib\\site-packages\\bs4\\element.py\u001b[0m in \u001b[0;36mrecursive_select\u001b[1;34m(tag)\u001b[0m\n\u001b[0;32m   1491\u001b[0m                         \u001b[0mprint\u001b[0m\u001b[1;33m(\u001b[0m\u001b[1;34m'    Calling select(\"%s\") recursively on %s %s'\u001b[0m \u001b[1;33m%\u001b[0m \u001b[1;33m(\u001b[0m\u001b[0mnext_token\u001b[0m\u001b[1;33m,\u001b[0m \u001b[0mtag\u001b[0m\u001b[1;33m.\u001b[0m\u001b[0mname\u001b[0m\u001b[1;33m,\u001b[0m \u001b[0mtag\u001b[0m\u001b[1;33m.\u001b[0m\u001b[0mattrs\u001b[0m\u001b[1;33m)\u001b[0m\u001b[1;33m)\u001b[0m\u001b[1;33m\u001b[0m\u001b[1;33m\u001b[0m\u001b[0m\n\u001b[0;32m   1492\u001b[0m                         \u001b[0mprint\u001b[0m\u001b[1;33m(\u001b[0m\u001b[1;34m'-'\u001b[0m \u001b[1;33m*\u001b[0m \u001b[1;36m40\u001b[0m\u001b[1;33m)\u001b[0m\u001b[1;33m\u001b[0m\u001b[1;33m\u001b[0m\u001b[0m\n\u001b[1;32m-> 1493\u001b[1;33m                     \u001b[1;32mfor\u001b[0m \u001b[0mi\u001b[0m \u001b[1;32min\u001b[0m \u001b[0mtag\u001b[0m\u001b[1;33m.\u001b[0m\u001b[0mselect\u001b[0m\u001b[1;33m(\u001b[0m\u001b[0mnext_token\u001b[0m\u001b[1;33m,\u001b[0m \u001b[0mrecursive_candidate_generator\u001b[0m\u001b[1;33m)\u001b[0m\u001b[1;33m:\u001b[0m\u001b[1;33m\u001b[0m\u001b[1;33m\u001b[0m\u001b[0m\n\u001b[0m\u001b[0;32m   1494\u001b[0m                         \u001b[1;32mif\u001b[0m \u001b[0mself\u001b[0m\u001b[1;33m.\u001b[0m\u001b[0m_select_debug\u001b[0m\u001b[1;33m:\u001b[0m\u001b[1;33m\u001b[0m\u001b[1;33m\u001b[0m\u001b[0m\n\u001b[0;32m   1495\u001b[0m                             \u001b[0mprint\u001b[0m\u001b[1;33m(\u001b[0m\u001b[1;34m'(Recursive select picked up candidate %s %s)'\u001b[0m \u001b[1;33m%\u001b[0m \u001b[1;33m(\u001b[0m\u001b[0mi\u001b[0m\u001b[1;33m.\u001b[0m\u001b[0mname\u001b[0m\u001b[1;33m,\u001b[0m \u001b[0mi\u001b[0m\u001b[1;33m.\u001b[0m\u001b[0mattrs\u001b[0m\u001b[1;33m)\u001b[0m\u001b[1;33m)\u001b[0m\u001b[1;33m\u001b[0m\u001b[1;33m\u001b[0m\u001b[0m\n",
      "\u001b[1;32mC:\\Anaconda\\lib\\site-packages\\bs4\\element.py\u001b[0m in \u001b[0;36mselect\u001b[1;34m(self, selector, _candidate_generator, limit)\u001b[0m\n\u001b[0;32m   1449\u001b[0m                 \u001b[1;32melse\u001b[0m\u001b[1;33m:\u001b[0m\u001b[1;33m\u001b[0m\u001b[1;33m\u001b[0m\u001b[0m\n\u001b[0;32m   1450\u001b[0m                     raise NotImplementedError(\n\u001b[1;32m-> 1451\u001b[1;33m                         'Only the following pseudo-classes are implemented: nth-of-type.')\n\u001b[0m\u001b[0;32m   1452\u001b[0m \u001b[1;33m\u001b[0m\u001b[0m\n\u001b[0;32m   1453\u001b[0m             \u001b[1;32melif\u001b[0m \u001b[0mtoken\u001b[0m \u001b[1;33m==\u001b[0m \u001b[1;34m'*'\u001b[0m\u001b[1;33m:\u001b[0m\u001b[1;33m\u001b[0m\u001b[1;33m\u001b[0m\u001b[0m\n",
      "\u001b[1;31mNotImplementedError\u001b[0m: Only the following pseudo-classes are implemented: nth-of-type."
     ]
    }
   ],
   "source": [
    "#vote\n",
    "vote_list = []\n",
    "for i in box:\n",
    "    #textline = i.select_one(\"p.sort-num_votes-visible > span:nth-child(5)\").attrs.get(\"data-value\",0)\n",
    "    try:\n",
    "        textline = i.select_one('p.sort-num_votes-visible > span:nth-child(2)').attrs.get(\"data-value\")\n",
    "    except AttributeError:\n",
    "        vote_list.append(0)\n",
    "        continue\n",
    "    textline = re.sub(',','',textline)\n",
    "    vote_list.append(int(textline))\n",
    "print(len(vote_list))\n",
    "print(vote_list)"
   ]
  },
  {
   "cell_type": "code",
   "execution_count": null,
   "metadata": {},
   "outputs": [],
   "source": []
  }
 ],
 "metadata": {
  "kernelspec": {
   "display_name": "Python 3",
   "language": "python",
   "name": "python3"
  },
  "language_info": {
   "codemirror_mode": {
    "name": "ipython",
    "version": 3
   },
   "file_extension": ".py",
   "mimetype": "text/x-python",
   "name": "python",
   "nbconvert_exporter": "python",
   "pygments_lexer": "ipython3",
   "version": "3.7.7"
  }
 },
 "nbformat": 4,
 "nbformat_minor": 2
}
