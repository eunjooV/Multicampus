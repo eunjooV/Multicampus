{
 "cells": [
  {
   "cell_type": "code",
   "execution_count": 1,
   "metadata": {},
   "outputs": [
    {
     "name": "stdout",
     "output_type": "stream",
     "text": [
      "원본 특성 개수: 64\n",
      "줄어든 특성 개수: 54\n"
     ]
    }
   ],
   "source": [
    "from sklearn.preprocessing import StandardScaler\n",
    "from sklearn.decomposition import PCA\n",
    "from sklearn import datasets\n",
    "digits = datasets.load_digits() # 8X8 크기의 손글씨 숫자 데이터 로드\n",
    "features = StandardScaler().fit_transform(digits.data) # 특성 행렬을 표준화 처리\n",
    "# 99%의 분산을 유지하도록 PCA 클래스 객체를 만듭니다.\n",
    "pca = PCA(n_components=0.99, whiten=True)\n",
    "features_pca = pca.fit_transform(features) # PCA를 수행\n",
    "print(\"원본 특성 개수:\", features.shape[1]) # 결과를 확인\n",
    "print(\"줄어든 특성 개수:\", features_pca.shape[1])"
   ]
  },
  {
   "cell_type": "code",
   "execution_count": 2,
   "metadata": {},
   "outputs": [
    {
     "data": {
      "text/plain": [
       "<Figure size 640x480 with 1 Axes>"
      ]
     },
     "metadata": {},
     "output_type": "display_data"
    },
    {
     "data": {
      "text/plain": [
       "<Figure size 640x480 with 1 Axes>"
      ]
     },
     "metadata": {},
     "output_type": "display_data"
    },
    {
     "data": {
      "text/plain": [
       "(54, 64)"
      ]
     },
     "execution_count": 2,
     "metadata": {},
     "output_type": "execute_result"
    }
   ],
   "source": [
    "# 주성분에 투영된 처음 두 개의 특성을 사용해 산점도 출력\n",
    "import matplotlib.pyplot as plt\n",
    "plt.scatter(features_pca[:, 0], features_pca[:, 1])\n",
    "plt.show()\n",
    "pca_nowhiten = PCA(n_components=0.99)\n",
    "features_nowhiten = pca_nowhiten.fit_transform(features)\n",
    "plt.scatter(features_nowhiten[:, 0], features_nowhiten[:, 1])\n",
    "plt.show()\n",
    "pca_nowhiten.components_.shape"
   ]
  },
  {
   "cell_type": "code",
   "execution_count": 3,
   "metadata": {},
   "outputs": [
    {
     "data": {
      "image/png": "[encoded data removed]",
      "text/plain": [
       "<Figure size 432x288 with 1 Axes>"
      ]
     },
     "metadata": {
      "needs_background": "light"
     },
     "output_type": "display_data"
    },
    {
     "data": {
      "image/png": "[encoded data removed]",
      "text/plain": [
       "<Figure size 432x288 with 1 Axes>"
      ]
     },
     "metadata": {
      "needs_background": "light"
     },
     "output_type": "display_data"
    }
   ],
   "source": [
    "import numpy as np\n",
    "np.allclose(features_nowhiten, np.dot(features, pca_nowhiten.components_.T))\n",
    "pca = PCA(whiten=True).fit(features)\n",
    "plt.plot(np.cumsum(pca.explained_variance_ratio_))\n",
    "plt.show()\n",
    "#넘파이 cumsum()를 사용하여 분산을 누적하여 그래프 출력\n",
    "#대략 30개의 주성분으로도 80% 이상의 분산을 유지\n",
    "\n",
    "# 표준화하지 않은 원본 데이터를 사용합니다.(올바르게 분산으로 계산하기 위해서 원본 데이터를 PCA에 주입)\n",
    "pca.fit(digits.data)\n",
    "plt.plot(np.cumsum(pca.explained_variance_ratio_))\n",
    "plt.show()"
   ]
  },
  {
   "cell_type": "code",
   "execution_count": 4,
   "metadata": {},
   "outputs": [
    {
     "name": "stdout",
     "output_type": "stream",
     "text": [
      "원본 특성 개수: 2\n",
      "줄어든 특성 개수: 1\n"
     ]
    }
   ],
   "source": [
    "from sklearn.decomposition import KernelPCA\n",
    "from sklearn.datasets import make_circles\n",
    "# 선형적으로 구분되지 않는 데이터를 만듭니다.\n",
    "features, _ = make_circles(n_samples=1000, random_state=1, noise=0.1, factor=0.1)\n",
    "# 방사 기저 함수(radius basis function, RBF)를 사용하여 커널 PCA를 적용합니다.\n",
    "kpca = KernelPCA(kernel=\"rbf\", gamma=15, n_components=1)\n",
    "features_kpca = kpca.fit_transform(features)\n",
    "print(\"원본 특성 개수:\", features.shape[1])\n",
    "print(\"줄어든 특성 개수:\", features_kpca.shape[1])"
   ]
  },
  {
   "cell_type": "code",
   "execution_count": 5,
   "metadata": {},
   "outputs": [
    {
     "name": "stdout",
     "output_type": "stream",
     "text": [
      "원본 특성 개수: 4\n",
      "줄어든 특성 개수: 1\n"
     ]
    },
    {
     "data": {
      "text/plain": [
       "array([0.9912126])"
      ]
     },
     "execution_count": 5,
     "metadata": {},
     "output_type": "execute_result"
    }
   ],
   "source": [
    "from sklearn import datasets\n",
    "from sklearn.discriminant_analysis import LinearDiscriminantAnalysis\n",
    "iris = datasets.load_iris() # 붓꽃 데이터셋을 로드합니다.\n",
    "features = iris.data\n",
    "target = iris.target\n",
    "# LDA 객체를 만들고 실행하여 특성을 변환합니다.\n",
    "lda = LinearDiscriminantAnalysis(n_components=1)\n",
    "features_lda = lda.fit(features, target).transform(features)\n",
    "print(\"원본 특성 개수:\", features.shape[1]) # 특성 개수를 출력합니다\n",
    "print(\"줄어든 특성 개수:\", features_lda.shape[1])\n",
    "#explained_variance_ratio_를 사용하여 각 성분이 설명하는 분산의 양을 확인\n",
    "lda.explained_variance_ratio_"
   ]
  },
  {
   "cell_type": "code",
   "execution_count": 6,
   "metadata": {},
   "outputs": [
    {
     "data": {
      "text/plain": [
       "1"
      ]
     },
     "execution_count": 6,
     "metadata": {},
     "output_type": "execute_result"
    }
   ],
   "source": [
    "lda = LinearDiscriminantAnalysis(n_components=None) # LDA를 만들고 실행\n",
    "features_lda = lda.fit(features, target)\n",
    "# 설명된 분산의 비율이 담긴 배열을 저장합니다.\n",
    "lda_var_ratios = lda.explained_variance_ratio_\n",
    "def select_n_components(var_ratio, goal_var: float) -> int:\n",
    "    total_variance = 0.0 # 설명된 분산의 초기값을 지정\n",
    "    n_components = 0 # 특성 개수의 초깃값을 지정\n",
    "    for explained_variance in var_ratio: # 각 특성의 설명된 분산을 순회\n",
    "        total_variance += explained_variance # 설명된 분산 값을 누적\n",
    "        n_components += 1 # 성분 개수를 카운트\n",
    "        if total_variance >= goal_var: # 설명된 분산이 목표치에 도달하면\n",
    "            break # 반복을 종료\n",
    "    return n_components # 성분 개수를 반환\n",
    "select_n_components(lda_var_ratios, 0.95) # 함수를 실행"
   ]
  },
  {
   "cell_type": "code",
   "execution_count": 7,
   "metadata": {},
   "outputs": [
    {
     "name": "stdout",
     "output_type": "stream",
     "text": [
      "원본 특성 개수: 64\n",
      "줄어든 특성 개수: 10\n"
     ]
    }
   ],
   "source": [
    "from sklearn.decomposition import NMF\n",
    "from sklearn import datasets\n",
    "digits = datasets.load_digits() # 데이터 로드\n",
    "features = digits.data # 특성 행렬을 로드\n",
    "nmf = NMF(n_components=10, random_state=1) # NMF 생성\n",
    "features_nmf = nmf.fit_transform(features) #학습\n",
    "print(\"원본 특성 개수:\", features.shape[1])\n",
    "print(\"줄어든 특성 개수:\", features_nmf.shape[1])"
   ]
  },
  {
   "cell_type": "code",
   "execution_count": 10,
   "metadata": {},
   "outputs": [
    {
     "data": {
      "text/plain": [
       "(10, 64)"
      ]
     },
     "execution_count": 10,
     "metadata": {},
     "output_type": "execute_result"
    }
   ],
   "source": [
    "nmf.components_.shape"
   ]
  },
  {
   "cell_type": "code",
   "execution_count": 20,
   "metadata": {},
   "outputs": [
    {
     "data": {
      "text/plain": [
       "True"
      ]
     },
     "execution_count": 20,
     "metadata": {},
     "output_type": "execute_result"
    }
   ],
   "source": [
    "np.all(nmf.components_ >= 0)"
   ]
  },
  {
   "cell_type": "code",
   "execution_count": 22,
   "metadata": {},
   "outputs": [
    {
     "data": {
      "text/plain": [
       "-0.20062043744127928"
      ]
     },
     "execution_count": 22,
     "metadata": {},
     "output_type": "execute_result"
    }
   ],
   "source": [
    "np.mean(features - np.dot(features_nmf, nmf.components_))"
   ]
  },
  {
   "cell_type": "code",
   "execution_count": 24,
   "metadata": {},
   "outputs": [],
   "source": [
    "nmf_mu = NMF(n_components = 10, solver='mu', random_state=1)"
   ]
  },
  {
   "cell_type": "code",
   "execution_count": 25,
   "metadata": {},
   "outputs": [],
   "source": [
    "features_nmf_mu = nmf_mu.fit_transform(features)"
   ]
  },
  {
   "cell_type": "code",
   "execution_count": 38,
   "metadata": {},
   "outputs": [
    {
     "data": {
      "text/plain": [
       "-5.0104640357121255"
      ]
     },
     "execution_count": 38,
     "metadata": {},
     "output_type": "execute_result"
    }
   ],
   "source": [
    "np.mean(features - np.dot(features_nmf_mu, nmf_mu.components_))"
   ]
  },
  {
   "cell_type": "code",
   "execution_count": 28,
   "metadata": {},
   "outputs": [
    {
     "name": "stdout",
     "output_type": "stream",
     "text": [
      "원본 특성 개수: 64\n",
      "줄어든 특성 개수: 10\n"
     ]
    },
    {
     "data": {
      "text/plain": [
       "0.30039385389879836"
      ]
     },
     "execution_count": 28,
     "metadata": {},
     "output_type": "execute_result"
    }
   ],
   "source": [
    "from sklearn.preprocessing import StandardScaler\n",
    "from sklearn.decomposition import TruncatedSVD\n",
    "from scipy.sparse import csr_matrix\n",
    "from sklearn import datasets\n",
    "import numpy as np\n",
    "digits = datasets.load_digits() # 데이터 로드\n",
    "features = StandardScaler().fit_transform(digits.data) # 특성 행렬을 표준화 처리\n",
    "features_sparse = csr_matrix(features) # 희소 행렬 생성\n",
    "tsvd = TruncatedSVD(n_components=10) # TSVD 객체 생성\n",
    "# 희소 행렬에 TSVD를 적용합니다.\n",
    "features_sparse_tsvd = tsvd.fit(features_sparse).transform(features_sparse)\n",
    "print(\"원본 특성 개수:\", features_sparse.shape[1]) # 결과 출력\n",
    "print(\"줄어든 특성 개수:\", features_sparse_tsvd.shape[1])\n",
    "# 처음 세 개의 성분이 설명하는 분산의 비율 합\n",
    "tsvd.explained_variance_ratio_[0:3].sum()"
   ]
  },
  {
   "cell_type": "code",
   "execution_count": 31,
   "metadata": {},
   "outputs": [
    {
     "data": {
      "text/plain": [
       "40"
      ]
     },
     "execution_count": 31,
     "metadata": {},
     "output_type": "execute_result"
    }
   ],
   "source": [
    "# 특성 개수보다 하나 작은 TSVD를 만들고 실행합니다.\n",
    "tsvd = TruncatedSVD(n_components=features_sparse.shape[1]-1)\n",
    "features_tsvd = tsvd.fit(features)\n",
    "tsvd_var_ratios = tsvd.explained_variance_ratio_ # 설명된 분산을 리스트에 저장\n",
    "def select_n_components(var_ratio, goal_var):\n",
    "    total_variance = 0.0 # 설명된 분산을 초기화\n",
    "    n_components = 0 # 특성 개수를 초기화\n",
    "    for explained_variance in var_ratio: # 특성의 설명된 분산을 순환 .\n",
    "        total_variance += explained_variance # 설명된 분산을 누적\n",
    "        n_components += 1 # 성분 개수를 카운트\n",
    "        # 설명된 분산의 목표에 도달하면 반복을 마칩니다.\n",
    "        if total_variance >= goal_var:\n",
    "            break\n",
    "    return n_components # 성분 개수를 반환\n",
    "select_n_components(tsvd_var_ratios, 0.95) # 함수 실행"
   ]
  },
  {
   "cell_type": "code",
   "execution_count": 39,
   "metadata": {},
   "outputs": [],
   "source": [
    "features = digits.data - np.mean(digits.data, axis=0)\n",
    "pca = PCA(n_components=40, random_state=1)\n",
    "features_pca = pca.fit_transform(features)\n",
    "tsvd = TruncatedSVD(n_components=40, random_state=1)\n",
    "features_tsvd = tsvd.fit_transform(features)\n"
   ]
  },
  {
   "cell_type": "code",
   "execution_count": 40,
   "metadata": {},
   "outputs": [
    {
     "data": {
      "text/plain": [
       "0.002010962081248735"
      ]
     },
     "execution_count": 40,
     "metadata": {},
     "output_type": "execute_result"
    }
   ],
   "source": [
    "np.max(np.abs(features_pca - features_tsvd))"
   ]
  },
  {
   "cell_type": "code",
   "execution_count": null,
   "metadata": {},
   "outputs": [],
   "source": []
  }
 ],
 "metadata": {
  "kernelspec": {
   "display_name": "Python 3",
   "language": "python",
   "name": "python3"
  },
  "language_info": {
   "codemirror_mode": {
    "name": "ipython",
    "version": 3
   },
   "file_extension": ".py",
   "mimetype": "text/x-python",
   "name": "python",
   "nbconvert_exporter": "python",
   "pygments_lexer": "ipython3",
   "version": "3.7.3"
  }
 },
 "nbformat": 4,
 "nbformat_minor": 2
}
