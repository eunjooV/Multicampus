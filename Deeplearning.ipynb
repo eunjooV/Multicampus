{
 "cells": [
  {
   "cell_type": "code",
   "execution_count": 26,
   "metadata": {},
   "outputs": [
    {
     "name": "stdout",
     "output_type": "stream",
     "text": [
      "2.0.0\n"
     ]
    }
   ],
   "source": [
    "import tensorflow as tf\n",
    "print(tf.__version__)"
   ]
  },
  {
   "cell_type": "code",
   "execution_count": 27,
   "metadata": {},
   "outputs": [
    {
     "data": {
      "text/html": [
       "<div>\n",
       "<style scoped>\n",
       "    .dataframe tbody tr th:only-of-type {\n",
       "        vertical-align: middle;\n",
       "    }\n",
       "\n",
       "    .dataframe tbody tr th {\n",
       "        vertical-align: top;\n",
       "    }\n",
       "\n",
       "    .dataframe thead th {\n",
       "        text-align: right;\n",
       "    }\n",
       "</style>\n",
       "<table border=\"1\" class=\"dataframe\">\n",
       "  <thead>\n",
       "    <tr style=\"text-align: right;\">\n",
       "      <th></th>\n",
       "      <th>label</th>\n",
       "      <th>height</th>\n",
       "      <th>weight</th>\n",
       "    </tr>\n",
       "  </thead>\n",
       "  <tbody>\n",
       "    <tr>\n",
       "      <th>0</th>\n",
       "      <td>normal</td>\n",
       "      <td>188</td>\n",
       "      <td>71</td>\n",
       "    </tr>\n",
       "    <tr>\n",
       "      <th>1</th>\n",
       "      <td>fat</td>\n",
       "      <td>161</td>\n",
       "      <td>68</td>\n",
       "    </tr>\n",
       "    <tr>\n",
       "      <th>2</th>\n",
       "      <td>thin</td>\n",
       "      <td>178</td>\n",
       "      <td>52</td>\n",
       "    </tr>\n",
       "    <tr>\n",
       "      <th>3</th>\n",
       "      <td>fat</td>\n",
       "      <td>136</td>\n",
       "      <td>63</td>\n",
       "    </tr>\n",
       "    <tr>\n",
       "      <th>4</th>\n",
       "      <td>normal</td>\n",
       "      <td>145</td>\n",
       "      <td>52</td>\n",
       "    </tr>\n",
       "  </tbody>\n",
       "</table>\n",
       "</div>"
      ],
      "text/plain": [
       "    label  height  weight\n",
       "0  normal     188      71\n",
       "1     fat     161      68\n",
       "2    thin     178      52\n",
       "3     fat     136      63\n",
       "4  normal     145      52"
      ]
     },
     "execution_count": 27,
     "metadata": {},
     "output_type": "execute_result"
    }
   ],
   "source": [
    "########## KERAS 를 이용한 BMI 신경망 학습 ###############\n",
    "\n",
    "\n",
    "from keras.models import Sequential\n",
    "from keras.layers.core import Dense, Dropout, Activation\n",
    "from keras.callbacks import EarlyStopping\n",
    "import pandas as pd, numpy as np\n",
    "# BMI 데이터를 읽어 들이고 정규화하기\n",
    "csv = pd.read_csv(\"C:/Users/손은주/Multicampus/part2/dataset/bmi.csv\")\n",
    "csv.head()"
   ]
  },
  {
   "cell_type": "code",
   "execution_count": 28,
   "metadata": {},
   "outputs": [],
   "source": [
    "# 데이터 정규화\n",
    "\n",
    "csv[\"weight\"] /=100\n",
    "csv['height'] /=200\n",
    "\n",
    "#레이블을 정수벡터 변환\n",
    "bclass = {\"thin\":[1,0,0],\"normal\":[0,1,0],\"fat\":[0,0,1]}\n",
    "y=np.empty((20000,3))"
   ]
  },
  {
   "cell_type": "code",
   "execution_count": 29,
   "metadata": {},
   "outputs": [],
   "source": [
    "for i,v in enumerate(csv[\"label\"]):\n",
    "    y[i] = bclass[v]\n",
    "    \n",
    "#학습데이터와 테스트 데이터로 분리\n",
    "X=csv[[\"weight\",\"height\"]].values\n",
    "X_train,y_train = X[1:15001],y[1:15001]\n",
    "X_test,y_test = X[15001:20001],X[15001:20001]"
   ]
  },
  {
   "cell_type": "code",
   "execution_count": 30,
   "metadata": {},
   "outputs": [
    {
     "name": "stderr",
     "output_type": "stream",
     "text": [
      "C:\\Anaconda\\lib\\site-packages\\ipykernel_launcher.py:20: UserWarning: The `nb_epoch` argument in `fit` has been renamed `epochs`.\n"
     ]
    },
    {
     "name": "stdout",
     "output_type": "stream",
     "text": [
      "Train on 13500 samples, validate on 1500 samples\n",
      "Epoch 1/20\n",
      "13500/13500 [==============================] - 1s 105us/step - loss: 0.5081 - accuracy: 0.7992 - val_loss: 0.2710 - val_accuracy: 0.9060\n",
      "Epoch 2/20\n",
      "13500/13500 [==============================] - 1s 91us/step - loss: 0.2493 - accuracy: 0.9044 - val_loss: 0.1751 - val_accuracy: 0.9380\n",
      "Epoch 3/20\n",
      "13500/13500 [==============================] - 1s 92us/step - loss: 0.1887 - accuracy: 0.9240 - val_loss: 0.1224 - val_accuracy: 0.9733\n",
      "Epoch 4/20\n",
      "13500/13500 [==============================] - 1s 89us/step - loss: 0.1564 - accuracy: 0.9325 - val_loss: 0.1317 - val_accuracy: 0.9413\n",
      "Epoch 5/20\n",
      "13500/13500 [==============================] - 1s 89us/step - loss: 0.1516 - accuracy: 0.9335 - val_loss: 0.1016 - val_accuracy: 0.9640\n",
      "Epoch 6/20\n",
      "13500/13500 [==============================] - 1s 90us/step - loss: 0.1342 - accuracy: 0.9436 - val_loss: 0.0999 - val_accuracy: 0.9560\n",
      "Epoch 7/20\n",
      "13500/13500 [==============================] - 1s 90us/step - loss: 0.1382 - accuracy: 0.9405 - val_loss: 0.2266 - val_accuracy: 0.8900\n",
      "Epoch 8/20\n",
      "13500/13500 [==============================] - 1s 92us/step - loss: 0.1307 - accuracy: 0.9457 - val_loss: 0.1029 - val_accuracy: 0.9520\n"
     ]
    },
    {
     "ename": "ValueError",
     "evalue": "Error when checking target: expected activation_24 to have shape (3,) but got array with shape (2,)",
     "output_type": "error",
     "traceback": [
      "\u001b[1;31m---------------------------------------------------------------------------\u001b[0m",
      "\u001b[1;31mValueError\u001b[0m                                Traceback (most recent call last)",
      "\u001b[1;32m<ipython-input-30-ce38eb1594ec>\u001b[0m in \u001b[0;36m<module>\u001b[1;34m\u001b[0m\n\u001b[0;32m     21\u001b[0m \u001b[1;33m\u001b[0m\u001b[0m\n\u001b[0;32m     22\u001b[0m \u001b[1;31m# 테스트 데이터로 평가\u001b[0m\u001b[1;33m\u001b[0m\u001b[1;33m\u001b[0m\u001b[1;33m\u001b[0m\u001b[0m\n\u001b[1;32m---> 23\u001b[1;33m \u001b[0mscore\u001b[0m \u001b[1;33m=\u001b[0m \u001b[0mmodel\u001b[0m\u001b[1;33m.\u001b[0m\u001b[0mevaluate\u001b[0m\u001b[1;33m(\u001b[0m\u001b[0mX_test\u001b[0m\u001b[1;33m,\u001b[0m \u001b[0my_test\u001b[0m\u001b[1;33m)\u001b[0m\u001b[1;33m\u001b[0m\u001b[1;33m\u001b[0m\u001b[0m\n\u001b[0m\u001b[0;32m     24\u001b[0m \u001b[0mprint\u001b[0m\u001b[1;33m(\u001b[0m\u001b[1;34m\"loss=\"\u001b[0m\u001b[1;33m,\u001b[0m \u001b[0mscore\u001b[0m\u001b[1;33m[\u001b[0m\u001b[1;36m0\u001b[0m\u001b[1;33m]\u001b[0m\u001b[1;33m)\u001b[0m\u001b[1;33m\u001b[0m\u001b[1;33m\u001b[0m\u001b[0m\n\u001b[0;32m     25\u001b[0m \u001b[0mprint\u001b[0m\u001b[1;33m(\u001b[0m\u001b[1;34m\"accuracy=\"\u001b[0m\u001b[1;33m,\u001b[0m \u001b[0mscore\u001b[0m\u001b[1;33m[\u001b[0m\u001b[1;36m1\u001b[0m\u001b[1;33m]\u001b[0m\u001b[1;33m)\u001b[0m\u001b[1;33m\u001b[0m\u001b[1;33m\u001b[0m\u001b[0m\n",
      "\u001b[1;32mC:\\Anaconda\\lib\\site-packages\\keras\\engine\\training.py\u001b[0m in \u001b[0;36mevaluate\u001b[1;34m(self, x, y, batch_size, verbose, sample_weight, steps, callbacks, max_queue_size, workers, use_multiprocessing)\u001b[0m\n\u001b[0;32m   1347\u001b[0m             \u001b[0mx\u001b[0m\u001b[1;33m,\u001b[0m \u001b[0my\u001b[0m\u001b[1;33m,\u001b[0m\u001b[1;33m\u001b[0m\u001b[1;33m\u001b[0m\u001b[0m\n\u001b[0;32m   1348\u001b[0m             \u001b[0msample_weight\u001b[0m\u001b[1;33m=\u001b[0m\u001b[0msample_weight\u001b[0m\u001b[1;33m,\u001b[0m\u001b[1;33m\u001b[0m\u001b[1;33m\u001b[0m\u001b[0m\n\u001b[1;32m-> 1349\u001b[1;33m             batch_size=batch_size)\n\u001b[0m\u001b[0;32m   1350\u001b[0m         \u001b[1;31m# Prepare inputs, delegate logic to `test_loop`.\u001b[0m\u001b[1;33m\u001b[0m\u001b[1;33m\u001b[0m\u001b[1;33m\u001b[0m\u001b[0m\n\u001b[0;32m   1351\u001b[0m         \u001b[1;32mif\u001b[0m \u001b[0mself\u001b[0m\u001b[1;33m.\u001b[0m\u001b[0m_uses_dynamic_learning_phase\u001b[0m\u001b[1;33m(\u001b[0m\u001b[1;33m)\u001b[0m\u001b[1;33m:\u001b[0m\u001b[1;33m\u001b[0m\u001b[1;33m\u001b[0m\u001b[0m\n",
      "\u001b[1;32mC:\\Anaconda\\lib\\site-packages\\keras\\engine\\training.py\u001b[0m in \u001b[0;36m_standardize_user_data\u001b[1;34m(self, x, y, sample_weight, class_weight, check_array_lengths, batch_size)\u001b[0m\n\u001b[0;32m    619\u001b[0m                 \u001b[0mfeed_output_shapes\u001b[0m\u001b[1;33m,\u001b[0m\u001b[1;33m\u001b[0m\u001b[1;33m\u001b[0m\u001b[0m\n\u001b[0;32m    620\u001b[0m                 \u001b[0mcheck_batch_axis\u001b[0m\u001b[1;33m=\u001b[0m\u001b[1;32mFalse\u001b[0m\u001b[1;33m,\u001b[0m  \u001b[1;31m# Don't enforce the batch size.\u001b[0m\u001b[1;33m\u001b[0m\u001b[1;33m\u001b[0m\u001b[0m\n\u001b[1;32m--> 621\u001b[1;33m                 exception_prefix='target')\n\u001b[0m\u001b[0;32m    622\u001b[0m \u001b[1;33m\u001b[0m\u001b[0m\n\u001b[0;32m    623\u001b[0m             \u001b[1;31m# Generate sample-wise weight values given the `sample_weight` and\u001b[0m\u001b[1;33m\u001b[0m\u001b[1;33m\u001b[0m\u001b[1;33m\u001b[0m\u001b[0m\n",
      "\u001b[1;32mC:\\Anaconda\\lib\\site-packages\\keras\\engine\\training_utils.py\u001b[0m in \u001b[0;36mstandardize_input_data\u001b[1;34m(data, names, shapes, check_batch_axis, exception_prefix)\u001b[0m\n\u001b[0;32m    143\u001b[0m                             \u001b[1;34m': expected '\u001b[0m \u001b[1;33m+\u001b[0m \u001b[0mnames\u001b[0m\u001b[1;33m[\u001b[0m\u001b[0mi\u001b[0m\u001b[1;33m]\u001b[0m \u001b[1;33m+\u001b[0m \u001b[1;34m' to have shape '\u001b[0m \u001b[1;33m+\u001b[0m\u001b[1;33m\u001b[0m\u001b[1;33m\u001b[0m\u001b[0m\n\u001b[0;32m    144\u001b[0m                             \u001b[0mstr\u001b[0m\u001b[1;33m(\u001b[0m\u001b[0mshape\u001b[0m\u001b[1;33m)\u001b[0m \u001b[1;33m+\u001b[0m \u001b[1;34m' but got array with shape '\u001b[0m \u001b[1;33m+\u001b[0m\u001b[1;33m\u001b[0m\u001b[1;33m\u001b[0m\u001b[0m\n\u001b[1;32m--> 145\u001b[1;33m                             str(data_shape))\n\u001b[0m\u001b[0;32m    146\u001b[0m     \u001b[1;32mreturn\u001b[0m \u001b[0mdata\u001b[0m\u001b[1;33m\u001b[0m\u001b[1;33m\u001b[0m\u001b[0m\n\u001b[0;32m    147\u001b[0m \u001b[1;33m\u001b[0m\u001b[0m\n",
      "\u001b[1;31mValueError\u001b[0m: Error when checking target: expected activation_24 to have shape (3,) but got array with shape (2,)"
     ]
    }
   ],
   "source": [
    "# 모델 구조 정의\n",
    "model = Sequential()\n",
    "model.add(Dense(512, input_shape=(2,)))\n",
    "model.add(Activation('relu'))\n",
    "model.add(Dropout(0.1))\n",
    "model.add(Dense(512))\n",
    "model.add(Activation('relu'))\n",
    "model.add(Dropout(0.1))\n",
    "model.add(Dense(3))\n",
    "model.add(Activation('softmax'))\n",
    "\n",
    "# 모델 구축\n",
    "model.compile(loss='categorical_crossentropy', optimizer=\"rmsprop\",\n",
    "            metrics=[\"accuracy\"])\n",
    "\n",
    "# 데이터 훈련\n",
    "hist = model.fit(X_train, y_train, batch_size=100, nb_epoch=20,\n",
    "                validation_split=0.1,\n",
    "                callbacks=[EarlyStopping(monitor='val_loss', patience=2)],\n",
    "                verbose=1)\n",
    "\n",
    "# 테스트 데이터로 평가\n",
    "score = model.evaluate(X_test, y_test)\n",
    "print(\"loss=\", score[0])\n",
    "print(\"accuracy=\", score[1])"
   ]
  },
  {
   "cell_type": "code",
   "execution_count": 33,
   "metadata": {},
   "outputs": [
    {
     "name": "stdout",
     "output_type": "stream",
     "text": [
      "20.0\n",
      "46.0\n"
     ]
    }
   ],
   "source": [
    "#### 최소제곱법을 이용한 공부시간과 성적의 선형회귀 기울기, 절편 구하기 실습 #####\n",
    "\n",
    "x = [2,4,6,8]\n",
    "y = [81, 93, 91, 97]\n",
    "\n",
    "mx = np.mean(x)\n",
    "my = np.mean(y)\n",
    "\n",
    "# 최소제곱법의 기울기 공식\n",
    "divisor = sum([(mx-i)**2 for i in x])\n",
    "dividend = sum([(x[i]-mx)*(y[i]-my) for i in range(len(x))])\n",
    "print(divisor)\n",
    "print(dividend)"
   ]
  },
  {
   "cell_type": "code",
   "execution_count": 34,
   "metadata": {},
   "outputs": [
    {
     "name": "stdout",
     "output_type": "stream",
     "text": [
      "2.3\n",
      "79.0\n"
     ]
    }
   ],
   "source": [
    "# 기울기\n",
    "a = dividend/divisor\n",
    "# 절편\n",
    "b= my - (mx*a)\n",
    "\n",
    "print(a)\n",
    "print(b)"
   ]
  },
  {
   "cell_type": "code",
   "execution_count": 36,
   "metadata": {},
   "outputs": [
    {
     "name": "stdout",
     "output_type": "stream",
     "text": [
      "평균 제곱 오차:  11.0\n"
     ]
    }
   ],
   "source": [
    "#### 선형회귀의 평균 제곱 오차 구하기 #############\n",
    "# 최소 제곱법으로 기울기와 절편을 구할 수 없는 경우 임의의 절편과 기울기에서 예측된 값과\n",
    "# 실제값의 오차를 구해서 오차를 줄이는 방향으로 기울기, 절편을 수정하기 위해\n",
    "# 오차 계산\n",
    "###############################################\n",
    "# 임의의 기울기와 절편\n",
    "a_b = [3,76]\n",
    "data=[[2,81],[4,93],[6,91],[8,97]]\n",
    "x= [i[0] for i in data]\n",
    "y= [i[1] for i in data]\n",
    "\n",
    "# 예측값\n",
    "predict= [a_b[0]*i + a_b[1] for i in x]\n",
    "\n",
    "# 평균 제곱 오차\n",
    "mse = np.mean([(predict[i] - y[i])**2 for i in range(len(x))])\n",
    "print(\"평균 제곱 오차: \",mse)"
   ]
  },
  {
   "cell_type": "code",
   "execution_count": null,
   "metadata": {},
   "outputs": [],
   "source": []
  },
  {
   "cell_type": "code",
   "execution_count": null,
   "metadata": {},
   "outputs": [],
   "source": []
  },
  {
   "cell_type": "markdown",
   "metadata": {},
   "source": [
    "### 경사하강법 실습"
   ]
  },
  {
   "cell_type": "code",
   "execution_count": 37,
   "metadata": {},
   "outputs": [
    {
     "data": {
      "text/plain": [
       "<Figure size 800x500 with 1 Axes>"
      ]
     },
     "metadata": {},
     "output_type": "display_data"
    }
   ],
   "source": [
    "import matplotlib.pyplot as plt\n",
    "\n",
    "plt.figure(figsize=(8,5))\n",
    "plt.scatter(x,y)\n",
    "plt.show()"
   ]
  },
  {
   "cell_type": "code",
   "execution_count": 41,
   "metadata": {},
   "outputs": [
    {
     "name": "stdout",
     "output_type": "stream",
     "text": [
      "epoch=0, 기울기=27.8400, 절편=5.4300\n",
      "epoch=100, 기울기=7.0739, 절편=50.5117\n",
      "epoch=200, 기울기=4.0960, 절편=68.2822\n",
      "epoch=300, 기울기=2.9757, 절편=74.9678\n",
      "epoch=400, 기울기=2.5542, 절편=77.4830\n",
      "epoch=500, 기울기=2.3956, 절편=78.4293\n",
      "epoch=600, 기울기=2.3360, 절편=78.7853\n",
      "epoch=700, 기울기=2.3135, 절편=78.9192\n",
      "epoch=800, 기울기=2.3051, 절편=78.9696\n",
      "epoch=900, 기울기=2.3019, 절편=78.9886\n",
      "epoch=1000, 기울기=2.3007, 절편=78.9957\n",
      "epoch=1100, 기울기=2.3003, 절편=78.9984\n",
      "epoch=1200, 기울기=2.3001, 절편=78.9994\n",
      "epoch=1300, 기울기=2.3000, 절편=78.9998\n",
      "epoch=1400, 기울기=2.3000, 절편=78.9999\n",
      "epoch=1500, 기울기=2.3000, 절편=79.0000\n",
      "epoch=1600, 기울기=2.3000, 절편=79.0000\n",
      "epoch=1700, 기울기=2.3000, 절편=79.0000\n",
      "epoch=1800, 기울기=2.3000, 절편=79.0000\n",
      "epoch=1900, 기울기=2.3000, 절편=79.0000\n",
      "epoch=2000, 기울기=2.3000, 절편=79.0000\n"
     ]
    },
    {
     "data": {
      "image/png": "[encoded data removed]",
      "text/plain": [
       "<Figure size 432x288 with 1 Axes>"
      ]
     },
     "metadata": {
      "needs_background": "light"
     },
     "output_type": "display_data"
    }
   ],
   "source": [
    "X_data = np.array(x)\n",
    "y_data = np.array(y)\n",
    "\n",
    "a=0 #기울기 a를 0으로 초기화\n",
    "b=0 #절편 b를 0으로 초기화\n",
    "\n",
    "lr = 0.03        #학습률 \n",
    "epochs = 2001\n",
    "\n",
    " \n",
    "for i in range(epochs):\n",
    "    y_pred = a * X_data + b  #이차함수의 한 점에서의 순간 기울기\n",
    "    error = y_data - y_pred    #오차\n",
    "    #오차 함수를 a로 미분\n",
    "    a_diff = -(2/len(X_data)) * sum(X_data *(error))\n",
    "    #오차 함수를 b로 미분\n",
    "    b_diff = -(2/len(X_data)) * sum(error)\n",
    "    #학습률을 곱해서 a값 업데이트\n",
    "    a= a-lr*a_diff \n",
    "    #학습률을 곱해서 b값 업데이트\n",
    "    b= b-lr*b_diff   \n",
    " \n",
    "    if i%100==0: \n",
    "         print('epoch=%.f, 기울기=%.04f, 절편=%.04f' % (i, a, b))\n",
    "\n",
    "y_pred = a * X_data + b\n",
    " \n",
    "plt.scatter(x, y)\n",
    "plt.plot([min(X_data), max(X_data)], [min(y_data), min(y_data)])\n",
    "plt.show()\t\t"
   ]
  },
  {
   "cell_type": "code",
   "execution_count": 42,
   "metadata": {},
   "outputs": [
    {
     "data": {
      "image/png": "[encoded data removed]",
      "text/plain": [
       "<Figure size 432x288 with 1 Axes>"
      ]
     },
     "metadata": {
      "needs_background": "light"
     },
     "output_type": "display_data"
    }
   ],
   "source": [
    "import numpy as np\n",
    "import pandas as pd\n",
    "import matplotlib.pyplot as plt\n",
    "from mpl_toolkits import mplot3d\n",
    "\n",
    " \n",
    "data = [[2, 0, 81], [4, 4, 93], [6, 2, 91], [8, 3, 97]]\n",
    "x1 = [i[0] for i in data]\n",
    "x2 = [i[1] for i in data]\n",
    "y = [i[2] for i in data]\n",
    "\n",
    " \n",
    "ax = plt.axes(projection='3d')\n",
    "ax.set_xlabel('study_hours')\n",
    "ax.set_ylabel('private_class')\n",
    "ax.set_zlabel('Score')\n",
    "ax.dist = 11 \n",
    "ax.scatter(x1, x2, y)\n",
    "plt.show()\n"
   ]
  },
  {
   "cell_type": "code",
   "execution_count": 43,
   "metadata": {},
   "outputs": [
    {
     "name": "stdout",
     "output_type": "stream",
     "text": [
      "epoch=0, 기울기1=13.9200, 기울기2=6.3375, 절편=2.7150\n",
      "epoch=100, 기울기1=8.3148, 기울기2=4.6327, 절편=31.0827\n",
      "epoch=200, 기울기1=5.7281, 기울기2=3.7455, 절편=48.8273\n",
      "epoch=300, 기울기1=4.1241, 기울기2=3.1917, 절편=59.8402\n",
      "epoch=400, 기울기1=3.1286, 기울기2=2.8480, 절편=66.6752\n",
      "epoch=500, 기울기1=2.5108, 기울기2=2.6347, 절편=70.9172\n",
      "epoch=600, 기울기1=2.1273, 기울기2=2.5023, 절편=73.5500\n",
      "epoch=700, 기울기1=1.8893, 기울기2=2.4201, 절편=75.1840\n",
      "epoch=800, 기울기1=1.7416, 기울기2=2.3691, 절편=76.1981\n",
      "epoch=900, 기울기1=1.6500, 기울기2=2.3375, 절편=76.8275\n",
      "epoch=1000, 기울기1=1.5931, 기울기2=2.3179, 절편=77.2181\n",
      "epoch=1100, 기울기1=1.5578, 기울기2=2.3057, 절편=77.4605\n",
      "epoch=1200, 기울기1=1.5359, 기울기2=2.2981, 절편=77.6110\n",
      "epoch=1300, 기울기1=1.5223, 기울기2=2.2934, 절편=77.7044\n",
      "epoch=1400, 기울기1=1.5138, 기울기2=2.2905, 절편=77.7623\n",
      "epoch=1500, 기울기1=1.5086, 기울기2=2.2887, 절편=77.7983\n",
      "epoch=1600, 기울기1=1.5053, 기울기2=2.2876, 절편=77.8206\n",
      "epoch=1700, 기울기1=1.5033, 기울기2=2.2869, 절편=77.8345\n",
      "epoch=1800, 기울기1=1.5020, 기울기2=2.2864, 절편=77.8431\n",
      "epoch=1900, 기울기1=1.5013, 기울기2=2.2862, 절편=77.8484\n",
      "epoch=2000, 기울기1=1.5008, 기울기2=2.2860, 절편=77.8517\n"
     ]
    }
   ],
   "source": [
    "#x와 y값을 넘파이 배열로 변환\n",
    "x1_data = np.array(x1)\n",
    "x2_data = np.array(x2)\n",
    "y_data = np.array(y)\n",
    "# 기울기 a와 절편 b의 값을 초기화  \n",
    "a1 = 0\n",
    "a2 = 0\n",
    "b = 0\n",
    "#학습률 \n",
    "lr = 0.03 \n",
    "#수행 횟수\n",
    "epochs = 2001 \n",
    "#경사 하강법 수행\n",
    "for i in range(epochs):  \n",
    "    y_pred = a1 * x1_data + a2 * x2_data + b   \n",
    "    error = y_data - y_pred  #오차 \n",
    "    a1_diff = -(1/len(x1_data)) * sum(x1_data * (error)) # 오차함수를 a1로 미분한 값  \n",
    "    a2_diff = -(1/len(x2_data)) * sum(x2_data * (error)) # 오차함수를 a2로 미분한 값  \n",
    "    b_new = -(1/len(x1_data)) * sum(y_data - y_pred)  # 오차함수를 b로 미분한 값  \n",
    "    a1 = a1 - lr * a1_diff  # 학습률을 곱해 기존의 a1값을 업데이트 \n",
    "    a2 = a2 - lr * a2_diff  # 학습률을 곱해 기존의 a2값을 업데이트 \n",
    "    b = b - lr * b_new  # 학습률을 곱해 기존의 b값을 업데이트 \n",
    "    if i % 100 == 0:    # 100번 반복될 때마다 현재의 a1, a2, b값을 출력합니다.\n",
    "        print(\"epoch=%.f, 기울기1=%.04f, 기울기2=%.04f, 절편=%.04f\" % (i, a1, a2, b))\n"
   ]
  },
  {
   "cell_type": "code",
   "execution_count": 50,
   "metadata": {},
   "outputs": [
    {
     "data": {
      "image/png": "[encoded data removed]",
      "text/plain": [
       "<Figure size 432x288 with 1 Axes>"
      ]
     },
     "metadata": {
      "needs_background": "light"
     },
     "output_type": "display_data"
    }
   ],
   "source": [
    "#################시그모이드 함수 ##############################################\n",
    "data =[[2, 0], [4, 0],[6, 0],[8, 1],[10, 1],[12, 1], [14, 1]]\n",
    "x = [i[0] for i in data]\n",
    "y = [i[1] for i in data]\n",
    "\n",
    "plt.scatter(x,y)\n",
    "plt.xlim(0,15)\n",
    "plt.ylim(-0.1,1.1)\n",
    "plt.show()\n",
    "\n"
   ]
  },
  {
   "cell_type": "code",
   "execution_count": 51,
   "metadata": {},
   "outputs": [
    {
     "name": "stdout",
     "output_type": "stream",
     "text": [
      "epoch=0, 기울기=-0.0500, 절편=-0.0250\n",
      "epoch=0, 기울기=-0.1388, 절편=-0.0472\n",
      "epoch=0, 기울기=-0.2268, 절편=-0.0619\n",
      "epoch=0, 기울기=0.1201, 절편=-0.0185\n",
      "epoch=0, 기울기=0.2374, 절편=-0.0068\n",
      "epoch=0, 기울기=0.2705, 절편=-0.0040\n",
      "epoch=0, 기울기=0.2860, 절편=-0.0029\n",
      "epoch=1000, 기울기=1.4978, 절편=-9.9401\n",
      "epoch=1000, 기울기=1.4940, 절편=-9.9411\n",
      "epoch=1000, 기울기=1.4120, 절편=-9.9547\n",
      "epoch=1000, 기울기=1.4949, 절편=-9.9444\n",
      "epoch=1000, 기울기=1.4982, 절편=-9.9440\n",
      "epoch=1000, 기울기=1.4984, 절편=-9.9440\n",
      "epoch=1000, 기울기=1.4985, 절편=-9.9440\n",
      "epoch=2000, 기울기=1.9065, 절편=-12.9489\n",
      "epoch=2000, 기울기=1.9055, 절편=-12.9491\n",
      "epoch=2000, 기울기=1.8515, 절편=-12.9581\n",
      "epoch=2000, 기울기=1.9057, 절편=-12.9514\n",
      "epoch=2000, 기울기=1.9068, 절편=-12.9513\n",
      "epoch=2000, 기울기=1.9068, 절편=-12.9513\n",
      "epoch=2000, 기울기=1.9068, 절편=-12.9513\n"
     ]
    }
   ],
   "source": [
    "#a, b 초기화 \n",
    "a = 0\n",
    "b = 0\n",
    "\n",
    "#학습률 \n",
    "lr = 0.05 \n",
    "\n",
    "#시그모이드 함수 정의  1/(1+np.e ** (-x)) \n",
    "def sigmoid(x):\n",
    "    return 1 / (1 + np.e ** (-x))\n",
    "\n",
    "#경사 하강법  실행 \n",
    "for i in range(2001):\n",
    "    for x_data, y_data in data:\n",
    "        a_diff = x_data*(sigmoid(a*x_data + b) - y_data) \n",
    "        b_diff = sigmoid(a*x_data + b) - y_data\n",
    "        a = a - lr * a_diff\n",
    "        b = b - lr * b_diff\n",
    "        if i % 1000 == 0:     \n",
    "            print(\"epoch=%.f, 기울기=%.04f, 절편=%.04f\" % (i, a, b))\n"
   ]
  },
  {
   "cell_type": "code",
   "execution_count": 53,
   "metadata": {},
   "outputs": [
    {
     "name": "stdout",
     "output_type": "stream",
     "text": [
      "입력값: (0, 0)출력값: 0\n",
      "입력값: (1, 0)출력값: 1\n",
      "입력값: (0, 1)출력값: 1\n",
      "입력값: (1, 1)출력값: 0\n"
     ]
    }
   ],
   "source": [
    "##### XOR 문제 코드 구현 ####\n",
    "wl1 = np.array([-2,-2])\n",
    "wl2 = np.array([2,2])\n",
    "w2 = np.array([1,1])\n",
    "b1=3\n",
    "b2=-1\n",
    "b3 =-1\n",
    "\n",
    "def MLP(x,w,b):\n",
    "    y=np.sum(w*x) +b\n",
    "    if y<=0:\n",
    "        return 0\n",
    "    else :\n",
    "        return 1\n",
    "    \n",
    "def AND(x1,x2):\n",
    "    return MLP(np.array([x1,x2]),w2,b3)\n",
    "\n",
    "def OR(x1,x2):\n",
    "    return MLP(np.array([x1,x2]),wl2,b2)\n",
    "\n",
    "def NAND(x1,x2):\n",
    "    return MLP(np.array([x1,x2]),wl1,b1)\n",
    "\n",
    "def XOR(x1,x2):\n",
    "    return AND((NAND(x1,x2)),OR(x1,x2))\n",
    "\n",
    "for x in [(0,0),(1,0),(0,1),(1,1)]:\n",
    "    y = XOR(x[0],x[1])\n",
    "    print('입력값: '+str(x)+\"출력값: \"+str(y))"
   ]
  },
  {
   "cell_type": "code",
   "execution_count": 58,
   "metadata": {},
   "outputs": [],
   "source": [
    "# 폐암 수술 환자의 생존률\n",
    "\n",
    "np.random.seed(0)\n",
    "tf.random.set_seed(0)\n",
    "\n",
    "data = np.loadtxt(\"C:/Users/손은주/Multicampus/part2/dataset/ThoraricSurgery.csv\", delimiter=\",\")"
   ]
  },
  {
   "cell_type": "code",
   "execution_count": 59,
   "metadata": {},
   "outputs": [
    {
     "name": "stdout",
     "output_type": "stream",
     "text": [
      "Epoch 1/100\n",
      "470/470 [==============================] - 0s 618us/step - loss: 0.6635\n",
      "Epoch 2/100\n",
      "470/470 [==============================] - 0s 138us/step - loss: 0.1488\n",
      "Epoch 3/100\n",
      "470/470 [==============================] - 0s 142us/step - loss: 0.1488\n",
      "Epoch 4/100\n",
      "470/470 [==============================] - 0s 132us/step - loss: 0.1488\n",
      "Epoch 5/100\n",
      "470/470 [==============================] - 0s 151us/step - loss: 0.1488\n",
      "Epoch 6/100\n",
      "470/470 [==============================] - 0s 151us/step - loss: 0.1487\n",
      "Epoch 7/100\n",
      "470/470 [==============================] - 0s 140us/step - loss: 0.1487\n",
      "Epoch 8/100\n",
      "470/470 [==============================] - 0s 146us/step - loss: 0.1487\n",
      "Epoch 9/100\n",
      "470/470 [==============================] - 0s 144us/step - loss: 0.1487\n",
      "Epoch 10/100\n",
      "470/470 [==============================] - 0s 121us/step - loss: 0.1486\n",
      "Epoch 11/100\n",
      "470/470 [==============================] - 0s 134us/step - loss: 0.1498\n",
      "Epoch 12/100\n",
      "470/470 [==============================] - 0s 131us/step - loss: 0.1487\n",
      "Epoch 13/100\n",
      "470/470 [==============================] - 0s 138us/step - loss: 0.1485\n",
      "Epoch 14/100\n",
      "470/470 [==============================] - 0s 129us/step - loss: 0.1483\n",
      "Epoch 15/100\n",
      "470/470 [==============================] - 0s 132us/step - loss: 0.1485\n",
      "Epoch 16/100\n",
      "470/470 [==============================] - 0s 134us/step - loss: 0.1490\n",
      "Epoch 17/100\n",
      "470/470 [==============================] - 0s 149us/step - loss: 0.1479\n",
      "Epoch 18/100\n",
      "470/470 [==============================] - 0s 140us/step - loss: 0.1482\n",
      "Epoch 19/100\n",
      "470/470 [==============================] - 0s 157us/step - loss: 0.1477\n",
      "Epoch 20/100\n",
      "470/470 [==============================] - 0s 151us/step - loss: 0.1480\n",
      "Epoch 21/100\n",
      "470/470 [==============================] - 0s 142us/step - loss: 0.1475\n",
      "Epoch 22/100\n",
      "470/470 [==============================] - 0s 127us/step - loss: 0.1469\n",
      "Epoch 23/100\n",
      "470/470 [==============================] - 0s 161us/step - loss: 0.1467\n",
      "Epoch 24/100\n",
      "470/470 [==============================] - 0s 212us/step - loss: 0.1476\n",
      "Epoch 25/100\n",
      "470/470 [==============================] - 0s 199us/step - loss: 0.1471\n",
      "Epoch 26/100\n",
      "470/470 [==============================] - 0s 166us/step - loss: 0.1466\n",
      "Epoch 27/100\n",
      "470/470 [==============================] - 0s 127us/step - loss: 0.1472\n",
      "Epoch 28/100\n",
      "470/470 [==============================] - 0s 140us/step - loss: 0.1471\n",
      "Epoch 29/100\n",
      "470/470 [==============================] - 0s 130us/step - loss: 0.1471\n",
      "Epoch 30/100\n",
      "470/470 [==============================] - 0s 142us/step - loss: 0.1462\n",
      "Epoch 31/100\n",
      "470/470 [==============================] - 0s 142us/step - loss: 0.1458\n",
      "Epoch 32/100\n",
      "470/470 [==============================] - 0s 138us/step - loss: 0.1477\n",
      "Epoch 33/100\n",
      "470/470 [==============================] - 0s 129us/step - loss: 0.1465\n",
      "Epoch 34/100\n",
      "470/470 [==============================] - 0s 134us/step - loss: 0.1462\n",
      "Epoch 35/100\n",
      "470/470 [==============================] - 0s 140us/step - loss: 0.1468\n",
      "Epoch 36/100\n",
      "470/470 [==============================] - 0s 132us/step - loss: 0.1465\n",
      "Epoch 37/100\n",
      "470/470 [==============================] - 0s 140us/step - loss: 0.1451\n",
      "Epoch 38/100\n",
      "470/470 [==============================] - 0s 125us/step - loss: 0.1450\n",
      "Epoch 39/100\n",
      "470/470 [==============================] - 0s 142us/step - loss: 0.1460\n",
      "Epoch 40/100\n",
      "470/470 [==============================] - 0s 138us/step - loss: 0.1459\n",
      "Epoch 41/100\n",
      "470/470 [==============================] - 0s 134us/step - loss: 0.1452\n",
      "Epoch 42/100\n",
      "470/470 [==============================] - 0s 138us/step - loss: 0.1456\n",
      "Epoch 43/100\n",
      "470/470 [==============================] - 0s 132us/step - loss: 0.1448\n",
      "Epoch 44/100\n",
      "470/470 [==============================] - 0s 138us/step - loss: 0.1452\n",
      "Epoch 45/100\n",
      "470/470 [==============================] - 0s 140us/step - loss: 0.1440\n",
      "Epoch 46/100\n",
      "470/470 [==============================] - 0s 136us/step - loss: 0.1457\n",
      "Epoch 47/100\n",
      "470/470 [==============================] - 0s 136us/step - loss: 0.1448\n",
      "Epoch 48/100\n",
      "470/470 [==============================] - 0s 131us/step - loss: 0.1444\n",
      "Epoch 49/100\n",
      "470/470 [==============================] - 0s 140us/step - loss: 0.1441\n",
      "Epoch 50/100\n",
      "470/470 [==============================] - 0s 136us/step - loss: 0.1442\n",
      "Epoch 51/100\n",
      "470/470 [==============================] - 0s 144us/step - loss: 0.1440\n",
      "Epoch 52/100\n",
      "470/470 [==============================] - 0s 138us/step - loss: 0.1444\n",
      "Epoch 53/100\n",
      "470/470 [==============================] - 0s 132us/step - loss: 0.1444\n",
      "Epoch 54/100\n",
      "470/470 [==============================] - 0s 140us/step - loss: 0.1441\n",
      "Epoch 55/100\n",
      "470/470 [==============================] - 0s 132us/step - loss: 0.1442\n",
      "Epoch 56/100\n",
      "470/470 [==============================] - 0s 134us/step - loss: 0.1447\n",
      "Epoch 57/100\n",
      "470/470 [==============================] - 0s 140us/step - loss: 0.1437\n",
      "Epoch 58/100\n",
      "470/470 [==============================] - 0s 134us/step - loss: 0.1440\n",
      "Epoch 59/100\n",
      "470/470 [==============================] - 0s 132us/step - loss: 0.1441\n",
      "Epoch 60/100\n",
      "470/470 [==============================] - 0s 191us/step - loss: 0.1433\n",
      "Epoch 61/100\n",
      "470/470 [==============================] - 0s 195us/step - loss: 0.1441\n",
      "Epoch 62/100\n",
      "470/470 [==============================] - 0s 144us/step - loss: 0.1434\n",
      "Epoch 63/100\n",
      "470/470 [==============================] - 0s 132us/step - loss: 0.1438\n",
      "Epoch 64/100\n",
      "470/470 [==============================] - 0s 132us/step - loss: 0.1443\n",
      "Epoch 65/100\n",
      "470/470 [==============================] - 0s 131us/step - loss: 0.1432\n",
      "Epoch 66/100\n",
      "470/470 [==============================] - 0s 134us/step - loss: 0.1453\n",
      "Epoch 67/100\n",
      "470/470 [==============================] - 0s 138us/step - loss: 0.1430\n",
      "Epoch 68/100\n",
      "470/470 [==============================] - 0s 134us/step - loss: 0.1424\n",
      "Epoch 69/100\n",
      "470/470 [==============================] - 0s 157us/step - loss: 0.1423\n",
      "Epoch 70/100\n",
      "470/470 [==============================] - 0s 153us/step - loss: 0.1419\n",
      "Epoch 71/100\n",
      "470/470 [==============================] - 0s 161us/step - loss: 0.1443\n",
      "Epoch 72/100\n",
      "470/470 [==============================] - 0s 136us/step - loss: 0.1431\n",
      "Epoch 73/100\n",
      "470/470 [==============================] - 0s 146us/step - loss: 0.1428\n",
      "Epoch 74/100\n",
      "470/470 [==============================] - 0s 149us/step - loss: 0.1414\n",
      "Epoch 75/100\n",
      "470/470 [==============================] - 0s 151us/step - loss: 0.1411\n",
      "Epoch 76/100\n",
      "470/470 [==============================] - 0s 153us/step - loss: 0.1418\n",
      "Epoch 77/100\n",
      "470/470 [==============================] - 0s 151us/step - loss: 0.1403\n",
      "Epoch 78/100\n",
      "470/470 [==============================] - 0s 136us/step - loss: 0.1444\n",
      "Epoch 79/100\n",
      "470/470 [==============================] - 0s 134us/step - loss: 0.1450\n",
      "Epoch 80/100\n",
      "470/470 [==============================] - 0s 170us/step - loss: 0.1409\n",
      "Epoch 81/100\n",
      "470/470 [==============================] - 0s 185us/step - loss: 0.1443\n",
      "Epoch 82/100\n",
      "470/470 [==============================] - 0s 172us/step - loss: 0.1410\n",
      "Epoch 83/100\n",
      "470/470 [==============================] - 0s 151us/step - loss: 0.1423\n",
      "Epoch 84/100\n",
      "470/470 [==============================] - 0s 138us/step - loss: 0.1415\n",
      "Epoch 85/100\n",
      "470/470 [==============================] - 0s 134us/step - loss: 0.1401\n",
      "Epoch 86/100\n",
      "470/470 [==============================] - 0s 134us/step - loss: 0.1403\n",
      "Epoch 87/100\n",
      "470/470 [==============================] - 0s 134us/step - loss: 0.1402\n",
      "Epoch 88/100\n",
      "470/470 [==============================] - 0s 129us/step - loss: 0.1406\n",
      "Epoch 89/100\n",
      "470/470 [==============================] - 0s 146us/step - loss: 0.1411\n",
      "Epoch 90/100\n",
      "470/470 [==============================] - 0s 149us/step - loss: 0.1401\n",
      "Epoch 91/100\n",
      "470/470 [==============================] - 0s 140us/step - loss: 0.1420\n",
      "Epoch 92/100\n",
      "470/470 [==============================] - 0s 149us/step - loss: 0.1425\n",
      "Epoch 93/100\n",
      "470/470 [==============================] - 0s 142us/step - loss: 0.1394\n",
      "Epoch 94/100\n",
      "470/470 [==============================] - 0s 146us/step - loss: 0.1407\n",
      "Epoch 95/100\n",
      "470/470 [==============================] - 0s 140us/step - loss: 0.1394\n",
      "Epoch 96/100\n",
      "470/470 [==============================] - 0s 155us/step - loss: 0.1388\n",
      "Epoch 97/100\n",
      "470/470 [==============================] - 0s 136us/step - loss: 0.1393\n",
      "Epoch 98/100\n",
      "470/470 [==============================] - 0s 140us/step - loss: 0.1391\n",
      "Epoch 99/100\n",
      "470/470 [==============================] - 0s 170us/step - loss: 0.1401\n",
      "Epoch 100/100\n",
      "470/470 [==============================] - 0s 163us/step - loss: 0.1380\n"
     ]
    },
    {
     "data": {
      "text/plain": [
       "<keras.callbacks.callbacks.History at 0x2c0cd56cba8>"
      ]
     },
     "execution_count": 59,
     "metadata": {},
     "output_type": "execute_result"
    }
   ],
   "source": [
    "X = data[:,0:17]\n",
    "Y = data[:,17]\n",
    "model = Sequential()\n",
    "model.add(Dense(30, input_dim=17, activation='relu'))\n",
    "model.add(Dense(1, activation='sigmoid'))\n",
    "\n",
    "model.compile(loss='mean_squared_error',optimizer='adam')\n",
    "metrics = ['accuracy']\n",
    "model.fit(X,Y,epochs=100, batch_size=10)"
   ]
  },
  {
   "cell_type": "code",
   "execution_count": null,
   "metadata": {},
   "outputs": [],
   "source": []
  }
 ],
 "metadata": {
  "kernelspec": {
   "display_name": "Python 3",
   "language": "python",
   "name": "python3"
  },
  "language_info": {
   "codemirror_mode": {
    "name": "ipython",
    "version": 3
   },
   "file_extension": ".py",
   "mimetype": "text/x-python",
   "name": "python",
   "nbconvert_exporter": "python",
   "pygments_lexer": "ipython3",
   "version": "3.7.7"
  }
 },
 "nbformat": 4,
 "nbformat_minor": 2
}
