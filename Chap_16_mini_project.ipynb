{
 "cells": [
  {
   "cell_type": "code",
   "execution_count": 7,
   "metadata": {},
   "outputs": [],
   "source": [
    "#contenthttp://70.12.50.130:8080/data.zip"
   ]
  },
  {
   "cell_type": "markdown",
   "metadata": {},
   "source": [
    "## 데이터 수집"
   ]
  },
  {
   "cell_type": "code",
   "execution_count": 35,
   "metadata": {},
   "outputs": [],
   "source": [
    "import requests\n",
    "import os\n",
    "import pathlib\n",
    "\n",
    "def get_seoul_expense_list(extension, year, data_folder):\n",
    "    expense_list_year_url = \"https://github.com/seoul-opengov/opengov/raw/master/expense_list\" + str(year) + \"/\"\n",
    "    \n",
    "    expense_list_year_dir = data_folder + str(year) +'/'\n",
    "    \n",
    "    if(os.path.isdir(expense_list_year_dir)):\n",
    "        print(\"데이터 폴더({0})가 이미 있습니다. {0}년 데이터의 다운로드를 시작합니다.\".format(year))\n",
    "    else:\n",
    "        print(\"데이터 폴더({0})가 없어서 생성했습니다. {0}년 데이터의 다운로드를 시작합니다.\".format(year))\n",
    "        \n",
    "        pathlib.Path(expense_list_year_dir).mkdir(parents=True, exist_ok=True)\n",
    "        \n",
    "    for k in range(12):\n",
    "        file_name = '{0}{1:02d}_expense_list.{2}'.format(year,k+1,extension)\n",
    "        url = expense_list_year_url + file_name\n",
    "        print(url)\n",
    "        r = requests.get(url)\n",
    "        with open(expense_list_year_dir + file_name, 'wb') as f:\n",
    "            f.write(r.content)"
   ]
  },
  {
   "cell_type": "code",
   "execution_count": 36,
   "metadata": {},
   "outputs": [
    {
     "name": "stdout",
     "output_type": "stream",
     "text": [
      "데이터 폴더(2019)가 이미 있습니다. 2019년 데이터의 다운로드를 시작합니다.\n",
      "https://github.com/seoul-opengov/opengov/raw/master/expense_list2019/201901_expense_list.csv\n",
      "https://github.com/seoul-opengov/opengov/raw/master/expense_list2019/201902_expense_list.csv\n",
      "https://github.com/seoul-opengov/opengov/raw/master/expense_list2019/201903_expense_list.csv\n",
      "https://github.com/seoul-opengov/opengov/raw/master/expense_list2019/201904_expense_list.csv\n",
      "https://github.com/seoul-opengov/opengov/raw/master/expense_list2019/201905_expense_list.csv\n",
      "https://github.com/seoul-opengov/opengov/raw/master/expense_list2019/201906_expense_list.csv\n",
      "https://github.com/seoul-opengov/opengov/raw/master/expense_list2019/201907_expense_list.csv\n",
      "https://github.com/seoul-opengov/opengov/raw/master/expense_list2019/201908_expense_list.csv\n",
      "https://github.com/seoul-opengov/opengov/raw/master/expense_list2019/201909_expense_list.csv\n",
      "https://github.com/seoul-opengov/opengov/raw/master/expense_list2019/201910_expense_list.csv\n",
      "https://github.com/seoul-opengov/opengov/raw/master/expense_list2019/201911_expense_list.csv\n",
      "https://github.com/seoul-opengov/opengov/raw/master/expense_list2019/201912_expense_list.csv\n"
     ]
    }
   ],
   "source": [
    "extension = \"csv\"\n",
    "year = 2019\n",
    "data_folder = 'C:/myPyCode/data/seoul_expense/'\n",
    "\n",
    "get_seoul_expense_list(extension,year,data_folder)"
   ]
  },
  {
   "cell_type": "code",
   "execution_count": 37,
   "metadata": {},
   "outputs": [
    {
     "name": "stdout",
     "output_type": "stream",
     "text": [
      "[폴더 이름] C:/myPyCode/data/seoul_expense/2019/\n",
      "* CSV 파일:  ['201901_expense_list.csv', '201902_expense_list.csv', '201903_expense_list.csv', '201904_expense_list.csv', '201905_expense_list.csv', '201906_expense_list.csv', '201907_expense_list.csv', '201908_expense_list.csv', '201909_expense_list.csv', '201910_expense_list.csv', '201911_expense_list.csv', '201912_expense_list.csv']\n"
     ]
    }
   ],
   "source": [
    "import glob\n",
    "\n",
    "path_name = 'C:/myPyCode/data/seoul_expense/2019/'\n",
    "\n",
    "file_name_for_glob = path_name + \"*list.csv\"\n",
    "\n",
    "csv_files = []\n",
    "for csv_file in glob.glob(file_name_for_glob):\n",
    "    csv_files.append(csv_file.split(\"\\\\\")[-1])\n",
    "    \n",
    "print(\"[폴더 이름]\",path_name)\n",
    "print(\"* CSV 파일: \", csv_files)"
   ]
  },
  {
   "cell_type": "code",
   "execution_count": 38,
   "metadata": {},
   "outputs": [
    {
     "name": "stdout",
     "output_type": "stream",
     "text": [
      "데이터 폴더(2016)가 이미 있습니다. 2016년 데이터의 다운로드를 시작합니다.\n",
      "https://github.com/seoul-opengov/opengov/raw/master/expense_list2016/201601_expense_list.csv\n",
      "https://github.com/seoul-opengov/opengov/raw/master/expense_list2016/201602_expense_list.csv\n",
      "https://github.com/seoul-opengov/opengov/raw/master/expense_list2016/201603_expense_list.csv\n",
      "https://github.com/seoul-opengov/opengov/raw/master/expense_list2016/201604_expense_list.csv\n",
      "https://github.com/seoul-opengov/opengov/raw/master/expense_list2016/201605_expense_list.csv\n",
      "https://github.com/seoul-opengov/opengov/raw/master/expense_list2016/201606_expense_list.csv\n",
      "https://github.com/seoul-opengov/opengov/raw/master/expense_list2016/201607_expense_list.csv\n",
      "https://github.com/seoul-opengov/opengov/raw/master/expense_list2016/201608_expense_list.csv\n",
      "https://github.com/seoul-opengov/opengov/raw/master/expense_list2016/201609_expense_list.csv\n",
      "https://github.com/seoul-opengov/opengov/raw/master/expense_list2016/201610_expense_list.csv\n",
      "https://github.com/seoul-opengov/opengov/raw/master/expense_list2016/201611_expense_list.csv\n",
      "https://github.com/seoul-opengov/opengov/raw/master/expense_list2016/201612_expense_list.csv\n",
      "데이터 폴더(2017)가 이미 있습니다. 2017년 데이터의 다운로드를 시작합니다.\n",
      "https://github.com/seoul-opengov/opengov/raw/master/expense_list2017/201701_expense_list.csv\n",
      "https://github.com/seoul-opengov/opengov/raw/master/expense_list2017/201702_expense_list.csv\n",
      "https://github.com/seoul-opengov/opengov/raw/master/expense_list2017/201703_expense_list.csv\n",
      "https://github.com/seoul-opengov/opengov/raw/master/expense_list2017/201704_expense_list.csv\n",
      "https://github.com/seoul-opengov/opengov/raw/master/expense_list2017/201705_expense_list.csv\n",
      "https://github.com/seoul-opengov/opengov/raw/master/expense_list2017/201706_expense_list.csv\n",
      "https://github.com/seoul-opengov/opengov/raw/master/expense_list2017/201707_expense_list.csv\n",
      "https://github.com/seoul-opengov/opengov/raw/master/expense_list2017/201708_expense_list.csv\n",
      "https://github.com/seoul-opengov/opengov/raw/master/expense_list2017/201709_expense_list.csv\n",
      "https://github.com/seoul-opengov/opengov/raw/master/expense_list2017/201710_expense_list.csv\n",
      "https://github.com/seoul-opengov/opengov/raw/master/expense_list2017/201711_expense_list.csv\n",
      "https://github.com/seoul-opengov/opengov/raw/master/expense_list2017/201712_expense_list.csv\n",
      "데이터 폴더(2018)가 이미 있습니다. 2018년 데이터의 다운로드를 시작합니다.\n",
      "https://github.com/seoul-opengov/opengov/raw/master/expense_list2018/201801_expense_list.csv\n",
      "https://github.com/seoul-opengov/opengov/raw/master/expense_list2018/201802_expense_list.csv\n",
      "https://github.com/seoul-opengov/opengov/raw/master/expense_list2018/201803_expense_list.csv\n",
      "https://github.com/seoul-opengov/opengov/raw/master/expense_list2018/201804_expense_list.csv\n",
      "https://github.com/seoul-opengov/opengov/raw/master/expense_list2018/201805_expense_list.csv\n",
      "https://github.com/seoul-opengov/opengov/raw/master/expense_list2018/201806_expense_list.csv\n",
      "https://github.com/seoul-opengov/opengov/raw/master/expense_list2018/201807_expense_list.csv\n",
      "https://github.com/seoul-opengov/opengov/raw/master/expense_list2018/201808_expense_list.csv\n",
      "https://github.com/seoul-opengov/opengov/raw/master/expense_list2018/201809_expense_list.csv\n",
      "https://github.com/seoul-opengov/opengov/raw/master/expense_list2018/201810_expense_list.csv\n",
      "https://github.com/seoul-opengov/opengov/raw/master/expense_list2018/201811_expense_list.csv\n",
      "https://github.com/seoul-opengov/opengov/raw/master/expense_list2018/201812_expense_list.csv\n",
      "모든 데이터를 다운로드 받았습니다\n"
     ]
    }
   ],
   "source": [
    "import glob\n",
    "\n",
    "data_folder = \"C:/myPyCode/data/seoul_expense/\"\n",
    "\n",
    "years = [2016,2017,2018]\n",
    "\n",
    "extension = \"csv\"\n",
    "\n",
    "for year in years:\n",
    "    get_seoul_expense_list(extension,year,data_folder)\n",
    "    \n",
    "print(\"모든 데이터를 다운로드 받았습니다\")"
   ]
  },
  {
   "cell_type": "code",
   "execution_count": 39,
   "metadata": {},
   "outputs": [
    {
     "name": "stdout",
     "output_type": "stream",
     "text": [
      "[폴더 이름] C:/myPyCode/data/seoul_expense/2016/\n",
      "* CSV 파일:  ['201601_expense_list.csv', '201602_expense_list.csv', '201603_expense_list.csv', '201604_expense_list.csv', '201605_expense_list.csv', '201606_expense_list.csv', '201607_expense_list.csv', '201608_expense_list.csv', '201609_expense_list.csv', '201610_expense_list.csv', '201611_expense_list.csv', '201612_expense_list.csv']\n",
      "[폴더 이름] C:/myPyCode/data/seoul_expense/2017/\n",
      "* CSV 파일:  ['201701_expense_list.csv', '201702_expense_list.csv', '201703_expense_list.csv', '201704_expense_list.csv', '201705_expense_list.csv', '201706_expense_list.csv', '201707_expense_list.csv', '201708_expense_list.csv', '201709_expense_list.csv', '201710_expense_list.csv', '201711_expense_list.csv', '201712_expense_list.csv']\n",
      "[폴더 이름] C:/myPyCode/data/seoul_expense/2018/\n",
      "* CSV 파일:  ['201801_expense_list.csv', '201802_expense_list.csv', '201803_expense_list.csv', '201804_expense_list.csv', '201805_expense_list.csv', '201806_expense_list.csv', '201807_expense_list.csv', '201808_expense_list.csv', '201809_expense_list.csv', '201810_expense_list.csv', '201811_expense_list.csv', '201812_expense_list.csv']\n",
      "[폴더 이름] C:/myPyCode/data/seoul_expense/2019/\n",
      "* CSV 파일:  ['201901_expense_list.csv', '201902_expense_list.csv', '201903_expense_list.csv', '201904_expense_list.csv', '201905_expense_list.csv', '201906_expense_list.csv', '201907_expense_list.csv', '201908_expense_list.csv', '201909_expense_list.csv', '201910_expense_list.csv', '201911_expense_list.csv', '201912_expense_list.csv']\n"
     ]
    }
   ],
   "source": [
    "import glob\n",
    "\n",
    "data_folder = 'C:/myPyCode/data/seoul_expense/'\n",
    "\n",
    "years = [2016,2017,2018,2019]\n",
    "\n",
    "for year in years:\n",
    "    path_name = data_folder + str(year) + \"/\"\n",
    "    \n",
    "    file_name_for_glob = path_name +\"*list.csv\"\n",
    "    \n",
    "    csv_files=[]\n",
    "    for csv_file in glob.glob(file_name_for_glob):\n",
    "        csv_files.append(csv_file.split(\"\\\\\")[-1])\n",
    "    \n",
    "    print(\"[폴더 이름]\",path_name)\n",
    "    print(\"* CSV 파일: \", csv_files)"
   ]
  },
  {
   "cell_type": "markdown",
   "metadata": {},
   "source": [
    "## 데이터 처리"
   ]
  },
  {
   "cell_type": "code",
   "execution_count": 40,
   "metadata": {},
   "outputs": [
    {
     "name": "stdout",
     "output_type": "stream",
     "text": [
      "﻿nid,title,url,dept_nm_lvl_1,dept_nm_lvl_2,dept_nm_lvl_3,dept_nm_lvl_4,dept_nm_lvl_5,exec_yr,exec_month,expense_budget,expense_execution,category,dept_nm_full,exec_dt,exec_loc,exec_purpose,target_nm,payment_method,exec_amount\n",
      "\n",
      "11430252,\"2017년 1월 장애인복지정책과 업무추진비 집행내역\",http://opengov.seoul.go.kr/public/11430252,서울시본청,복지본부,장애인복지정책과,,,2017,1,,,,\"복지본부 장애인복지정책과\",\"2017-01-26 13:10\",\"동해일식 (중구 무교동)\",\"기본소득과 장애인복지 논의간담회\",\"장애인복지정책팀장 외 2명\",카드,76000\n",
      "\n",
      "11430252,\"2017년 1월 장애인복지정책과 업무추진비 집행내역\",http://opengov.seoul.go.kr/public/11430252,서울시본청,복지본부,장애인복지정책과,,,2017,1,,,,\"복지본부 장애인복지정책과\",\"2017-01-25 22:41\",\"김앤장 (중구 무교로)\",\"장애인단체 활동지원 논의간담회\",\"장애인복지정책과장 외 3명\",카드,102000\n",
      "\n"
     ]
    }
   ],
   "source": [
    "data_file = 'C:/myPyCode/data/seoul_expense/2017/201701_expense_list.csv'\n",
    "\n",
    "with open(data_file, encoding = 'utf-8') as f:\n",
    "    line1 = f.readline()\n",
    "    line2 = f.readline()\n",
    "    line3 = f.readline()\n",
    "    \n",
    "    print(line1)\n",
    "    print(line2)\n",
    "    print(line3)"
   ]
  },
  {
   "cell_type": "code",
   "execution_count": 41,
   "metadata": {},
   "outputs": [
    {
     "name": "stdout",
     "output_type": "stream",
     "text": [
      "[각 줄의 데이터 값의 개수]\n",
      "첫째 줄:20, 둘째 줄:20, 셋째 줄:20\n"
     ]
    }
   ],
   "source": [
    "line1_len = len(line1.split(','))\n",
    "line2_len = len(line2.split(','))\n",
    "line3_len = len(line3.split(','))\n",
    "\n",
    "print(\"[각 줄의 데이터 값의 개수]\")\n",
    "print(\"첫째 줄:{}, 둘째 줄:{}, 셋째 줄:{}\".format(line1_len,line2_len,line3_len))"
   ]
  },
  {
   "cell_type": "code",
   "execution_count": 42,
   "metadata": {},
   "outputs": [],
   "source": [
    "def get_value_count(line):\n",
    "    line_rep_list = []\n",
    "    for k,x in enumerate(line.split('\"\"')):\n",
    "        if(k%2 != 0):\n",
    "            x = x.replace(\",\",'')\n",
    "        line_rep_list.append(x)\n",
    "        \n",
    "    line_rep_str = ''.join(line_rep_list)\n",
    "    \n",
    "    return len(line_rep_str.split(','))"
   ]
  },
  {
   "cell_type": "code",
   "execution_count": 43,
   "metadata": {},
   "outputs": [
    {
     "name": "stdout",
     "output_type": "stream",
     "text": [
      "[각 줄의 데이터 값의 개수]\n",
      "첫째 줄:20, 둘째 줄:20,셋째 줄:20\n"
     ]
    }
   ],
   "source": [
    "line1_len = get_value_count(line1)\n",
    "line2_len = get_value_count(line2)\n",
    "line3_len = get_value_count(line3)\n",
    "\n",
    "print(\"[각 줄의 데이터 값의 개수]\")\n",
    "print(\"첫째 줄:{}, 둘째 줄:{},셋째 줄:{}\".format(line1_len,line2_len,line3_len))"
   ]
  },
  {
   "cell_type": "code",
   "execution_count": 44,
   "metadata": {},
   "outputs": [],
   "source": [
    "def change_csv_file_first_line_value(old_file_name, new_file_name):\n",
    "    with open(old_file_name, encoding = 'utf-8') as f:\n",
    "        lines = f.read().splitlines()\n",
    "        \n",
    "    lines[0] = 'nid, 제목, url, 부서레벨1, 부서레벨2, 부서레벨3, 부서레벨4, 부서레벨5,\\\n",
    "                집행년도, 집행월, 예산, 집행, 구분, 부서명, 집행일시, 집행장소, 집행목적, 대상인원, 결제방법, 집행금액'\n",
    "    \n",
    "    with open(new_file_name,'w',encoding = 'utf-8') as f:\n",
    "        f.write('\\n'.join(lines))"
   ]
  },
  {
   "cell_type": "code",
   "execution_count": 45,
   "metadata": {},
   "outputs": [],
   "source": [
    "old_file_name = 'C:/myPyCode/data/seoul_expense/2017/201701_expense_list.csv'\n",
    "\n",
    "#새로운 파일\n",
    "new_file_name = 'C:/myPyCode/data/seoul_expense/2017/2017_expense_list_new.csv'\n",
    "\n",
    "change_csv_file_first_line_value(old_file_name,new_file_name)"
   ]
  },
  {
   "cell_type": "code",
   "execution_count": 46,
   "metadata": {},
   "outputs": [
    {
     "name": "stdout",
     "output_type": "stream",
     "text": [
      "nid, 제목, url, 부서레벨1, 부서레벨2, 부서레벨3, 부서레벨4, 부서레벨5,                집행년도, 집행월, 예산, 집행, 구분, 부서명, 집행일시, 집행장소, 집행목적, 대상인원, 결제방법, 집행금액\n",
      "\n",
      "11430252,\"2017년 1월 장애인복지정책과 업무추진비 집행내역\",http://opengov.seoul.go.kr/public/11430252,서울시본청,복지본부,장애인복지정책과,,,2017,1,,,,\"복지본부 장애인복지정책과\",\"2017-01-26 13:10\",\"동해일식 (중구 무교동)\",\"기본소득과 장애인복지 논의간담회\",\"장애인복지정책팀장 외 2명\",카드,76000\n",
      "\n",
      "11430252,\"2017년 1월 장애인복지정책과 업무추진비 집행내역\",http://opengov.seoul.go.kr/public/11430252,서울시본청,복지본부,장애인복지정책과,,,2017,1,,,,\"복지본부 장애인복지정책과\",\"2017-01-25 22:41\",\"김앤장 (중구 무교로)\",\"장애인단체 활동지원 논의간담회\",\"장애인복지정책과장 외 3명\",카드,102000\n",
      "\n"
     ]
    }
   ],
   "source": [
    "with open(new_file_name, encoding='utf-8') as f:\n",
    "    for k in range(3):\n",
    "        print(f.readline())"
   ]
  },
  {
   "cell_type": "code",
   "execution_count": 47,
   "metadata": {},
   "outputs": [],
   "source": [
    "def change_year_csv_file_first_line_value(year, data_folder):\n",
    "    expense_list_year_dir = data_folder + str(year) + '/'\n",
    "    \n",
    "    extension = 'csv'\n",
    "    for k in range(12):\n",
    "        old_file_name = expense_list_year_dir + '{0}{1:02d}_expense_list.{2}'.format(year,k+1,extension)\n",
    "        new_file_name = expense_list_year_dir + '{0}{1:02d}_expense_list_new.{2}'.format(year,k+1,extension)\n",
    "        \n",
    "        change_csv_file_first_line_value(old_file_name, new_file_name)\n",
    "        "
   ]
  },
  {
   "cell_type": "code",
   "execution_count": 48,
   "metadata": {},
   "outputs": [
    {
     "name": "stdout",
     "output_type": "stream",
     "text": [
      "2017년 데이터의 첫 번째 줄의 열 이름을 변경해서 새 파일에 저장합니다.\n",
      "2018년 데이터의 첫 번째 줄의 열 이름을 변경해서 새 파일에 저장합니다.\n",
      "2019년 데이터의 첫 번째 줄의 열 이름을 변경해서 새 파일에 저장합니다.\n",
      "모든 데이터의 첫 번째 줄의 열 이름을 변경해서 새 파일로 저장했습니다.\n"
     ]
    }
   ],
   "source": [
    "data_folder = 'C:/myPyCode/data/seoul_expense/'\n",
    "\n",
    "years = [2017,2018,2019]\n",
    "\n",
    "for year in years:\n",
    "    print(\"{}년 데이터의 첫 번째 줄의 열 이름을 변경해서 새 파일에 저장합니다.\".format(year))\n",
    "    change_year_csv_file_first_line_value(year, data_folder)\n",
    "    \n",
    "print(\"모든 데이터의 첫 번째 줄의 열 이름을 변경해서 새 파일로 저장했습니다.\")"
   ]
  },
  {
   "cell_type": "code",
   "execution_count": 49,
   "metadata": {},
   "outputs": [
    {
     "name": "stdout",
     "output_type": "stream",
     "text": [
      "[폴더 이름] C:/myPyCode/data/seoul_expense/2017\n",
      " * 새롭게 생성된 CSV 파일: ['201701_expense_list_new.csv', '201702_expense_list_new.csv', '201703_expense_list_new.csv', '201704_expense_list_new.csv', '201705_expense_list_new.csv', '201706_expense_list_new.csv', '201707_expense_list_new.csv', '201708_expense_list_new.csv', '201709_expense_list_new.csv', '201710_expense_list_new.csv', '201711_expense_list_new.csv', '201712_expense_list_new.csv', '2017_expense_list_new.csv']\n",
      "[폴더 이름] C:/myPyCode/data/seoul_expense/2018\n",
      " * 새롭게 생성된 CSV 파일: ['201801_expense_list_new.csv', '201802_expense_list_new.csv', '201803_expense_list_new.csv', '201804_expense_list_new.csv', '201805_expense_list_new.csv', '201806_expense_list_new.csv', '201807_expense_list_new.csv', '201808_expense_list_new.csv', '201809_expense_list_new.csv', '201810_expense_list_new.csv', '201811_expense_list_new.csv', '201812_expense_list_new.csv']\n",
      "[폴더 이름] C:/myPyCode/data/seoul_expense/2019\n",
      " * 새롭게 생성된 CSV 파일: ['201901_expense_list_new.csv', '201902_expense_list_new.csv', '201903_expense_list_new.csv', '201904_expense_list_new.csv', '201905_expense_list_new.csv', '201906_expense_list_new.csv', '201907_expense_list_new.csv', '201908_expense_list_new.csv', '201909_expense_list_new.csv', '201910_expense_list_new.csv', '201911_expense_list_new.csv', '201912_expense_list_new.csv']\n"
     ]
    }
   ],
   "source": [
    "import glob\n",
    "\n",
    "data_folder = 'C:/myPyCode/data/seoul_expense/'\n",
    "\n",
    "years = [2017,2018,2019]\n",
    "\n",
    "for year in years:\n",
    "    path_name = data_folder + str(year)\n",
    "    print(\"[폴더 이름]\", path_name)\n",
    "    \n",
    "    new_csv_files = []\n",
    "    \n",
    "    file_name_for_glob = path_name + \"/*_new.csv\"\n",
    "    \n",
    "    for new_csv_file in glob.glob(file_name_for_glob):\n",
    "        new_csv_files.append(new_csv_file.split(\"\\\\\")[-1])\n",
    "        \n",
    "    print(\" * 새롭게 생성된 CSV 파일:\", new_csv_files)"
   ]
  },
  {
   "cell_type": "code",
   "execution_count": 52,
   "metadata": {},
   "outputs": [],
   "source": [
    "import pandas as pd\n",
    "\n",
    "expense_list2017_dir = 'C:/myPyCode/data/seoul_expense/2017/'\n",
    "file_name = \"201701_expense_list_new.csv\"\n",
    "\n",
    "df = pd.read_csv(expense_list2017_dir + file_name)"
   ]
  },
  {
   "cell_type": "code",
   "execution_count": 53,
   "metadata": {},
   "outputs": [
    {
     "data": {
      "text/html": [
       "<div>\n",
       "<style scoped>\n",
       "    .dataframe tbody tr th:only-of-type {\n",
       "        vertical-align: middle;\n",
       "    }\n",
       "\n",
       "    .dataframe tbody tr th {\n",
       "        vertical-align: top;\n",
       "    }\n",
       "\n",
       "    .dataframe thead th {\n",
       "        text-align: right;\n",
       "    }\n",
       "</style>\n",
       "<table border=\"1\" class=\"dataframe\">\n",
       "  <thead>\n",
       "    <tr style=\"text-align: right;\">\n",
       "      <th></th>\n",
       "      <th>nid</th>\n",
       "      <th>제목</th>\n",
       "      <th>url</th>\n",
       "      <th>부서레벨1</th>\n",
       "      <th>부서레벨2</th>\n",
       "      <th>부서레벨3</th>\n",
       "      <th>부서레벨4</th>\n",
       "      <th>부서레벨5</th>\n",
       "      <th>집행년도</th>\n",
       "      <th>집행월</th>\n",
       "      <th>예산</th>\n",
       "      <th>집행</th>\n",
       "      <th>구분</th>\n",
       "      <th>부서명</th>\n",
       "      <th>집행일시</th>\n",
       "      <th>집행장소</th>\n",
       "      <th>집행목적</th>\n",
       "      <th>대상인원</th>\n",
       "      <th>결제방법</th>\n",
       "      <th>집행금액</th>\n",
       "    </tr>\n",
       "  </thead>\n",
       "  <tbody>\n",
       "    <tr>\n",
       "      <th>0</th>\n",
       "      <td>11430252</td>\n",
       "      <td>2017년 1월 장애인복지정책과 업무추진비 집행내역</td>\n",
       "      <td>http://opengov.seoul.go.kr/public/11430252</td>\n",
       "      <td>서울시본청</td>\n",
       "      <td>복지본부</td>\n",
       "      <td>장애인복지정책과</td>\n",
       "      <td>NaN</td>\n",
       "      <td>NaN</td>\n",
       "      <td>2017</td>\n",
       "      <td>1</td>\n",
       "      <td>NaN</td>\n",
       "      <td>NaN</td>\n",
       "      <td>NaN</td>\n",
       "      <td>복지본부 장애인복지정책과</td>\n",
       "      <td>2017-01-26 13:10</td>\n",
       "      <td>동해일식 (중구 무교동)</td>\n",
       "      <td>기본소득과 장애인복지 논의간담회</td>\n",
       "      <td>장애인복지정책팀장 외 2명</td>\n",
       "      <td>카드</td>\n",
       "      <td>76000</td>\n",
       "    </tr>\n",
       "    <tr>\n",
       "      <th>1</th>\n",
       "      <td>11430252</td>\n",
       "      <td>2017년 1월 장애인복지정책과 업무추진비 집행내역</td>\n",
       "      <td>http://opengov.seoul.go.kr/public/11430252</td>\n",
       "      <td>서울시본청</td>\n",
       "      <td>복지본부</td>\n",
       "      <td>장애인복지정책과</td>\n",
       "      <td>NaN</td>\n",
       "      <td>NaN</td>\n",
       "      <td>2017</td>\n",
       "      <td>1</td>\n",
       "      <td>NaN</td>\n",
       "      <td>NaN</td>\n",
       "      <td>NaN</td>\n",
       "      <td>복지본부 장애인복지정책과</td>\n",
       "      <td>2017-01-25 22:41</td>\n",
       "      <td>김앤장 (중구 무교로)</td>\n",
       "      <td>장애인단체 활동지원 논의간담회</td>\n",
       "      <td>장애인복지정책과장 외 3명</td>\n",
       "      <td>카드</td>\n",
       "      <td>102000</td>\n",
       "    </tr>\n",
       "  </tbody>\n",
       "</table>\n",
       "</div>"
      ],
      "text/plain": [
       "        nid                            제목  \\\n",
       "0  11430252  2017년 1월 장애인복지정책과 업무추진비 집행내역   \n",
       "1  11430252  2017년 1월 장애인복지정책과 업무추진비 집행내역   \n",
       "\n",
       "                                          url  부서레벨1  부서레벨2     부서레벨3  부서레벨4  \\\n",
       "0  http://opengov.seoul.go.kr/public/11430252  서울시본청   복지본부  장애인복지정책과    NaN   \n",
       "1  http://opengov.seoul.go.kr/public/11430252  서울시본청   복지본부  장애인복지정책과    NaN   \n",
       "\n",
       "   부서레벨5                  집행년도   집행월   예산   집행   구분            부서명  \\\n",
       "0    NaN                  2017     1  NaN  NaN  NaN  복지본부 장애인복지정책과   \n",
       "1    NaN                  2017     1  NaN  NaN  NaN  복지본부 장애인복지정책과   \n",
       "\n",
       "               집행일시           집행장소               집행목적            대상인원  결제방법  \\\n",
       "0  2017-01-26 13:10  동해일식 (중구 무교동)  기본소득과 장애인복지 논의간담회  장애인복지정책팀장 외 2명    카드   \n",
       "1  2017-01-25 22:41   김앤장 (중구 무교로)   장애인단체 활동지원 논의간담회  장애인복지정책과장 외 3명    카드   \n",
       "\n",
       "     집행금액  \n",
       "0   76000  \n",
       "1  102000  "
      ]
     },
     "execution_count": 53,
     "metadata": {},
     "output_type": "execute_result"
    }
   ],
   "source": [
    "df.head(2)"
   ]
  },
  {
   "cell_type": "code",
   "execution_count": 54,
   "metadata": {},
   "outputs": [],
   "source": [
    "import pandas as pd\n",
    "\n",
    "year = 2017\n",
    "expense_list_year_dir = 'C:/myPyCode/data/seoul_expense/' + str(year) + '/'\n",
    "\n",
    "df_year = pd.DataFrame()\n",
    "for k in range(12):\n",
    "    file_name = \"{0}{1:02d}_expense_list_new.csv\".format(year,k+1)\n",
    "    \n",
    "    df_month = pd.read_csv(expense_list_year_dir + file_name)\n",
    "    \n",
    "    df_year = df_year.append(df_month,ignore_index = True)"
   ]
  },
  {
   "cell_type": "code",
   "execution_count": 55,
   "metadata": {},
   "outputs": [
    {
     "data": {
      "text/html": [
       "<div>\n",
       "<style scoped>\n",
       "    .dataframe tbody tr th:only-of-type {\n",
       "        vertical-align: middle;\n",
       "    }\n",
       "\n",
       "    .dataframe tbody tr th {\n",
       "        vertical-align: top;\n",
       "    }\n",
       "\n",
       "    .dataframe thead th {\n",
       "        text-align: right;\n",
       "    }\n",
       "</style>\n",
       "<table border=\"1\" class=\"dataframe\">\n",
       "  <thead>\n",
       "    <tr style=\"text-align: right;\">\n",
       "      <th></th>\n",
       "      <th>nid</th>\n",
       "      <th>제목</th>\n",
       "      <th>url</th>\n",
       "      <th>부서레벨1</th>\n",
       "      <th>부서레벨2</th>\n",
       "      <th>부서레벨3</th>\n",
       "      <th>부서레벨4</th>\n",
       "      <th>부서레벨5</th>\n",
       "      <th>집행년도</th>\n",
       "      <th>집행월</th>\n",
       "      <th>예산</th>\n",
       "      <th>집행</th>\n",
       "      <th>구분</th>\n",
       "      <th>부서명</th>\n",
       "      <th>집행일시</th>\n",
       "      <th>집행장소</th>\n",
       "      <th>집행목적</th>\n",
       "      <th>대상인원</th>\n",
       "      <th>결제방법</th>\n",
       "      <th>집행금액</th>\n",
       "    </tr>\n",
       "  </thead>\n",
       "  <tbody>\n",
       "    <tr>\n",
       "      <th>0</th>\n",
       "      <td>11430252</td>\n",
       "      <td>2017년 1월 장애인복지정책과 업무추진비 집행내역</td>\n",
       "      <td>http://opengov.seoul.go.kr/public/11430252</td>\n",
       "      <td>서울시본청</td>\n",
       "      <td>복지본부</td>\n",
       "      <td>장애인복지정책과</td>\n",
       "      <td>NaN</td>\n",
       "      <td>NaN</td>\n",
       "      <td>2017</td>\n",
       "      <td>1</td>\n",
       "      <td>NaN</td>\n",
       "      <td>NaN</td>\n",
       "      <td>NaN</td>\n",
       "      <td>복지본부 장애인복지정책과</td>\n",
       "      <td>2017-01-26 13:10</td>\n",
       "      <td>동해일식 (중구 무교동)</td>\n",
       "      <td>기본소득과 장애인복지 논의간담회</td>\n",
       "      <td>장애인복지정책팀장 외 2명</td>\n",
       "      <td>카드</td>\n",
       "      <td>76000</td>\n",
       "    </tr>\n",
       "    <tr>\n",
       "      <th>1</th>\n",
       "      <td>11430252</td>\n",
       "      <td>2017년 1월 장애인복지정책과 업무추진비 집행내역</td>\n",
       "      <td>http://opengov.seoul.go.kr/public/11430252</td>\n",
       "      <td>서울시본청</td>\n",
       "      <td>복지본부</td>\n",
       "      <td>장애인복지정책과</td>\n",
       "      <td>NaN</td>\n",
       "      <td>NaN</td>\n",
       "      <td>2017</td>\n",
       "      <td>1</td>\n",
       "      <td>NaN</td>\n",
       "      <td>NaN</td>\n",
       "      <td>NaN</td>\n",
       "      <td>복지본부 장애인복지정책과</td>\n",
       "      <td>2017-01-25 22:41</td>\n",
       "      <td>김앤장 (중구 무교로)</td>\n",
       "      <td>장애인단체 활동지원 논의간담회</td>\n",
       "      <td>장애인복지정책과장 외 3명</td>\n",
       "      <td>카드</td>\n",
       "      <td>102000</td>\n",
       "    </tr>\n",
       "  </tbody>\n",
       "</table>\n",
       "</div>"
      ],
      "text/plain": [
       "        nid                            제목  \\\n",
       "0  11430252  2017년 1월 장애인복지정책과 업무추진비 집행내역   \n",
       "1  11430252  2017년 1월 장애인복지정책과 업무추진비 집행내역   \n",
       "\n",
       "                                          url  부서레벨1  부서레벨2     부서레벨3  부서레벨4  \\\n",
       "0  http://opengov.seoul.go.kr/public/11430252  서울시본청   복지본부  장애인복지정책과    NaN   \n",
       "1  http://opengov.seoul.go.kr/public/11430252  서울시본청   복지본부  장애인복지정책과    NaN   \n",
       "\n",
       "   부서레벨5                  집행년도   집행월   예산   집행   구분            부서명  \\\n",
       "0    NaN                  2017     1  NaN  NaN  NaN  복지본부 장애인복지정책과   \n",
       "1    NaN                  2017     1  NaN  NaN  NaN  복지본부 장애인복지정책과   \n",
       "\n",
       "               집행일시           집행장소               집행목적            대상인원  결제방법  \\\n",
       "0  2017-01-26 13:10  동해일식 (중구 무교동)  기본소득과 장애인복지 논의간담회  장애인복지정책팀장 외 2명    카드   \n",
       "1  2017-01-25 22:41   김앤장 (중구 무교로)   장애인단체 활동지원 논의간담회  장애인복지정책과장 외 3명    카드   \n",
       "\n",
       "     집행금액  \n",
       "0   76000  \n",
       "1  102000  "
      ]
     },
     "execution_count": 55,
     "metadata": {},
     "output_type": "execute_result"
    }
   ],
   "source": [
    "df_year.head(2)"
   ]
  },
  {
   "cell_type": "code",
   "execution_count": 20,
   "metadata": {},
   "outputs": [
    {
     "data": {
      "text/html": [
       "<div>\n",
       "<style scoped>\n",
       "    .dataframe tbody tr th:only-of-type {\n",
       "        vertical-align: middle;\n",
       "    }\n",
       "\n",
       "    .dataframe tbody tr th {\n",
       "        vertical-align: top;\n",
       "    }\n",
       "\n",
       "    .dataframe thead th {\n",
       "        text-align: right;\n",
       "    }\n",
       "</style>\n",
       "<table border=\"1\" class=\"dataframe\">\n",
       "  <thead>\n",
       "    <tr style=\"text-align: right;\">\n",
       "      <th></th>\n",
       "      <th>nid</th>\n",
       "      <th>제목</th>\n",
       "      <th>url</th>\n",
       "      <th>부서레벨1</th>\n",
       "      <th>부서레벨2</th>\n",
       "      <th>부서레벨3</th>\n",
       "      <th>부서레벨4</th>\n",
       "      <th>부서레벨5</th>\n",
       "      <th>집행년도</th>\n",
       "      <th>집행월</th>\n",
       "      <th>예산</th>\n",
       "      <th>집행</th>\n",
       "      <th>구분</th>\n",
       "      <th>부서명</th>\n",
       "      <th>집행일시</th>\n",
       "      <th>집행장소</th>\n",
       "      <th>집행목적</th>\n",
       "      <th>대상인원</th>\n",
       "      <th>결제방법</th>\n",
       "      <th>집행금액</th>\n",
       "    </tr>\n",
       "  </thead>\n",
       "  <tbody>\n",
       "    <tr>\n",
       "      <th>70130</th>\n",
       "      <td>14292506</td>\n",
       "      <td>2017년 12월 사업소_은평병원_원무과 업무추진비 내역</td>\n",
       "      <td>http://opengov.seoul.go.kr/public/14292506</td>\n",
       "      <td>사업소</td>\n",
       "      <td>은평병원</td>\n",
       "      <td>원무과</td>\n",
       "      <td>NaN</td>\n",
       "      <td>NaN</td>\n",
       "      <td>2017</td>\n",
       "      <td>12</td>\n",
       "      <td>NaN</td>\n",
       "      <td>NaN</td>\n",
       "      <td>NaN</td>\n",
       "      <td>원무과</td>\n",
       "      <td>2017-12-05 18:21</td>\n",
       "      <td>삿뽀로(서오릉로 4)</td>\n",
       "      <td>인증 관련업무 직원 격려 간담회</td>\n",
       "      <td>병원장 외 33명</td>\n",
       "      <td>카드</td>\n",
       "      <td>820000</td>\n",
       "    </tr>\n",
       "    <tr>\n",
       "      <th>70131</th>\n",
       "      <td>14292506</td>\n",
       "      <td>2017년 12월 사업소_은평병원_원무과 업무추진비 내역</td>\n",
       "      <td>http://opengov.seoul.go.kr/public/14292506</td>\n",
       "      <td>사업소</td>\n",
       "      <td>은평병원</td>\n",
       "      <td>원무과</td>\n",
       "      <td>NaN</td>\n",
       "      <td>NaN</td>\n",
       "      <td>2017</td>\n",
       "      <td>12</td>\n",
       "      <td>NaN</td>\n",
       "      <td>NaN</td>\n",
       "      <td>NaN</td>\n",
       "      <td>원무과</td>\n",
       "      <td>2017-12-06 18:00</td>\n",
       "      <td>스타벅스(응암동 96-1)</td>\n",
       "      <td>전문의 및 전공의 격려 다과회</td>\n",
       "      <td>병원장 외 11명</td>\n",
       "      <td>카드</td>\n",
       "      <td>440000</td>\n",
       "    </tr>\n",
       "  </tbody>\n",
       "</table>\n",
       "</div>"
      ],
      "text/plain": [
       "            nid                               제목  \\\n",
       "70130  14292506  2017년 12월 사업소_은평병원_원무과 업무추진비 내역   \n",
       "70131  14292506  2017년 12월 사업소_은평병원_원무과 업무추진비 내역   \n",
       "\n",
       "                                              url  부서레벨1  부서레벨2  부서레벨3  부서레벨4  \\\n",
       "70130  http://opengov.seoul.go.kr/public/14292506    사업소   은평병원    원무과    NaN   \n",
       "70131  http://opengov.seoul.go.kr/public/14292506    사업소   은평병원    원무과    NaN   \n",
       "\n",
       "       부서레벨5                  집행년도   집행월   예산   집행   구분  부서명  \\\n",
       "70130    NaN                  2017    12  NaN  NaN  NaN  원무과   \n",
       "70131    NaN                  2017    12  NaN  NaN  NaN  원무과   \n",
       "\n",
       "                   집행일시            집행장소               집행목적       대상인원  결제방법  \\\n",
       "70130  2017-12-05 18:21     삿뽀로(서오릉로 4)  인증 관련업무 직원 격려 간담회  병원장 외 33명    카드   \n",
       "70131  2017-12-06 18:00  스타벅스(응암동 96-1)   전문의 및 전공의 격려 다과회  병원장 외 11명    카드   \n",
       "\n",
       "         집행금액  \n",
       "70130  820000  \n",
       "70131  440000  "
      ]
     },
     "execution_count": 20,
     "metadata": {},
     "output_type": "execute_result"
    }
   ],
   "source": [
    "df_year.tail(2)"
   ]
  },
  {
   "cell_type": "code",
   "execution_count": 21,
   "metadata": {},
   "outputs": [
    {
     "name": "stdout",
     "output_type": "stream",
     "text": [
      "<class 'pandas.core.frame.DataFrame'>\n",
      "RangeIndex: 70132 entries, 0 to 70131\n",
      "Data columns (total 20 columns):\n",
      "nid                     70132 non-null int64\n",
      " 제목                     70132 non-null object\n",
      " url                    70132 non-null object\n",
      " 부서레벨1                  70132 non-null object\n",
      " 부서레벨2                  70074 non-null object\n",
      " 부서레벨3                  61262 non-null object\n",
      " 부서레벨4                  17939 non-null object\n",
      " 부서레벨5                  3474 non-null object\n",
      "                집행년도    70132 non-null int64\n",
      " 집행월                    70132 non-null int64\n",
      " 예산                     3108 non-null float64\n",
      " 집행                     2805 non-null float64\n",
      " 구분                     1259 non-null object\n",
      " 부서명                    70053 non-null object\n",
      " 집행일시                   70132 non-null object\n",
      " 집행장소                   69360 non-null object\n",
      " 집행목적                   70110 non-null object\n",
      " 대상인원                   69597 non-null object\n",
      " 결제방법                   69929 non-null object\n",
      " 집행금액                   70132 non-null int64\n",
      "dtypes: float64(2), int64(4), object(14)\n",
      "memory usage: 10.7+ MB\n"
     ]
    }
   ],
   "source": [
    "df_year.info()"
   ]
  },
  {
   "cell_type": "code",
   "execution_count": 58,
   "metadata": {},
   "outputs": [
    {
     "data": {
      "text/plain": [
       "nid                         0\n",
       " 제목                         0\n",
       " url                        0\n",
       " 부서레벨1                      0\n",
       " 부서레벨2                     58\n",
       " 부서레벨3                   8870\n",
       " 부서레벨4                  52193\n",
       " 부서레벨5                  66658\n",
       "                집행년도        0\n",
       " 집행월                        0\n",
       " 예산                     67024\n",
       " 집행                     67327\n",
       " 구분                     68873\n",
       " 부서명                       79\n",
       " 집행일시                       0\n",
       " 집행장소                     772\n",
       " 집행목적                      22\n",
       " 대상인원                     535\n",
       " 결제방법                     203\n",
       " 집행금액                       0\n",
       "dtype: int64"
      ]
     },
     "execution_count": 58,
     "metadata": {},
     "output_type": "execute_result"
    }
   ],
   "source": [
    "df_year.isna().sum()"
   ]
  },
  {
   "cell_type": "code",
   "execution_count": 62,
   "metadata": {},
   "outputs": [
    {
     "data": {
      "text/html": [
       "<div>\n",
       "<style scoped>\n",
       "    .dataframe tbody tr th:only-of-type {\n",
       "        vertical-align: middle;\n",
       "    }\n",
       "\n",
       "    .dataframe tbody tr th {\n",
       "        vertical-align: top;\n",
       "    }\n",
       "\n",
       "    .dataframe thead th {\n",
       "        text-align: right;\n",
       "    }\n",
       "</style>\n",
       "<table border=\"1\" class=\"dataframe\">\n",
       "  <thead>\n",
       "    <tr style=\"text-align: right;\">\n",
       "      <th></th>\n",
       "      <th>제목</th>\n",
       "      <th>부서레벨1</th>\n",
       "      <th>부서레벨2</th>\n",
       "      <th>집행년도</th>\n",
       "      <th>집행월</th>\n",
       "      <th>부서명</th>\n",
       "      <th>집행일시</th>\n",
       "      <th>집행장소</th>\n",
       "      <th>집행목적</th>\n",
       "      <th>대상인원</th>\n",
       "      <th>결제방법</th>\n",
       "      <th>집행금액</th>\n",
       "    </tr>\n",
       "  </thead>\n",
       "  <tbody>\n",
       "    <tr>\n",
       "      <th>0</th>\n",
       "      <td>2017년 1월 장애인복지정책과 업무추진비 집행내역</td>\n",
       "      <td>서울시본청</td>\n",
       "      <td>복지본부</td>\n",
       "      <td>2017</td>\n",
       "      <td>1</td>\n",
       "      <td>복지본부 장애인복지정책과</td>\n",
       "      <td>2017-01-26 13:10</td>\n",
       "      <td>동해일식 (중구 무교동)</td>\n",
       "      <td>기본소득과 장애인복지 논의간담회</td>\n",
       "      <td>장애인복지정책팀장 외 2명</td>\n",
       "      <td>카드</td>\n",
       "      <td>76000</td>\n",
       "    </tr>\n",
       "    <tr>\n",
       "      <th>1</th>\n",
       "      <td>2017년 1월 장애인복지정책과 업무추진비 집행내역</td>\n",
       "      <td>서울시본청</td>\n",
       "      <td>복지본부</td>\n",
       "      <td>2017</td>\n",
       "      <td>1</td>\n",
       "      <td>복지본부 장애인복지정책과</td>\n",
       "      <td>2017-01-25 22:41</td>\n",
       "      <td>김앤장 (중구 무교로)</td>\n",
       "      <td>장애인단체 활동지원 논의간담회</td>\n",
       "      <td>장애인복지정책과장 외 3명</td>\n",
       "      <td>카드</td>\n",
       "      <td>102000</td>\n",
       "    </tr>\n",
       "  </tbody>\n",
       "</table>\n",
       "</div>"
      ],
      "text/plain": [
       "                             제목  부서레벨1  부서레벨2                  집행년도   집행월  \\\n",
       "0  2017년 1월 장애인복지정책과 업무추진비 집행내역  서울시본청   복지본부                  2017     1   \n",
       "1  2017년 1월 장애인복지정책과 업무추진비 집행내역  서울시본청   복지본부                  2017     1   \n",
       "\n",
       "             부서명              집행일시           집행장소               집행목적  \\\n",
       "0  복지본부 장애인복지정책과  2017-01-26 13:10  동해일식 (중구 무교동)  기본소득과 장애인복지 논의간담회   \n",
       "1  복지본부 장애인복지정책과  2017-01-25 22:41   김앤장 (중구 무교로)   장애인단체 활동지원 논의간담회   \n",
       "\n",
       "             대상인원  결제방법    집행금액  \n",
       "0  장애인복지정책팀장 외 2명    카드   76000  \n",
       "1  장애인복지정책과장 외 3명    카드  102000  "
      ]
     },
     "execution_count": 62,
     "metadata": {},
     "output_type": "execute_result"
    }
   ],
   "source": [
    "df_year_drop = df_year.drop(columns = ['nid',' url',' 부서레벨3',' 부서레벨4',' 부서레벨5',' 예산',' 집행',' 구분'])\n",
    "\n",
    "df_year_drop.head(2)"
   ]
  },
  {
   "cell_type": "code",
   "execution_count": 64,
   "metadata": {},
   "outputs": [],
   "source": [
    "year = 2017\n",
    "expense_list_year_dir = 'C:/myPyCode/data/seoul_expense/' + str(year) + '/'\n",
    "\n",
    "expense_list_tidy_file = \"{}_expense_list_tidy.csv\".format(year)\n",
    "df_year_drop.to_csv(expense_list_year_dir + expense_list_tidy_file, index = False)"
   ]
  },
  {
   "cell_type": "code",
   "execution_count": 65,
   "metadata": {},
   "outputs": [
    {
     "name": "stdout",
     "output_type": "stream",
     "text": [
      "C:/myPyCode/data/seoul_expense/2017/2017_expense_list_tidy.csv\n"
     ]
    },
    {
     "data": {
      "text/plain": [
       "True"
      ]
     },
     "execution_count": 65,
     "metadata": {},
     "output_type": "execute_result"
    }
   ],
   "source": [
    "import os\n",
    "\n",
    "file_name = expense_list_year_dir + expense_list_tidy_file\n",
    "print(file_name)\n",
    "os.path.isfile(file_name)"
   ]
  },
  {
   "cell_type": "code",
   "execution_count": 66,
   "metadata": {},
   "outputs": [],
   "source": [
    "import pandas as pd\n",
    "\n",
    "def select_columns_save_file(year, data_folder, drop_columns_list):\n",
    "    \n",
    "    expense_list_year_dir = data_folder + str(year) + '/'\n",
    "    expense_list_tidy_file = \"{}_expense_list_tidy.csv\".format(year)\n",
    "    \n",
    "    df_year = pd.DataFrame()\n",
    "    for k in range(12):\n",
    "        file_name = \"{0}{1:02d}_expense_list_new.csv\".format(year,k+1)\n",
    "        \n",
    "        df_month = pd.read_csv(expense_list_year_dir + file_name)\n",
    "        \n",
    "        df_year = df_year.append(df_month, ignore_index = True)\n",
    "        \n",
    "    df_year_drop = df_year.drop(columns=drop_columns_list)\n",
    "    new_file_name = expense_list_year_dir + expense_list_tidy_file\n",
    "    df_year_drop.to_csv(new_file_name,index = False)\n",
    "    \n",
    "    print(\"==> {}파일을 생성했습니다.\".format(expense_list_tidy_file))"
   ]
  },
  {
   "cell_type": "code",
   "execution_count": 67,
   "metadata": {},
   "outputs": [
    {
     "name": "stdout",
     "output_type": "stream",
     "text": [
      "2017년 데이터를 정리해서 저장하고 있습니다.\n",
      "==> 2017_expense_list_tidy.csv파일을 생성했습니다.\n",
      "2018년 데이터를 정리해서 저장하고 있습니다.\n",
      "==> 2018_expense_list_tidy.csv파일을 생성했습니다.\n",
      "2019년 데이터를 정리해서 저장하고 있습니다.\n",
      "==> 2019_expense_list_tidy.csv파일을 생성했습니다.\n",
      "모든 연도의 데이터를 정리해서 파일로 저장했습니다.\n"
     ]
    }
   ],
   "source": [
    "data_folder = 'C:/myPyCode/data/seoul_expense/'\n",
    "\n",
    "years = [2017,2018,2019]\n",
    "drop_columns_list = ['nid',' url', ' 부서레벨3',' 부서레벨4',' 부서레벨5',' 예산',' 집행',' 구분']\n",
    "\n",
    "for year in years:\n",
    "    print(\"{}년 데이터를 정리해서 저장하고 있습니다.\".format(year))\n",
    "    select_columns_save_file(year, data_folder, drop_columns_list)\n",
    "print(\"모든 연도의 데이터를 정리해서 파일로 저장했습니다.\")"
   ]
  },
  {
   "cell_type": "code",
   "execution_count": 68,
   "metadata": {},
   "outputs": [
    {
     "name": "stdout",
     "output_type": "stream",
     "text": [
      "C:/myPyCode/data/seoul_expense/2017/2017_expense_list_tidy.csv ==>True\n",
      "C:/myPyCode/data/seoul_expense/2018/2018_expense_list_tidy.csv ==>True\n",
      "C:/myPyCode/data/seoul_expense/2019/2019_expense_list_tidy.csv ==>True\n"
     ]
    }
   ],
   "source": [
    "import os\n",
    "\n",
    "years = [2017,2018,2019]\n",
    "\n",
    "for year in years:\n",
    "    expense_list_year_dir = data_folder + str(year)+ '/'\n",
    "    expense_list_tidy_file = \"{}_expense_list_tidy.csv\".format(year)\n",
    "    \n",
    "    file_name = expense_list_year_dir + expense_list_tidy_file\n",
    "    print(file_name, \"==>\", end=\"\")\n",
    "    print(os.path.isfile(file_name))"
   ]
  },
  {
   "cell_type": "code",
   "execution_count": 75,
   "metadata": {},
   "outputs": [],
   "source": [
    "import os\n",
    "from datetime import datetime\n",
    "\n",
    "def get_file_info(year, data_folder):\n",
    "    expense_list_year_dir = data_folder + str(year) + '/'\n",
    "    expense_list_tidy_file = \"{}_expense_list_tidy.csv\".format(year)\n",
    "    path_file_name = expense_list_year_dir + expense_list_tidy_file\n",
    "    print(path_file_name)\n",
    "    result = os.path.isfile(path_file_name)\n",
    "    \n",
    "    modified_time = datetime.fromtimestamp(os.path.getmtime(path_file_name))\n",
    "    \n",
    "    created_time = datetime.fromtimestamp(os.path.getctime(path_file_name))\n",
    "    \n",
    "    file_size = os.path.getsize(path_file_name)\n",
    "    \n",
    "    if(result == True):\n",
    "        print(\"[생성한 CSV 데이터 파일의 정보]\")\n",
    "        print(\"* 폴더 위치:\", expense_list_year_dir)\n",
    "        print(\"* 파일 이름:\",expense_list_tidy_file)\n",
    "        print(\"* 수정 시간:\", modified_time.strftime('%Y-%m-%d %H:%M:%S'))\n",
    "        print(\"* 생성 시간:\", created_time.strftime('%Y-%m-%d %H:%M:%S'))\n",
    "        print(\"* 파일 크기: {0:,} 바이트\".format(file_size))\n",
    "        "
   ]
  },
  {
   "cell_type": "code",
   "execution_count": 76,
   "metadata": {},
   "outputs": [
    {
     "name": "stdout",
     "output_type": "stream",
     "text": [
      "C:/myPyCode/data/seoul_expense/2017/2017_expense_list_tidy.csv\n",
      "[생성한 CSV 데이터 파일의 정보]\n",
      "* 폴더 위치: C:/myPyCode/data/seoul_expense/2017/\n",
      "* 파일 이름: 2017_expense_list_tidy.csv\n",
      "* 수정 시간: 2020-07-28 15:59:07\n",
      "* 생성 시간: 2020-07-28 15:47:44\n",
      "* 파일 크기: 21,505,592 바이트\n",
      "\n",
      "C:/myPyCode/data/seoul_expense/2018/2018_expense_list_tidy.csv\n",
      "[생성한 CSV 데이터 파일의 정보]\n",
      "* 폴더 위치: C:/myPyCode/data/seoul_expense/2018/\n",
      "* 파일 이름: 2018_expense_list_tidy.csv\n",
      "* 수정 시간: 2020-07-28 15:59:09\n",
      "* 생성 시간: 2020-07-28 15:59:08\n",
      "* 파일 크기: 23,012,617 바이트\n",
      "\n",
      "C:/myPyCode/data/seoul_expense/2019/2019_expense_list_tidy.csv\n",
      "[생성한 CSV 데이터 파일의 정보]\n",
      "* 폴더 위치: C:/myPyCode/data/seoul_expense/2019/\n",
      "* 파일 이름: 2019_expense_list_tidy.csv\n",
      "* 수정 시간: 2020-07-28 15:59:10\n",
      "* 생성 시간: 2020-07-28 15:59:10\n",
      "* 파일 크기: 24,395,348 바이트\n",
      "\n"
     ]
    }
   ],
   "source": [
    "data_folder = 'C:/myPyCode/data/seoul_expense/'\n",
    "years = [2017,2018,2019]\n",
    "\n",
    "for year in years:\n",
    "    get_file_info(year,data_folder)\n",
    "    print(\"\")"
   ]
  },
  {
   "cell_type": "markdown",
   "metadata": {},
   "source": [
    "## 데이터 분석"
   ]
  },
  {
   "cell_type": "code",
   "execution_count": 77,
   "metadata": {},
   "outputs": [],
   "source": [
    "import pandas as pd\n",
    "\n",
    "data_folder = 'C:/myPyCode/data/seoul_expense/'\n",
    "years = [2017,2018,2019]\n",
    "\n",
    "df_expense_all = pd.DataFrame()\n",
    "\n",
    "for year in years:\n",
    "    expense_list_year_dir = data_folder + str(year) + '/'\n",
    "    expense_list_tidy_file = \"{}_expense_list_tidy.csv\".format(year)\n",
    "    \n",
    "    path_file_name = expense_list_year_dir + expense_list_tidy_file\n",
    "    \n",
    "    df_expense = pd.read_csv(path_file_name)\n",
    "    df_expense_all = df_expense_all.append(df_expense, ignore_index = True)"
   ]
  },
  {
   "cell_type": "code",
   "execution_count": 78,
   "metadata": {},
   "outputs": [
    {
     "name": "stdout",
     "output_type": "stream",
     "text": [
      "<class 'pandas.core.frame.DataFrame'>\n",
      "RangeIndex: 216388 entries, 0 to 216387\n",
      "Data columns (total 12 columns):\n",
      " 제목                     216388 non-null object\n",
      " 부서레벨1                  216388 non-null object\n",
      " 부서레벨2                  216104 non-null object\n",
      "                집행년도    216388 non-null int64\n",
      " 집행월                    216388 non-null int64\n",
      " 부서명                    216309 non-null object\n",
      " 집행일시                   216388 non-null object\n",
      " 집행장소                   214232 non-null object\n",
      " 집행목적                   216366 non-null object\n",
      " 대상인원                   215368 non-null object\n",
      " 결제방법                   216185 non-null object\n",
      " 집행금액                   216388 non-null int64\n",
      "dtypes: int64(3), object(9)\n",
      "memory usage: 19.8+ MB\n"
     ]
    }
   ],
   "source": [
    "df_expense_all.info()"
   ]
  },
  {
   "cell_type": "code",
   "execution_count": 79,
   "metadata": {},
   "outputs": [
    {
     "data": {
      "text/html": [
       "<div>\n",
       "<style scoped>\n",
       "    .dataframe tbody tr th:only-of-type {\n",
       "        vertical-align: middle;\n",
       "    }\n",
       "\n",
       "    .dataframe tbody tr th {\n",
       "        vertical-align: top;\n",
       "    }\n",
       "\n",
       "    .dataframe thead th {\n",
       "        text-align: right;\n",
       "    }\n",
       "</style>\n",
       "<table border=\"1\" class=\"dataframe\">\n",
       "  <thead>\n",
       "    <tr style=\"text-align: right;\">\n",
       "      <th></th>\n",
       "      <th>제목</th>\n",
       "      <th>부서레벨1</th>\n",
       "      <th>부서레벨2</th>\n",
       "      <th>집행년도</th>\n",
       "      <th>집행월</th>\n",
       "      <th>부서명</th>\n",
       "      <th>집행일시</th>\n",
       "      <th>집행장소</th>\n",
       "      <th>집행목적</th>\n",
       "      <th>대상인원</th>\n",
       "      <th>결제방법</th>\n",
       "      <th>집행금액</th>\n",
       "    </tr>\n",
       "  </thead>\n",
       "  <tbody>\n",
       "    <tr>\n",
       "      <th>0</th>\n",
       "      <td>2017년 1월 장애인복지정책과 업무추진비 집행내역</td>\n",
       "      <td>서울시본청</td>\n",
       "      <td>복지본부</td>\n",
       "      <td>2017</td>\n",
       "      <td>1</td>\n",
       "      <td>복지본부 장애인복지정책과</td>\n",
       "      <td>2017-01-26 13:10</td>\n",
       "      <td>동해일식 (중구 무교동)</td>\n",
       "      <td>기본소득과 장애인복지 논의간담회</td>\n",
       "      <td>장애인복지정책팀장 외 2명</td>\n",
       "      <td>카드</td>\n",
       "      <td>76000</td>\n",
       "    </tr>\n",
       "    <tr>\n",
       "      <th>1</th>\n",
       "      <td>2017년 1월 장애인복지정책과 업무추진비 집행내역</td>\n",
       "      <td>서울시본청</td>\n",
       "      <td>복지본부</td>\n",
       "      <td>2017</td>\n",
       "      <td>1</td>\n",
       "      <td>복지본부 장애인복지정책과</td>\n",
       "      <td>2017-01-25 22:41</td>\n",
       "      <td>김앤장 (중구 무교로)</td>\n",
       "      <td>장애인단체 활동지원 논의간담회</td>\n",
       "      <td>장애인복지정책과장 외 3명</td>\n",
       "      <td>카드</td>\n",
       "      <td>102000</td>\n",
       "    </tr>\n",
       "    <tr>\n",
       "      <th>2</th>\n",
       "      <td>2017년 1월 장애인복지정책과 업무추진비 집행내역</td>\n",
       "      <td>서울시본청</td>\n",
       "      <td>복지본부</td>\n",
       "      <td>2017</td>\n",
       "      <td>1</td>\n",
       "      <td>복지본부 장애인복지정책과</td>\n",
       "      <td>2017-01-24 12:35</td>\n",
       "      <td>왕왕생고기 (중구 을지로)</td>\n",
       "      <td>장애인 기본돌봄 복지시책 논의간담회</td>\n",
       "      <td>장애인복지정책팀장외7명</td>\n",
       "      <td>카드</td>\n",
       "      <td>80000</td>\n",
       "    </tr>\n",
       "    <tr>\n",
       "      <th>3</th>\n",
       "      <td>2017년 1월 장애인복지정책과 업무추진비 집행내역</td>\n",
       "      <td>서울시본청</td>\n",
       "      <td>복지본부</td>\n",
       "      <td>2017</td>\n",
       "      <td>1</td>\n",
       "      <td>복지본부 장애인복지정책과</td>\n",
       "      <td>2017-01-24 12:23</td>\n",
       "      <td>서울불고기 (중구 남대문로)</td>\n",
       "      <td>서울시일자리통합지원센터 운영개선 논의간담회</td>\n",
       "      <td>장애인복지정책과장외5명</td>\n",
       "      <td>카드</td>\n",
       "      <td>112000</td>\n",
       "    </tr>\n",
       "    <tr>\n",
       "      <th>4</th>\n",
       "      <td>2017년 1월 장애인복지정책과 업무추진비 집행내역</td>\n",
       "      <td>서울시본청</td>\n",
       "      <td>복지본부</td>\n",
       "      <td>2017</td>\n",
       "      <td>1</td>\n",
       "      <td>복지본부 장애인복지정책과</td>\n",
       "      <td>2017-01-23 15:10</td>\n",
       "      <td>서울시청신매점</td>\n",
       "      <td>부서운영에 필요한 음료수 구매</td>\n",
       "      <td>장애인복지정책과직원</td>\n",
       "      <td>카드</td>\n",
       "      <td>16000</td>\n",
       "    </tr>\n",
       "  </tbody>\n",
       "</table>\n",
       "</div>"
      ],
      "text/plain": [
       "                             제목  부서레벨1  부서레벨2                  집행년도   집행월  \\\n",
       "0  2017년 1월 장애인복지정책과 업무추진비 집행내역  서울시본청   복지본부                  2017     1   \n",
       "1  2017년 1월 장애인복지정책과 업무추진비 집행내역  서울시본청   복지본부                  2017     1   \n",
       "2  2017년 1월 장애인복지정책과 업무추진비 집행내역  서울시본청   복지본부                  2017     1   \n",
       "3  2017년 1월 장애인복지정책과 업무추진비 집행내역  서울시본청   복지본부                  2017     1   \n",
       "4  2017년 1월 장애인복지정책과 업무추진비 집행내역  서울시본청   복지본부                  2017     1   \n",
       "\n",
       "             부서명              집행일시             집행장소                     집행목적  \\\n",
       "0  복지본부 장애인복지정책과  2017-01-26 13:10    동해일식 (중구 무교동)        기본소득과 장애인복지 논의간담회   \n",
       "1  복지본부 장애인복지정책과  2017-01-25 22:41     김앤장 (중구 무교로)         장애인단체 활동지원 논의간담회   \n",
       "2  복지본부 장애인복지정책과  2017-01-24 12:35   왕왕생고기 (중구 을지로)      장애인 기본돌봄 복지시책 논의간담회   \n",
       "3  복지본부 장애인복지정책과  2017-01-24 12:23  서울불고기 (중구 남대문로)  서울시일자리통합지원센터 운영개선 논의간담회   \n",
       "4  복지본부 장애인복지정책과  2017-01-23 15:10          서울시청신매점         부서운영에 필요한 음료수 구매   \n",
       "\n",
       "             대상인원  결제방법    집행금액  \n",
       "0  장애인복지정책팀장 외 2명    카드   76000  \n",
       "1  장애인복지정책과장 외 3명    카드  102000  \n",
       "2    장애인복지정책팀장외7명    카드   80000  \n",
       "3    장애인복지정책과장외5명    카드  112000  \n",
       "4      장애인복지정책과직원    카드   16000  "
      ]
     },
     "execution_count": 79,
     "metadata": {},
     "output_type": "execute_result"
    }
   ],
   "source": [
    "df_expense_all.head()"
   ]
  },
  {
   "cell_type": "markdown",
   "metadata": {},
   "source": [
    "### 연도별 추이 분석"
   ]
  },
  {
   "cell_type": "code",
   "execution_count": 82,
   "metadata": {},
   "outputs": [
    {
     "data": {
      "text/plain": [
       "2019    74038\n",
       "2018    72218\n",
       "2017    70132\n",
       "Name:                 집행년도, dtype: int64"
      ]
     },
     "execution_count": 82,
     "metadata": {},
     "output_type": "execute_result"
    }
   ],
   "source": [
    "year_expense = df_expense_all['                집행년도'].value_counts()\n",
    "year_expense"
   ]
  },
  {
   "cell_type": "code",
   "execution_count": 84,
   "metadata": {},
   "outputs": [
    {
     "data": {
      "image/png": "[encoded data removed]",
      "text/plain": [
       "<Figure size 432x288 with 1 Axes>"
      ]
     },
     "metadata": {
      "needs_background": "light"
     },
     "output_type": "display_data"
    }
   ],
   "source": [
    "import pandas as pd\n",
    "import matplotlib.pyplot as plt\n",
    "import matplotlib\n",
    "\n",
    "# matplotlib.rcParams['font.family'] = 'Malgun Gothic'\n",
    "# matplotlib.rcParams['axes.unicode_minus'] = False\n",
    "\n",
    "plt.bar(year_expense.index, year_expense.values, tick_label = year_expense.index, width = 0.5)\n",
    "plt.title(\"연도별 업무추진비 집행 횟수\")\n",
    "plt.xlabel(\"연도\")\n",
    "plt.ylabel(\"집행 횟수\")\n",
    "plt.show()"
   ]
  },
  {
   "cell_type": "code",
   "execution_count": 87,
   "metadata": {},
   "outputs": [
    {
     "data": {
      "text/html": [
       "<div>\n",
       "<style scoped>\n",
       "    .dataframe tbody tr th:only-of-type {\n",
       "        vertical-align: middle;\n",
       "    }\n",
       "\n",
       "    .dataframe tbody tr th {\n",
       "        vertical-align: top;\n",
       "    }\n",
       "\n",
       "    .dataframe thead th {\n",
       "        text-align: right;\n",
       "    }\n",
       "</style>\n",
       "<table border=\"1\" class=\"dataframe\">\n",
       "  <thead>\n",
       "    <tr style=\"text-align: right;\">\n",
       "      <th></th>\n",
       "      <th>집행금액</th>\n",
       "    </tr>\n",
       "    <tr>\n",
       "      <th>집행년도</th>\n",
       "      <th></th>\n",
       "    </tr>\n",
       "  </thead>\n",
       "  <tbody>\n",
       "    <tr>\n",
       "      <th>2017</th>\n",
       "      <td>9076941387</td>\n",
       "    </tr>\n",
       "    <tr>\n",
       "      <th>2018</th>\n",
       "      <td>9937556542</td>\n",
       "    </tr>\n",
       "    <tr>\n",
       "      <th>2019</th>\n",
       "      <td>10508713232</td>\n",
       "    </tr>\n",
       "  </tbody>\n",
       "</table>\n",
       "</div>"
      ],
      "text/plain": [
       "                             집행금액\n",
       "                집행년도             \n",
       "2017                   9076941387\n",
       "2018                   9937556542\n",
       "2019                  10508713232"
      ]
     },
     "execution_count": 87,
     "metadata": {},
     "output_type": "execute_result"
    }
   ],
   "source": [
    "import pandas as pd\n",
    "\n",
    "year_total = pd.pivot_table(df_expense_all, index = ['                집행년도'],values=[' 집행금액'],aggfunc=sum)\n",
    "year_total"
   ]
  },
  {
   "cell_type": "code",
   "execution_count": 88,
   "metadata": {},
   "outputs": [
    {
     "data": {
      "image/png": "[encoded data removed]",
      "text/plain": [
       "<Figure size 432x288 with 1 Axes>"
      ]
     },
     "metadata": {
      "needs_background": "light"
     },
     "output_type": "display_data"
    }
   ],
   "source": [
    "import pandas as pd\n",
    "import matplotlib.pyplot as plt\n",
    "import matplotlib\n",
    "\n",
    "eok_won = 100000000\n",
    "(year_total/eok_won).plot.bar(rot=0)\n",
    "plt.ylabel('집행금액(억원)')\n",
    "plt.show()"
   ]
  },
  {
   "cell_type": "markdown",
   "metadata": {},
   "source": [
    "### 월별 집행금액 분석"
   ]
  },
  {
   "cell_type": "code",
   "execution_count": 90,
   "metadata": {},
   "outputs": [
    {
     "data": {
      "text/html": [
       "<div>\n",
       "<style scoped>\n",
       "    .dataframe tbody tr th:only-of-type {\n",
       "        vertical-align: middle;\n",
       "    }\n",
       "\n",
       "    .dataframe tbody tr th {\n",
       "        vertical-align: top;\n",
       "    }\n",
       "\n",
       "    .dataframe thead th {\n",
       "        text-align: right;\n",
       "    }\n",
       "</style>\n",
       "<table border=\"1\" class=\"dataframe\">\n",
       "  <thead>\n",
       "    <tr style=\"text-align: right;\">\n",
       "      <th></th>\n",
       "      <th>집행금액</th>\n",
       "    </tr>\n",
       "    <tr>\n",
       "      <th>집행월</th>\n",
       "      <th></th>\n",
       "    </tr>\n",
       "  </thead>\n",
       "  <tbody>\n",
       "    <tr>\n",
       "      <th>1</th>\n",
       "      <td>2328469179</td>\n",
       "    </tr>\n",
       "    <tr>\n",
       "      <th>2</th>\n",
       "      <td>2250971737</td>\n",
       "    </tr>\n",
       "    <tr>\n",
       "      <th>3</th>\n",
       "      <td>2314589911</td>\n",
       "    </tr>\n",
       "    <tr>\n",
       "      <th>4</th>\n",
       "      <td>2153704599</td>\n",
       "    </tr>\n",
       "    <tr>\n",
       "      <th>5</th>\n",
       "      <td>2063883588</td>\n",
       "    </tr>\n",
       "    <tr>\n",
       "      <th>6</th>\n",
       "      <td>2224855495</td>\n",
       "    </tr>\n",
       "    <tr>\n",
       "      <th>7</th>\n",
       "      <td>2372256669</td>\n",
       "    </tr>\n",
       "    <tr>\n",
       "      <th>8</th>\n",
       "      <td>2146192369</td>\n",
       "    </tr>\n",
       "    <tr>\n",
       "      <th>9</th>\n",
       "      <td>2413400065</td>\n",
       "    </tr>\n",
       "    <tr>\n",
       "      <th>10</th>\n",
       "      <td>2320434098</td>\n",
       "    </tr>\n",
       "    <tr>\n",
       "      <th>11</th>\n",
       "      <td>2713468084</td>\n",
       "    </tr>\n",
       "    <tr>\n",
       "      <th>12</th>\n",
       "      <td>4220985367</td>\n",
       "    </tr>\n",
       "  </tbody>\n",
       "</table>\n",
       "</div>"
      ],
      "text/plain": [
       "            집행금액\n",
       " 집행월            \n",
       "1     2328469179\n",
       "2     2250971737\n",
       "3     2314589911\n",
       "4     2153704599\n",
       "5     2063883588\n",
       "6     2224855495\n",
       "7     2372256669\n",
       "8     2146192369\n",
       "9     2413400065\n",
       "10    2320434098\n",
       "11    2713468084\n",
       "12    4220985367"
      ]
     },
     "execution_count": 90,
     "metadata": {},
     "output_type": "execute_result"
    }
   ],
   "source": [
    "month_total = pd.pivot_table(df_expense_all,index=[' 집행월'],values=[' 집행금액'], aggfunc = sum)\n",
    "month_total"
   ]
  },
  {
   "cell_type": "code",
   "execution_count": 91,
   "metadata": {},
   "outputs": [
    {
     "data": {
      "text/html": [
       "<div>\n",
       "<style scoped>\n",
       "    .dataframe tbody tr th:only-of-type {\n",
       "        vertical-align: middle;\n",
       "    }\n",
       "\n",
       "    .dataframe tbody tr th {\n",
       "        vertical-align: top;\n",
       "    }\n",
       "\n",
       "    .dataframe thead tr th {\n",
       "        text-align: left;\n",
       "    }\n",
       "\n",
       "    .dataframe thead tr:last-of-type th {\n",
       "        text-align: right;\n",
       "    }\n",
       "</style>\n",
       "<table border=\"1\" class=\"dataframe\">\n",
       "  <thead>\n",
       "    <tr>\n",
       "      <th></th>\n",
       "      <th colspan=\"3\" halign=\"left\">집행금액</th>\n",
       "    </tr>\n",
       "    <tr>\n",
       "      <th>집행년도</th>\n",
       "      <th>2017</th>\n",
       "      <th>2018</th>\n",
       "      <th>2019</th>\n",
       "    </tr>\n",
       "    <tr>\n",
       "      <th>집행월</th>\n",
       "      <th></th>\n",
       "      <th></th>\n",
       "      <th></th>\n",
       "    </tr>\n",
       "  </thead>\n",
       "  <tbody>\n",
       "    <tr>\n",
       "      <th>1</th>\n",
       "      <td>710368860</td>\n",
       "      <td>735587570</td>\n",
       "      <td>882512749</td>\n",
       "    </tr>\n",
       "    <tr>\n",
       "      <th>2</th>\n",
       "      <td>712679864</td>\n",
       "      <td>769360005</td>\n",
       "      <td>768931868</td>\n",
       "    </tr>\n",
       "    <tr>\n",
       "      <th>3</th>\n",
       "      <td>737250454</td>\n",
       "      <td>761059010</td>\n",
       "      <td>816280447</td>\n",
       "    </tr>\n",
       "    <tr>\n",
       "      <th>4</th>\n",
       "      <td>635265805</td>\n",
       "      <td>703781418</td>\n",
       "      <td>814657376</td>\n",
       "    </tr>\n",
       "    <tr>\n",
       "      <th>5</th>\n",
       "      <td>647582378</td>\n",
       "      <td>669044701</td>\n",
       "      <td>747256509</td>\n",
       "    </tr>\n",
       "    <tr>\n",
       "      <th>6</th>\n",
       "      <td>758257342</td>\n",
       "      <td>690652154</td>\n",
       "      <td>775945999</td>\n",
       "    </tr>\n",
       "    <tr>\n",
       "      <th>7</th>\n",
       "      <td>701604626</td>\n",
       "      <td>788926477</td>\n",
       "      <td>881725566</td>\n",
       "    </tr>\n",
       "    <tr>\n",
       "      <th>8</th>\n",
       "      <td>661174850</td>\n",
       "      <td>730290532</td>\n",
       "      <td>754726987</td>\n",
       "    </tr>\n",
       "    <tr>\n",
       "      <th>9</th>\n",
       "      <td>806170700</td>\n",
       "      <td>769404957</td>\n",
       "      <td>837824408</td>\n",
       "    </tr>\n",
       "    <tr>\n",
       "      <th>10</th>\n",
       "      <td>637219943</td>\n",
       "      <td>827022975</td>\n",
       "      <td>856191180</td>\n",
       "    </tr>\n",
       "    <tr>\n",
       "      <th>11</th>\n",
       "      <td>843619171</td>\n",
       "      <td>960310221</td>\n",
       "      <td>909538692</td>\n",
       "    </tr>\n",
       "    <tr>\n",
       "      <th>12</th>\n",
       "      <td>1225747394</td>\n",
       "      <td>1532116522</td>\n",
       "      <td>1463121451</td>\n",
       "    </tr>\n",
       "  </tbody>\n",
       "</table>\n",
       "</div>"
      ],
      "text/plain": [
       "                            집행금액                        \n",
       "                집행년도        2017        2018        2019\n",
       " 집행월                                                    \n",
       "1                      710368860   735587570   882512749\n",
       "2                      712679864   769360005   768931868\n",
       "3                      737250454   761059010   816280447\n",
       "4                      635265805   703781418   814657376\n",
       "5                      647582378   669044701   747256509\n",
       "6                      758257342   690652154   775945999\n",
       "7                      701604626   788926477   881725566\n",
       "8                      661174850   730290532   754726987\n",
       "9                      806170700   769404957   837824408\n",
       "10                     637219943   827022975   856191180\n",
       "11                     843619171   960310221   909538692\n",
       "12                    1225747394  1532116522  1463121451"
      ]
     },
     "execution_count": 91,
     "metadata": {},
     "output_type": "execute_result"
    }
   ],
   "source": [
    "year_month_total = pd.pivot_table(df_expense_all, index=[' 집행월'], columns=['                집행년도'], values = [' 집행금액'], aggfunc = sum)\n",
    "year_month_total"
   ]
  },
  {
   "cell_type": "code",
   "execution_count": 92,
   "metadata": {},
   "outputs": [
    {
     "data": {
      "image/png": "[encoded data removed]",
      "text/plain": [
       "<Figure size 432x288 with 1 Axes>"
      ]
     },
     "metadata": {
      "needs_background": "light"
     },
     "output_type": "display_data"
    }
   ],
   "source": [
    "eok_won = 10000000\n",
    "\n",
    "(year_month_total/eok_won).plot.bar(rot=0)\n",
    "plt.ylabel('집행금액(억원)')\n",
    "plt.xlabel('업무추진비의 월별 집행금액')\n",
    "plt.legend(['2016년','2017년','2018년'])\n",
    "plt.show()"
   ]
  },
  {
   "cell_type": "markdown",
   "metadata": {},
   "source": [
    "### 부서별 집행 내역 분석"
   ]
  },
  {
   "cell_type": "code",
   "execution_count": 93,
   "metadata": {},
   "outputs": [
    {
     "data": {
      "text/html": [
       "<div>\n",
       "<style scoped>\n",
       "    .dataframe tbody tr th:only-of-type {\n",
       "        vertical-align: middle;\n",
       "    }\n",
       "\n",
       "    .dataframe tbody tr th {\n",
       "        vertical-align: top;\n",
       "    }\n",
       "\n",
       "    .dataframe thead th {\n",
       "        text-align: right;\n",
       "    }\n",
       "</style>\n",
       "<table border=\"1\" class=\"dataframe\">\n",
       "  <thead>\n",
       "    <tr style=\"text-align: right;\">\n",
       "      <th></th>\n",
       "      <th>집행금액</th>\n",
       "    </tr>\n",
       "    <tr>\n",
       "      <th>부서레벨1</th>\n",
       "      <th></th>\n",
       "    </tr>\n",
       "  </thead>\n",
       "  <tbody>\n",
       "    <tr>\n",
       "      <th>사업소</th>\n",
       "      <td>6552128899</td>\n",
       "    </tr>\n",
       "    <tr>\n",
       "      <th>서울시본청</th>\n",
       "      <td>16586817719</td>\n",
       "    </tr>\n",
       "    <tr>\n",
       "      <th>소방재난본부(소방서)</th>\n",
       "      <td>5147645293</td>\n",
       "    </tr>\n",
       "    <tr>\n",
       "      <th>의회사무처</th>\n",
       "      <td>1236619250</td>\n",
       "    </tr>\n",
       "  </tbody>\n",
       "</table>\n",
       "</div>"
      ],
      "text/plain": [
       "                    집행금액\n",
       " 부서레벨1                  \n",
       "사업소           6552128899\n",
       "서울시본청        16586817719\n",
       "소방재난본부(소방서)   5147645293\n",
       "의회사무처         1236619250"
      ]
     },
     "execution_count": 93,
     "metadata": {},
     "output_type": "execute_result"
    }
   ],
   "source": [
    "dept_level1_total = pd.pivot_table(df_expense_all, index = [' 부서레벨1'], values = [' 집행금액'],aggfunc=sum)\n",
    "dept_level1_total"
   ]
  },
  {
   "cell_type": "code",
   "execution_count": 94,
   "metadata": {},
   "outputs": [
    {
     "data": {
      "text/html": [
       "<div>\n",
       "<style scoped>\n",
       "    .dataframe tbody tr th:only-of-type {\n",
       "        vertical-align: middle;\n",
       "    }\n",
       "\n",
       "    .dataframe tbody tr th {\n",
       "        vertical-align: top;\n",
       "    }\n",
       "\n",
       "    .dataframe thead th {\n",
       "        text-align: right;\n",
       "    }\n",
       "</style>\n",
       "<table border=\"1\" class=\"dataframe\">\n",
       "  <thead>\n",
       "    <tr style=\"text-align: right;\">\n",
       "      <th></th>\n",
       "      <th>집행금액</th>\n",
       "    </tr>\n",
       "    <tr>\n",
       "      <th>부서레벨2</th>\n",
       "      <th></th>\n",
       "    </tr>\n",
       "  </thead>\n",
       "  <tbody>\n",
       "    <tr>\n",
       "      <th>119특수구조단</th>\n",
       "      <td>119225100</td>\n",
       "    </tr>\n",
       "    <tr>\n",
       "      <th>감사위원회</th>\n",
       "      <td>343281170</td>\n",
       "    </tr>\n",
       "    <tr>\n",
       "      <th>강남소방서</th>\n",
       "      <td>229660520</td>\n",
       "    </tr>\n",
       "    <tr>\n",
       "      <th>강동소방서</th>\n",
       "      <td>188773330</td>\n",
       "    </tr>\n",
       "    <tr>\n",
       "      <th>강북소방서</th>\n",
       "      <td>167700000</td>\n",
       "    </tr>\n",
       "  </tbody>\n",
       "</table>\n",
       "</div>"
      ],
      "text/plain": [
       "               집행금액\n",
       " 부서레벨2             \n",
       "119특수구조단  119225100\n",
       "감사위원회     343281170\n",
       "강남소방서     229660520\n",
       "강동소방서     188773330\n",
       "강북소방서     167700000"
      ]
     },
     "execution_count": 94,
     "metadata": {},
     "output_type": "execute_result"
    }
   ],
   "source": [
    "dept_level2_total = pd.pivot_table(df_expense_all, index = [' 부서레벨2'], values = [' 집행금액'],aggfunc=sum)\n",
    "dept_level2_total.head()"
   ]
  },
  {
   "cell_type": "code",
   "execution_count": 95,
   "metadata": {},
   "outputs": [
    {
     "data": {
      "text/html": [
       "<div>\n",
       "<style scoped>\n",
       "    .dataframe tbody tr th:only-of-type {\n",
       "        vertical-align: middle;\n",
       "    }\n",
       "\n",
       "    .dataframe tbody tr th {\n",
       "        vertical-align: top;\n",
       "    }\n",
       "\n",
       "    .dataframe thead th {\n",
       "        text-align: right;\n",
       "    }\n",
       "</style>\n",
       "<table border=\"1\" class=\"dataframe\">\n",
       "  <thead>\n",
       "    <tr style=\"text-align: right;\">\n",
       "      <th></th>\n",
       "      <th>집행금액</th>\n",
       "    </tr>\n",
       "    <tr>\n",
       "      <th>부서레벨2</th>\n",
       "      <th></th>\n",
       "    </tr>\n",
       "  </thead>\n",
       "  <tbody>\n",
       "    <tr>\n",
       "      <th>상수도사업본부</th>\n",
       "      <td>2156404778</td>\n",
       "    </tr>\n",
       "    <tr>\n",
       "      <th>기획조정실</th>\n",
       "      <td>1572753168</td>\n",
       "    </tr>\n",
       "    <tr>\n",
       "      <th>행정국</th>\n",
       "      <td>1320839804</td>\n",
       "    </tr>\n",
       "    <tr>\n",
       "      <th>서울특별시장</th>\n",
       "      <td>955448760</td>\n",
       "    </tr>\n",
       "    <tr>\n",
       "      <th>시민소통기획관</th>\n",
       "      <td>923338423</td>\n",
       "    </tr>\n",
       "    <tr>\n",
       "      <th>도시기반시설본부</th>\n",
       "      <td>620669144</td>\n",
       "    </tr>\n",
       "    <tr>\n",
       "      <th>정무부시장</th>\n",
       "      <td>581806882</td>\n",
       "    </tr>\n",
       "    <tr>\n",
       "      <th>행정1부시장</th>\n",
       "      <td>540457390</td>\n",
       "    </tr>\n",
       "    <tr>\n",
       "      <th>행정2부시장</th>\n",
       "      <td>522277598</td>\n",
       "    </tr>\n",
       "    <tr>\n",
       "      <th>기후환경본부</th>\n",
       "      <td>515222890</td>\n",
       "    </tr>\n",
       "  </tbody>\n",
       "</table>\n",
       "</div>"
      ],
      "text/plain": [
       "                집행금액\n",
       " 부서레벨2              \n",
       "상수도사업본부   2156404778\n",
       "기획조정실     1572753168\n",
       "행정국       1320839804\n",
       "서울특별시장     955448760\n",
       "시민소통기획관    923338423\n",
       "도시기반시설본부   620669144\n",
       "정무부시장      581806882\n",
       "행정1부시장     540457390\n",
       "행정2부시장     522277598\n",
       "기후환경본부     515222890"
      ]
     },
     "execution_count": 95,
     "metadata": {},
     "output_type": "execute_result"
    }
   ],
   "source": [
    "dept_level2_total_top10 = dept_level2_total.sort_values(by=[' 집행금액'], ascending = False)[0:10]\n",
    "dept_level2_total_top10"
   ]
  },
  {
   "cell_type": "code",
   "execution_count": 98,
   "metadata": {},
   "outputs": [
    {
     "data": {
      "image/png": "[encoded data removed]",
      "text/plain": [
       "<Figure size 432x288 with 1 Axes>"
      ]
     },
     "metadata": {
      "needs_background": "light"
     },
     "output_type": "display_data"
    }
   ],
   "source": [
    "eok_won = 100000000\n",
    "\n",
    "(dept_level2_total_top10/eok_won).plot.bar(rot=80)\n",
    "plt.ylabel('집행금액(억원)')\n",
    "plt.title(\"업무추진비 집행금액이 높은 상위 10개 부서\")\n",
    "plt.show()"
   ]
  },
  {
   "cell_type": "code",
   "execution_count": 99,
   "metadata": {},
   "outputs": [
    {
     "name": "stdout",
     "output_type": "stream",
     "text": [
      "Collecting wordcloud\n",
      "  Downloading https://files.pythonhosted.org/packages/65/41/abefdda082c7b211248e412fb2c7a8dc69d474f18ed61a5a784f20f73bb7/wordcloud-1.7.0-cp37-cp37m-win_amd64.whl (157kB)\n",
      "Requirement already satisfied: pillow in c:\\anaconda\\lib\\site-packages (from wordcloud) (6.1.0)\n",
      "Requirement already satisfied: matplotlib in c:\\anaconda\\lib\\site-packages (from wordcloud) (3.1.0)\n",
      "Requirement already satisfied: numpy>=1.6.1 in c:\\anaconda\\lib\\site-packages (from wordcloud) (1.16.4)\n",
      "Requirement already satisfied: cycler>=0.10 in c:\\anaconda\\lib\\site-packages (from matplotlib->wordcloud) (0.10.0)\n",
      "Requirement already satisfied: kiwisolver>=1.0.1 in c:\\anaconda\\lib\\site-packages (from matplotlib->wordcloud) (1.1.0)\n",
      "Requirement already satisfied: pyparsing!=2.0.4,!=2.1.2,!=2.1.6,>=2.0.1 in c:\\anaconda\\lib\\site-packages (from matplotlib->wordcloud) (2.4.0)\n",
      "Requirement already satisfied: python-dateutil>=2.1 in c:\\anaconda\\lib\\site-packages (from matplotlib->wordcloud) (2.8.0)\n",
      "Requirement already satisfied: six in c:\\anaconda\\lib\\site-packages (from cycler>=0.10->matplotlib->wordcloud) (1.12.0)\n",
      "Requirement already satisfied: setuptools in c:\\anaconda\\lib\\site-packages (from kiwisolver>=1.0.1->matplotlib->wordcloud) (41.0.1)\n",
      "Installing collected packages: wordcloud\n",
      "Successfully installed wordcloud-1.7.0\n"
     ]
    }
   ],
   "source": [
    "!pip install wordcloud"
   ]
  },
  {
   "cell_type": "code",
   "execution_count": 100,
   "metadata": {},
   "outputs": [
    {
     "data": {
      "image/png": "[encoded data removed]",
      "text/plain": [
       "<Figure size 864x648 with 1 Axes>"
      ]
     },
     "metadata": {
      "needs_background": "light"
     },
     "output_type": "display_data"
    }
   ],
   "source": [
    "import matplotlib.pyplot as plt\n",
    "from wordcloud import WordCloud\n",
    "\n",
    "korean_font_path = 'C:/Windows/Fonts/malgun.ttf'\n",
    "\n",
    "wc = WordCloud(font_path=korean_font_path, background_color = 'white', width=800, height=600)\n",
    "\n",
    "frequencies = dept_level2_total[' 집행금액']\n",
    "wordcloud_image = wc.generate_from_frequencies(frequencies)\n",
    "plt.figure(figsize=(12,9))\n",
    "plt.axis('off')\n",
    "plt.imshow(wordcloud_image,interpolation = 'bilinear')\n",
    "plt.show()"
   ]
  },
  {
   "cell_type": "markdown",
   "metadata": {},
   "source": [
    "### 요일별 및 시간대별 집행 내역 분석"
   ]
  },
  {
   "cell_type": "code",
   "execution_count": 101,
   "metadata": {},
   "outputs": [
    {
     "data": {
      "text/plain": [
       "array(['2017-01-26 13:10', '2017-01-25 22:41', '2017-01-24 12:35', ...,\n",
       "       '2019-11-28 13:13', '2019-11-28 12:53', '2019-12-06 13:54'],\n",
       "      dtype=object)"
      ]
     },
     "execution_count": 101,
     "metadata": {},
     "output_type": "execute_result"
    }
   ],
   "source": [
    "df_expense_all[' 집행일시'].values"
   ]
  },
  {
   "cell_type": "code",
   "execution_count": 102,
   "metadata": {},
   "outputs": [
    {
     "data": {
      "text/plain": [
       "array(['2017-01-26T13:10:00.000000000', '2017-01-25T22:41:00.000000000',\n",
       "       '2017-01-24T12:35:00.000000000', ...,\n",
       "       '2019-11-28T13:13:00.000000000', '2019-11-28T12:53:00.000000000',\n",
       "       '2019-12-06T13:54:00.000000000'], dtype='datetime64[ns]')"
      ]
     },
     "execution_count": 102,
     "metadata": {},
     "output_type": "execute_result"
    }
   ],
   "source": [
    "expense_date_time = pd.to_datetime(df_expense_all[' 집행일시'])\n",
    "expense_date_time.values"
   ]
  },
  {
   "cell_type": "code",
   "execution_count": 105,
   "metadata": {},
   "outputs": [],
   "source": [
    "week_day_name = ['월','화','수','목','금','토','일']\n",
    "\n",
    "df_expense_all['집행일시_요일'] = [week_day_name[weekday] for weekday in expense_date_time.dt.weekday]"
   ]
  },
  {
   "cell_type": "code",
   "execution_count": 106,
   "metadata": {},
   "outputs": [],
   "source": [
    "df_expense_all['집행일시_시간'] = [hour for hour in expense_date_time.dt.hour]"
   ]
  },
  {
   "cell_type": "code",
   "execution_count": 107,
   "metadata": {},
   "outputs": [
    {
     "data": {
      "text/html": [
       "<div>\n",
       "<style scoped>\n",
       "    .dataframe tbody tr th:only-of-type {\n",
       "        vertical-align: middle;\n",
       "    }\n",
       "\n",
       "    .dataframe tbody tr th {\n",
       "        vertical-align: top;\n",
       "    }\n",
       "\n",
       "    .dataframe thead th {\n",
       "        text-align: right;\n",
       "    }\n",
       "</style>\n",
       "<table border=\"1\" class=\"dataframe\">\n",
       "  <thead>\n",
       "    <tr style=\"text-align: right;\">\n",
       "      <th></th>\n",
       "      <th>제목</th>\n",
       "      <th>부서레벨1</th>\n",
       "      <th>부서레벨2</th>\n",
       "      <th>집행년도</th>\n",
       "      <th>집행월</th>\n",
       "      <th>부서명</th>\n",
       "      <th>집행일시</th>\n",
       "      <th>집행장소</th>\n",
       "      <th>집행목적</th>\n",
       "      <th>대상인원</th>\n",
       "      <th>결제방법</th>\n",
       "      <th>집행금액</th>\n",
       "      <th>집행일시_요일</th>\n",
       "      <th>집행일시_시간</th>\n",
       "    </tr>\n",
       "  </thead>\n",
       "  <tbody>\n",
       "    <tr>\n",
       "      <th>0</th>\n",
       "      <td>2017년 1월 장애인복지정책과 업무추진비 집행내역</td>\n",
       "      <td>서울시본청</td>\n",
       "      <td>복지본부</td>\n",
       "      <td>2017</td>\n",
       "      <td>1</td>\n",
       "      <td>복지본부 장애인복지정책과</td>\n",
       "      <td>2017-01-26 13:10</td>\n",
       "      <td>동해일식 (중구 무교동)</td>\n",
       "      <td>기본소득과 장애인복지 논의간담회</td>\n",
       "      <td>장애인복지정책팀장 외 2명</td>\n",
       "      <td>카드</td>\n",
       "      <td>76000</td>\n",
       "      <td>목</td>\n",
       "      <td>13</td>\n",
       "    </tr>\n",
       "    <tr>\n",
       "      <th>1</th>\n",
       "      <td>2017년 1월 장애인복지정책과 업무추진비 집행내역</td>\n",
       "      <td>서울시본청</td>\n",
       "      <td>복지본부</td>\n",
       "      <td>2017</td>\n",
       "      <td>1</td>\n",
       "      <td>복지본부 장애인복지정책과</td>\n",
       "      <td>2017-01-25 22:41</td>\n",
       "      <td>김앤장 (중구 무교로)</td>\n",
       "      <td>장애인단체 활동지원 논의간담회</td>\n",
       "      <td>장애인복지정책과장 외 3명</td>\n",
       "      <td>카드</td>\n",
       "      <td>102000</td>\n",
       "      <td>수</td>\n",
       "      <td>22</td>\n",
       "    </tr>\n",
       "    <tr>\n",
       "      <th>2</th>\n",
       "      <td>2017년 1월 장애인복지정책과 업무추진비 집행내역</td>\n",
       "      <td>서울시본청</td>\n",
       "      <td>복지본부</td>\n",
       "      <td>2017</td>\n",
       "      <td>1</td>\n",
       "      <td>복지본부 장애인복지정책과</td>\n",
       "      <td>2017-01-24 12:35</td>\n",
       "      <td>왕왕생고기 (중구 을지로)</td>\n",
       "      <td>장애인 기본돌봄 복지시책 논의간담회</td>\n",
       "      <td>장애인복지정책팀장외7명</td>\n",
       "      <td>카드</td>\n",
       "      <td>80000</td>\n",
       "      <td>화</td>\n",
       "      <td>12</td>\n",
       "    </tr>\n",
       "    <tr>\n",
       "      <th>3</th>\n",
       "      <td>2017년 1월 장애인복지정책과 업무추진비 집행내역</td>\n",
       "      <td>서울시본청</td>\n",
       "      <td>복지본부</td>\n",
       "      <td>2017</td>\n",
       "      <td>1</td>\n",
       "      <td>복지본부 장애인복지정책과</td>\n",
       "      <td>2017-01-24 12:23</td>\n",
       "      <td>서울불고기 (중구 남대문로)</td>\n",
       "      <td>서울시일자리통합지원센터 운영개선 논의간담회</td>\n",
       "      <td>장애인복지정책과장외5명</td>\n",
       "      <td>카드</td>\n",
       "      <td>112000</td>\n",
       "      <td>화</td>\n",
       "      <td>12</td>\n",
       "    </tr>\n",
       "    <tr>\n",
       "      <th>4</th>\n",
       "      <td>2017년 1월 장애인복지정책과 업무추진비 집행내역</td>\n",
       "      <td>서울시본청</td>\n",
       "      <td>복지본부</td>\n",
       "      <td>2017</td>\n",
       "      <td>1</td>\n",
       "      <td>복지본부 장애인복지정책과</td>\n",
       "      <td>2017-01-23 15:10</td>\n",
       "      <td>서울시청신매점</td>\n",
       "      <td>부서운영에 필요한 음료수 구매</td>\n",
       "      <td>장애인복지정책과직원</td>\n",
       "      <td>카드</td>\n",
       "      <td>16000</td>\n",
       "      <td>월</td>\n",
       "      <td>15</td>\n",
       "    </tr>\n",
       "  </tbody>\n",
       "</table>\n",
       "</div>"
      ],
      "text/plain": [
       "                             제목  부서레벨1  부서레벨2                  집행년도   집행월  \\\n",
       "0  2017년 1월 장애인복지정책과 업무추진비 집행내역  서울시본청   복지본부                  2017     1   \n",
       "1  2017년 1월 장애인복지정책과 업무추진비 집행내역  서울시본청   복지본부                  2017     1   \n",
       "2  2017년 1월 장애인복지정책과 업무추진비 집행내역  서울시본청   복지본부                  2017     1   \n",
       "3  2017년 1월 장애인복지정책과 업무추진비 집행내역  서울시본청   복지본부                  2017     1   \n",
       "4  2017년 1월 장애인복지정책과 업무추진비 집행내역  서울시본청   복지본부                  2017     1   \n",
       "\n",
       "             부서명              집행일시             집행장소                     집행목적  \\\n",
       "0  복지본부 장애인복지정책과  2017-01-26 13:10    동해일식 (중구 무교동)        기본소득과 장애인복지 논의간담회   \n",
       "1  복지본부 장애인복지정책과  2017-01-25 22:41     김앤장 (중구 무교로)         장애인단체 활동지원 논의간담회   \n",
       "2  복지본부 장애인복지정책과  2017-01-24 12:35   왕왕생고기 (중구 을지로)      장애인 기본돌봄 복지시책 논의간담회   \n",
       "3  복지본부 장애인복지정책과  2017-01-24 12:23  서울불고기 (중구 남대문로)  서울시일자리통합지원센터 운영개선 논의간담회   \n",
       "4  복지본부 장애인복지정책과  2017-01-23 15:10          서울시청신매점         부서운영에 필요한 음료수 구매   \n",
       "\n",
       "             대상인원  결제방법    집행금액 집행일시_요일  집행일시_시간  \n",
       "0  장애인복지정책팀장 외 2명    카드   76000       목       13  \n",
       "1  장애인복지정책과장 외 3명    카드  102000       수       22  \n",
       "2    장애인복지정책팀장외7명    카드   80000       화       12  \n",
       "3    장애인복지정책과장외5명    카드  112000       화       12  \n",
       "4      장애인복지정책과직원    카드   16000       월       15  "
      ]
     },
     "execution_count": 107,
     "metadata": {},
     "output_type": "execute_result"
    }
   ],
   "source": [
    "df_expense_all.head()"
   ]
  },
  {
   "cell_type": "code",
   "execution_count": 108,
   "metadata": {},
   "outputs": [
    {
     "data": {
      "text/plain": [
       "목    45652\n",
       "화    43767\n",
       "수    42309\n",
       "금    41350\n",
       "월    39470\n",
       "토     2238\n",
       "일     1602\n",
       "Name: 집행일시_요일, dtype: int64"
      ]
     },
     "execution_count": 108,
     "metadata": {},
     "output_type": "execute_result"
    }
   ],
   "source": [
    "expense_weekday = df_expense_all['집행일시_요일'].value_counts()\n",
    "expense_weekday"
   ]
  },
  {
   "cell_type": "code",
   "execution_count": 109,
   "metadata": {},
   "outputs": [
    {
     "data": {
      "text/plain": [
       "월    39470\n",
       "화    43767\n",
       "수    42309\n",
       "목    45652\n",
       "금    41350\n",
       "토     2238\n",
       "일     1602\n",
       "Name: 집행일시_요일, dtype: int64"
      ]
     },
     "execution_count": 109,
     "metadata": {},
     "output_type": "execute_result"
    }
   ],
   "source": [
    "expense_weekday = expense_weekday.reindex(index = week_day_name)\n",
    "expense_weekday"
   ]
  },
  {
   "cell_type": "code",
   "execution_count": 110,
   "metadata": {},
   "outputs": [
    {
     "data": {
      "image/png": "[encoded data removed]",
      "text/plain": [
       "<Figure size 432x288 with 1 Axes>"
      ]
     },
     "metadata": {
      "needs_background": "light"
     },
     "output_type": "display_data"
    }
   ],
   "source": [
    "expense_weekday.plot.bar(rot=0)\n",
    "plt.title(\"요일별 업무추진비 집행 횟수\")\n",
    "plt.xlabel(\"요일\")\n",
    "plt.ylabel(\"집행 횟수\")\n",
    "plt.show()"
   ]
  },
  {
   "cell_type": "code",
   "execution_count": 111,
   "metadata": {},
   "outputs": [
    {
     "data": {
      "text/plain": [
       "12    87462\n",
       "20    22989\n",
       "13    20952\n",
       "19    16756\n",
       "21    12195\n",
       "11     8354\n",
       "14     8305\n",
       "15     7167\n",
       "10     5822\n",
       "18     5779\n",
       "16     5170\n",
       "0      4919\n",
       "9      3485\n",
       "17     2889\n",
       "22     2555\n",
       "8       874\n",
       "7       411\n",
       "23      127\n",
       "1        44\n",
       "6        42\n",
       "3        27\n",
       "4        26\n",
       "5        19\n",
       "2        19\n",
       "Name: 집행일시_시간, dtype: int64"
      ]
     },
     "execution_count": 111,
     "metadata": {},
     "output_type": "execute_result"
    }
   ],
   "source": [
    "expense_hour_num = df_expense_all['집행일시_시간'].value_counts()\n",
    "expense_hour_num"
   ]
  },
  {
   "cell_type": "code",
   "execution_count": 113,
   "metadata": {},
   "outputs": [
    {
     "data": {
      "text/plain": [
       "8       874\n",
       "9      3485\n",
       "10     5822\n",
       "11     8354\n",
       "12    87462\n",
       "13    20952\n",
       "14     8305\n",
       "15     7167\n",
       "16     5170\n",
       "17     2889\n",
       "18     5779\n",
       "19    16756\n",
       "20    22989\n",
       "21    12195\n",
       "22     2555\n",
       "23      127\n",
       "0      4919\n",
       "1        44\n",
       "2        19\n",
       "3        27\n",
       "4        26\n",
       "5        19\n",
       "6        42\n",
       "7       411\n",
       "Name: 집행일시_시간, dtype: int64"
      ]
     },
     "execution_count": 113,
     "metadata": {},
     "output_type": "execute_result"
    }
   ],
   "source": [
    "#8시 기준으로 시작\n",
    "work_hour = [(k+8)%24 for k in range(24)]\n",
    "expense_hour_num = expense_hour_num.reindex(index= work_hour)\n",
    "expense_hour_num"
   ]
  },
  {
   "cell_type": "code",
   "execution_count": 114,
   "metadata": {},
   "outputs": [
    {
     "data": {
      "image/png": "[encoded data removed]",
      "text/plain": [
       "<Figure size 432x288 with 1 Axes>"
      ]
     },
     "metadata": {
      "needs_background": "light"
     },
     "output_type": "display_data"
    }
   ],
   "source": [
    "expense_hour_num.plot.bar(rot=0)\n",
    "plt.title(\"시간별 업무추진비 집행 횟수\")\n",
    "plt.xlabel(\"집행 시간\")\n",
    "plt.ylabel(\"집행 횟수\")\n",
    "plt.show()"
   ]
  },
  {
   "cell_type": "code",
   "execution_count": 116,
   "metadata": {},
   "outputs": [
    {
     "data": {
      "text/html": [
       "<div>\n",
       "<style scoped>\n",
       "    .dataframe tbody tr th:only-of-type {\n",
       "        vertical-align: middle;\n",
       "    }\n",
       "\n",
       "    .dataframe tbody tr th {\n",
       "        vertical-align: top;\n",
       "    }\n",
       "\n",
       "    .dataframe thead th {\n",
       "        text-align: right;\n",
       "    }\n",
       "</style>\n",
       "<table border=\"1\" class=\"dataframe\">\n",
       "  <thead>\n",
       "    <tr style=\"text-align: right;\">\n",
       "      <th></th>\n",
       "      <th>집행금액</th>\n",
       "    </tr>\n",
       "    <tr>\n",
       "      <th>집행일시_시간</th>\n",
       "      <th></th>\n",
       "    </tr>\n",
       "  </thead>\n",
       "  <tbody>\n",
       "    <tr>\n",
       "      <th>0</th>\n",
       "      <td>842523116</td>\n",
       "    </tr>\n",
       "    <tr>\n",
       "      <th>1</th>\n",
       "      <td>7024161</td>\n",
       "    </tr>\n",
       "    <tr>\n",
       "      <th>2</th>\n",
       "      <td>2265190</td>\n",
       "    </tr>\n",
       "    <tr>\n",
       "      <th>3</th>\n",
       "      <td>7215762</td>\n",
       "    </tr>\n",
       "    <tr>\n",
       "      <th>4</th>\n",
       "      <td>5818431</td>\n",
       "    </tr>\n",
       "  </tbody>\n",
       "</table>\n",
       "</div>"
      ],
      "text/plain": [
       "              집행금액\n",
       "집행일시_시간           \n",
       "0        842523116\n",
       "1          7024161\n",
       "2          2265190\n",
       "3          7215762\n",
       "4          5818431"
      ]
     },
     "execution_count": 116,
     "metadata": {},
     "output_type": "execute_result"
    }
   ],
   "source": [
    "expense_hour_total = pd.pivot_table(df_expense_all, index=['집행일시_시간'], values=[' 집행금액'],aggfunc = sum)\n",
    "expense_hour_total.head()"
   ]
  },
  {
   "cell_type": "code",
   "execution_count": 117,
   "metadata": {},
   "outputs": [
    {
     "data": {
      "image/png": "[encoded data removed]",
      "text/plain": [
       "<Figure size 432x288 with 1 Axes>"
      ]
     },
     "metadata": {
      "needs_background": "light"
     },
     "output_type": "display_data"
    }
   ],
   "source": [
    "eok_won = 100000000\n",
    "\n",
    "expense_hour_total = expense_hour_total.reindex(index = work_hour)\n",
    "\n",
    "(expense_hour_total/eok_won).plot.bar(rot=0)\n",
    "plt.ylabel('집행금액(억원)')\n",
    "plt.xlabel('시간대별 업무추진비 집행금액')\n",
    "plt.show()"
   ]
  },
  {
   "cell_type": "markdown",
   "metadata": {},
   "source": [
    "# 끝"
   ]
  },
  {
   "cell_type": "code",
   "execution_count": null,
   "metadata": {},
   "outputs": [],
   "source": []
  }
 ],
 "metadata": {
  "kernelspec": {
   "display_name": "Python 3",
   "language": "python",
   "name": "python3"
  },
  "language_info": {
   "codemirror_mode": {
    "name": "ipython",
    "version": 3
   },
   "file_extension": ".py",
   "mimetype": "text/x-python",
   "name": "python",
   "nbconvert_exporter": "python",
   "pygments_lexer": "ipython3",
   "version": "3.7.3"
  }
 },
 "nbformat": 4,
 "nbformat_minor": 2
}
